{
 "cells": [
  {
   "cell_type": "markdown",
   "metadata": {},
   "source": [
    "# Project No. 3 - Bouquet of Flowers\n",
    "### Authors:\n",
    "M. Alejandro Villalobos C.\n",
    "Óscar Ruiz Ramirez\n",
    "Sofía Vargas Aceves\n",
    "### Fecha:\n",
    "24 de Marzo, 2022\n",
    "### Description:\n",
    "Tercer proyecto Machine Learning. Bouquet of Flowers Classification"
   ]
  },
  {
   "cell_type": "markdown",
   "metadata": {},
   "source": [
    "## 1. DATA READ\n"
   ]
  },
  {
   "cell_type": "code",
   "execution_count": 44,
   "metadata": {},
   "outputs": [
    {
     "data": {
      "text/plain": [
       "Index(['n0', 'n1', 'n2', 'n3', 'n4', 'n5', 'n6', 'n7', 'n8', 'n9',\n",
       "       ...\n",
       "       'n2044', 'n2045', 'n2046', 'n2047', 'category', 'image name', 'image',\n",
       "       'size', 'width', 'height'],\n",
       "      dtype='object', length=2054)"
      ]
     },
     "execution_count": 44,
     "metadata": {},
     "output_type": "execute_result"
    }
   ],
   "source": [
    "import pandas as pd\n",
    "\n",
    "Dataset = pd.read_csv(\"./Embedded_images.csv\")\n",
    "\n",
    "\n",
    "Dataset.keys()"
   ]
  },
  {
   "cell_type": "code",
   "execution_count": 46,
   "metadata": {},
   "outputs": [
    {
     "ename": "KeyError",
     "evalue": "\"['image' 'image name' 'size' 'width' 'height'] not found in axis\"",
     "output_type": "error",
     "traceback": [
      "\u001b[1;31m---------------------------------------------------------------------------\u001b[0m",
      "\u001b[1;31mKeyError\u001b[0m                                  Traceback (most recent call last)",
      "\u001b[1;32m~\\AppData\\Local\\Temp\\ipykernel_30632\\3058901296.py\u001b[0m in \u001b[0;36m<module>\u001b[1;34m\u001b[0m\n\u001b[1;32m----> 1\u001b[1;33m \u001b[0mDataset\u001b[0m \u001b[1;33m=\u001b[0m \u001b[0mDataset\u001b[0m\u001b[1;33m.\u001b[0m\u001b[0mdrop\u001b[0m\u001b[1;33m(\u001b[0m\u001b[1;33m[\u001b[0m\u001b[1;34m'image'\u001b[0m\u001b[1;33m,\u001b[0m\u001b[1;34m'image name'\u001b[0m\u001b[1;33m,\u001b[0m \u001b[1;34m'size'\u001b[0m\u001b[1;33m,\u001b[0m \u001b[1;34m'width'\u001b[0m\u001b[1;33m,\u001b[0m\u001b[1;34m'height'\u001b[0m\u001b[1;33m]\u001b[0m\u001b[1;33m,\u001b[0m\u001b[0maxis\u001b[0m\u001b[1;33m=\u001b[0m\u001b[1;36m1\u001b[0m\u001b[1;33m)\u001b[0m\u001b[1;33m\u001b[0m\u001b[1;33m\u001b[0m\u001b[0m\n\u001b[0m\u001b[0;32m      2\u001b[0m \u001b[0mDataset\u001b[0m\u001b[1;33m[\u001b[0m\u001b[1;34m'category'\u001b[0m\u001b[1;33m]\u001b[0m \u001b[1;33m=\u001b[0m \u001b[0mDataset\u001b[0m\u001b[1;33m[\u001b[0m\u001b[1;34m'category'\u001b[0m\u001b[1;33m]\u001b[0m\u001b[1;33m.\u001b[0m\u001b[0mreplace\u001b[0m\u001b[1;33m(\u001b[0m\u001b[1;33m[\u001b[0m\u001b[1;34m'Camelia'\u001b[0m\u001b[1;33m,\u001b[0m \u001b[1;34m'Dahlia'\u001b[0m\u001b[1;33m,\u001b[0m \u001b[1;34m'Hydrangea'\u001b[0m\u001b[1;33m,\u001b[0m \u001b[1;34m'Lilies'\u001b[0m\u001b[1;33m,\u001b[0m \u001b[1;34m'Orchids'\u001b[0m\u001b[1;33m,\u001b[0m \u001b[1;34m'Peony'\u001b[0m\u001b[1;33m,\u001b[0m \u001b[1;34m'Ranunculus'\u001b[0m\u001b[1;33m,\u001b[0m \u001b[1;34m'Roses'\u001b[0m\u001b[1;33m,\u001b[0m \u001b[1;34m'Sunflowers'\u001b[0m\u001b[1;33m,\u001b[0m \u001b[1;34m'Tulips'\u001b[0m\u001b[1;33m]\u001b[0m\u001b[1;33m,\u001b[0m \u001b[1;33m[\u001b[0m\u001b[1;36m0\u001b[0m\u001b[1;33m,\u001b[0m\u001b[1;36m1\u001b[0m\u001b[1;33m,\u001b[0m\u001b[1;36m2\u001b[0m\u001b[1;33m,\u001b[0m\u001b[1;36m3\u001b[0m\u001b[1;33m,\u001b[0m\u001b[1;36m4\u001b[0m\u001b[1;33m,\u001b[0m\u001b[1;36m5\u001b[0m\u001b[1;33m,\u001b[0m\u001b[1;36m6\u001b[0m\u001b[1;33m,\u001b[0m\u001b[1;36m7\u001b[0m\u001b[1;33m,\u001b[0m\u001b[1;36m8\u001b[0m\u001b[1;33m,\u001b[0m\u001b[1;36m9\u001b[0m\u001b[1;33m]\u001b[0m\u001b[1;33m)\u001b[0m\u001b[1;33m\u001b[0m\u001b[1;33m\u001b[0m\u001b[0m\n\u001b[0;32m      3\u001b[0m \u001b[0mDataFrameFlowers\u001b[0m \u001b[1;33m=\u001b[0m \u001b[0mpd\u001b[0m\u001b[1;33m.\u001b[0m\u001b[0mDataFrame\u001b[0m\u001b[1;33m(\u001b[0m\u001b[0mDataset\u001b[0m\u001b[1;33m)\u001b[0m\u001b[1;33m\u001b[0m\u001b[1;33m\u001b[0m\u001b[0m\n",
      "\u001b[1;32m~\\anaconda3\\envs\\DeepEnvirom\\lib\\site-packages\\pandas\\util\\_decorators.py\u001b[0m in \u001b[0;36mwrapper\u001b[1;34m(*args, **kwargs)\u001b[0m\n\u001b[0;32m    309\u001b[0m                     \u001b[0mstacklevel\u001b[0m\u001b[1;33m=\u001b[0m\u001b[0mstacklevel\u001b[0m\u001b[1;33m,\u001b[0m\u001b[1;33m\u001b[0m\u001b[1;33m\u001b[0m\u001b[0m\n\u001b[0;32m    310\u001b[0m                 )\n\u001b[1;32m--> 311\u001b[1;33m             \u001b[1;32mreturn\u001b[0m \u001b[0mfunc\u001b[0m\u001b[1;33m(\u001b[0m\u001b[1;33m*\u001b[0m\u001b[0margs\u001b[0m\u001b[1;33m,\u001b[0m \u001b[1;33m**\u001b[0m\u001b[0mkwargs\u001b[0m\u001b[1;33m)\u001b[0m\u001b[1;33m\u001b[0m\u001b[1;33m\u001b[0m\u001b[0m\n\u001b[0m\u001b[0;32m    312\u001b[0m \u001b[1;33m\u001b[0m\u001b[0m\n\u001b[0;32m    313\u001b[0m         \u001b[1;32mreturn\u001b[0m \u001b[0mwrapper\u001b[0m\u001b[1;33m\u001b[0m\u001b[1;33m\u001b[0m\u001b[0m\n",
      "\u001b[1;32m~\\anaconda3\\envs\\DeepEnvirom\\lib\\site-packages\\pandas\\core\\frame.py\u001b[0m in \u001b[0;36mdrop\u001b[1;34m(self, labels, axis, index, columns, level, inplace, errors)\u001b[0m\n\u001b[0;32m   4911\u001b[0m             \u001b[0mlevel\u001b[0m\u001b[1;33m=\u001b[0m\u001b[0mlevel\u001b[0m\u001b[1;33m,\u001b[0m\u001b[1;33m\u001b[0m\u001b[1;33m\u001b[0m\u001b[0m\n\u001b[0;32m   4912\u001b[0m             \u001b[0minplace\u001b[0m\u001b[1;33m=\u001b[0m\u001b[0minplace\u001b[0m\u001b[1;33m,\u001b[0m\u001b[1;33m\u001b[0m\u001b[1;33m\u001b[0m\u001b[0m\n\u001b[1;32m-> 4913\u001b[1;33m             \u001b[0merrors\u001b[0m\u001b[1;33m=\u001b[0m\u001b[0merrors\u001b[0m\u001b[1;33m,\u001b[0m\u001b[1;33m\u001b[0m\u001b[1;33m\u001b[0m\u001b[0m\n\u001b[0m\u001b[0;32m   4914\u001b[0m         )\n\u001b[0;32m   4915\u001b[0m \u001b[1;33m\u001b[0m\u001b[0m\n",
      "\u001b[1;32m~\\anaconda3\\envs\\DeepEnvirom\\lib\\site-packages\\pandas\\core\\generic.py\u001b[0m in \u001b[0;36mdrop\u001b[1;34m(self, labels, axis, index, columns, level, inplace, errors)\u001b[0m\n\u001b[0;32m   4148\u001b[0m         \u001b[1;32mfor\u001b[0m \u001b[0maxis\u001b[0m\u001b[1;33m,\u001b[0m \u001b[0mlabels\u001b[0m \u001b[1;32min\u001b[0m \u001b[0maxes\u001b[0m\u001b[1;33m.\u001b[0m\u001b[0mitems\u001b[0m\u001b[1;33m(\u001b[0m\u001b[1;33m)\u001b[0m\u001b[1;33m:\u001b[0m\u001b[1;33m\u001b[0m\u001b[1;33m\u001b[0m\u001b[0m\n\u001b[0;32m   4149\u001b[0m             \u001b[1;32mif\u001b[0m \u001b[0mlabels\u001b[0m \u001b[1;32mis\u001b[0m \u001b[1;32mnot\u001b[0m \u001b[1;32mNone\u001b[0m\u001b[1;33m:\u001b[0m\u001b[1;33m\u001b[0m\u001b[1;33m\u001b[0m\u001b[0m\n\u001b[1;32m-> 4150\u001b[1;33m                 \u001b[0mobj\u001b[0m \u001b[1;33m=\u001b[0m \u001b[0mobj\u001b[0m\u001b[1;33m.\u001b[0m\u001b[0m_drop_axis\u001b[0m\u001b[1;33m(\u001b[0m\u001b[0mlabels\u001b[0m\u001b[1;33m,\u001b[0m \u001b[0maxis\u001b[0m\u001b[1;33m,\u001b[0m \u001b[0mlevel\u001b[0m\u001b[1;33m=\u001b[0m\u001b[0mlevel\u001b[0m\u001b[1;33m,\u001b[0m \u001b[0merrors\u001b[0m\u001b[1;33m=\u001b[0m\u001b[0merrors\u001b[0m\u001b[1;33m)\u001b[0m\u001b[1;33m\u001b[0m\u001b[1;33m\u001b[0m\u001b[0m\n\u001b[0m\u001b[0;32m   4151\u001b[0m \u001b[1;33m\u001b[0m\u001b[0m\n\u001b[0;32m   4152\u001b[0m         \u001b[1;32mif\u001b[0m \u001b[0minplace\u001b[0m\u001b[1;33m:\u001b[0m\u001b[1;33m\u001b[0m\u001b[1;33m\u001b[0m\u001b[0m\n",
      "\u001b[1;32m~\\anaconda3\\envs\\DeepEnvirom\\lib\\site-packages\\pandas\\core\\generic.py\u001b[0m in \u001b[0;36m_drop_axis\u001b[1;34m(self, labels, axis, level, errors)\u001b[0m\n\u001b[0;32m   4183\u001b[0m                 \u001b[0mnew_axis\u001b[0m \u001b[1;33m=\u001b[0m \u001b[0maxis\u001b[0m\u001b[1;33m.\u001b[0m\u001b[0mdrop\u001b[0m\u001b[1;33m(\u001b[0m\u001b[0mlabels\u001b[0m\u001b[1;33m,\u001b[0m \u001b[0mlevel\u001b[0m\u001b[1;33m=\u001b[0m\u001b[0mlevel\u001b[0m\u001b[1;33m,\u001b[0m \u001b[0merrors\u001b[0m\u001b[1;33m=\u001b[0m\u001b[0merrors\u001b[0m\u001b[1;33m)\u001b[0m\u001b[1;33m\u001b[0m\u001b[1;33m\u001b[0m\u001b[0m\n\u001b[0;32m   4184\u001b[0m             \u001b[1;32melse\u001b[0m\u001b[1;33m:\u001b[0m\u001b[1;33m\u001b[0m\u001b[1;33m\u001b[0m\u001b[0m\n\u001b[1;32m-> 4185\u001b[1;33m                 \u001b[0mnew_axis\u001b[0m \u001b[1;33m=\u001b[0m \u001b[0maxis\u001b[0m\u001b[1;33m.\u001b[0m\u001b[0mdrop\u001b[0m\u001b[1;33m(\u001b[0m\u001b[0mlabels\u001b[0m\u001b[1;33m,\u001b[0m \u001b[0merrors\u001b[0m\u001b[1;33m=\u001b[0m\u001b[0merrors\u001b[0m\u001b[1;33m)\u001b[0m\u001b[1;33m\u001b[0m\u001b[1;33m\u001b[0m\u001b[0m\n\u001b[0m\u001b[0;32m   4186\u001b[0m             \u001b[0mresult\u001b[0m \u001b[1;33m=\u001b[0m \u001b[0mself\u001b[0m\u001b[1;33m.\u001b[0m\u001b[0mreindex\u001b[0m\u001b[1;33m(\u001b[0m\u001b[1;33m**\u001b[0m\u001b[1;33m{\u001b[0m\u001b[0maxis_name\u001b[0m\u001b[1;33m:\u001b[0m \u001b[0mnew_axis\u001b[0m\u001b[1;33m}\u001b[0m\u001b[1;33m)\u001b[0m\u001b[1;33m\u001b[0m\u001b[1;33m\u001b[0m\u001b[0m\n\u001b[0;32m   4187\u001b[0m \u001b[1;33m\u001b[0m\u001b[0m\n",
      "\u001b[1;32m~\\anaconda3\\envs\\DeepEnvirom\\lib\\site-packages\\pandas\\core\\indexes\\base.py\u001b[0m in \u001b[0;36mdrop\u001b[1;34m(self, labels, errors)\u001b[0m\n\u001b[0;32m   6015\u001b[0m         \u001b[1;32mif\u001b[0m \u001b[0mmask\u001b[0m\u001b[1;33m.\u001b[0m\u001b[0many\u001b[0m\u001b[1;33m(\u001b[0m\u001b[1;33m)\u001b[0m\u001b[1;33m:\u001b[0m\u001b[1;33m\u001b[0m\u001b[1;33m\u001b[0m\u001b[0m\n\u001b[0;32m   6016\u001b[0m             \u001b[1;32mif\u001b[0m \u001b[0merrors\u001b[0m \u001b[1;33m!=\u001b[0m \u001b[1;34m\"ignore\"\u001b[0m\u001b[1;33m:\u001b[0m\u001b[1;33m\u001b[0m\u001b[1;33m\u001b[0m\u001b[0m\n\u001b[1;32m-> 6017\u001b[1;33m                 \u001b[1;32mraise\u001b[0m \u001b[0mKeyError\u001b[0m\u001b[1;33m(\u001b[0m\u001b[1;34mf\"{labels[mask]} not found in axis\"\u001b[0m\u001b[1;33m)\u001b[0m\u001b[1;33m\u001b[0m\u001b[1;33m\u001b[0m\u001b[0m\n\u001b[0m\u001b[0;32m   6018\u001b[0m             \u001b[0mindexer\u001b[0m \u001b[1;33m=\u001b[0m \u001b[0mindexer\u001b[0m\u001b[1;33m[\u001b[0m\u001b[1;33m~\u001b[0m\u001b[0mmask\u001b[0m\u001b[1;33m]\u001b[0m\u001b[1;33m\u001b[0m\u001b[1;33m\u001b[0m\u001b[0m\n\u001b[0;32m   6019\u001b[0m         \u001b[1;32mreturn\u001b[0m \u001b[0mself\u001b[0m\u001b[1;33m.\u001b[0m\u001b[0mdelete\u001b[0m\u001b[1;33m(\u001b[0m\u001b[0mindexer\u001b[0m\u001b[1;33m)\u001b[0m\u001b[1;33m\u001b[0m\u001b[1;33m\u001b[0m\u001b[0m\n",
      "\u001b[1;31mKeyError\u001b[0m: \"['image' 'image name' 'size' 'width' 'height'] not found in axis\""
     ]
    }
   ],
   "source": [
    "Dataset = Dataset.drop(['image','image name', 'size', 'width','height'],axis=1)\n",
    "Dataset['category'] = Dataset['category'].replace(['Camelia', 'Dahlia', 'Hydrangea', 'Lilies', 'Orchids', 'Peony', 'Ranunculus', 'Roses', 'Sunflowers', 'Tulips'], [0,1,2,3,4,5,6,7,8,9])\n",
    "DataFrameFlowers = pd.DataFrame(Dataset)\n"
   ]
  },
  {
   "cell_type": "markdown",
   "metadata": {},
   "source": [
    "## 2. Data Preprocessing"
   ]
  },
  {
   "cell_type": "code",
   "execution_count": null,
   "metadata": {},
   "outputs": [],
   "source": []
  },
  {
   "cell_type": "code",
   "execution_count": 7,
   "metadata": {},
   "outputs": [],
   "source": [
    "X = DataFrameFlowers.drop(['category'], axis = 1)\n",
    "Y = DataFrameFlowers['category']\n",
    "\n",
    "\n",
    "from sklearn.model_selection import train_test_split\n",
    "X_train, X_test, y_train, y_test = train_test_split(X, Y, test_size=0.20, random_state=0)"
   ]
  },
  {
   "cell_type": "markdown",
   "metadata": {},
   "source": [
    "## Model #1 Logistic Regression"
   ]
  },
  {
   "cell_type": "markdown",
   "metadata": {},
   "source": [
    "### 3. Model Creation"
   ]
  },
  {
   "cell_type": "code",
   "execution_count": 8,
   "metadata": {},
   "outputs": [],
   "source": [
    "# Implementado con SAGA por el tamaño de muestra, referenciando (6)\n",
    "from sklearn.linear_model import LogisticRegression\n",
    "LR = LogisticRegression(C=50.0 / y_train.shape[0], penalty=\"l1\", solver=\"saga\", tol=0.1)\n",
    "LR_better = LogisticRegression(C=50.0 / y_train.shape[0], penalty=\"l2\", solver=\"lbfgs\", tol=1e-4)\n"
   ]
  },
  {
   "cell_type": "markdown",
   "metadata": {},
   "source": [
    "### 4. Training: Adjust Model with Historic Data"
   ]
  },
  {
   "cell_type": "code",
   "execution_count": 9,
   "metadata": {},
   "outputs": [
    {
     "name": "stderr",
     "output_type": "stream",
     "text": [
      "C:\\Users\\oscar\\anaconda3\\envs\\DeepEnvirom\\lib\\site-packages\\sklearn\\linear_model\\_logistic.py:818: ConvergenceWarning: lbfgs failed to converge (status=1):\n",
      "STOP: TOTAL NO. of ITERATIONS REACHED LIMIT.\n",
      "\n",
      "Increase the number of iterations (max_iter) or scale the data as shown in:\n",
      "    https://scikit-learn.org/stable/modules/preprocessing.html\n",
      "Please also refer to the documentation for alternative solver options:\n",
      "    https://scikit-learn.org/stable/modules/linear_model.html#logistic-regression\n",
      "  extra_warning_msg=_LOGISTIC_SOLVER_CONVERGENCE_MSG,\n"
     ]
    },
    {
     "data": {
      "text/plain": [
       "LogisticRegression(C=0.24875621890547264)"
      ]
     },
     "execution_count": 9,
     "metadata": {},
     "output_type": "execute_result"
    }
   ],
   "source": [
    "LR.fit(X_train, y_train)\n",
    "LR_better.fit(X_train, y_train)"
   ]
  },
  {
   "cell_type": "markdown",
   "metadata": {},
   "source": [
    "### 5. Prediction for New Data"
   ]
  },
  {
   "cell_type": "code",
   "execution_count": 10,
   "metadata": {},
   "outputs": [],
   "source": [
    "y_predictLR = LR.predict(X_test)\n",
    "y_predictLR_better = LR_better.predict(X_test)"
   ]
  },
  {
   "cell_type": "markdown",
   "metadata": {},
   "source": [
    "## Model #2 Convolutional Neural Network (CNN)"
   ]
  },
  {
   "cell_type": "code",
   "execution_count": 11,
   "metadata": {},
   "outputs": [],
   "source": [
    "#Normalizando imagen de [0,1] para el modelo de CNN\n",
    "#X_trainCNN = X_train/255.0\n",
    "#X_testCNN = X_test/255.0\n",
    "\n",
    "#Aqui haremos las variables especialmente para el modelo CNN, ya que se necesita estar en 3 dimensiones, 28 x 28 x 1\n",
    "#Código complementado con (5)\n",
    "X_trainCNN = X_train.values.reshape(201,2048,1)\n",
    "X_testCNN = X_test.values.reshape(51,2048,1)"
   ]
  },
  {
   "cell_type": "code",
   "execution_count": 12,
   "metadata": {},
   "outputs": [
    {
     "data": {
      "text/plain": [
       "(201, 2048)"
      ]
     },
     "execution_count": 12,
     "metadata": {},
     "output_type": "execute_result"
    }
   ],
   "source": [
    "X_train.shape"
   ]
  },
  {
   "cell_type": "markdown",
   "metadata": {},
   "source": [
    "### 3. Model Creation"
   ]
  },
  {
   "cell_type": "code",
   "execution_count": 13,
   "metadata": {},
   "outputs": [],
   "source": [
    "import numpy as np\n",
    "import keras \n",
    "from keras.models import Sequential\n",
    "from keras.layers import  Dense, Conv1D, Flatten, MaxPooling1D\n",
    "\n",
    "#Para coincidir tamaños, se convierten las etiquetas en \"one hot vectors\"\n",
    "#Código complementado con (5)\n",
    "y_trainCNN = keras.utils.to_categorical(np.asarray(y_train.factorize()[0]))\n",
    "#y_trainCNN = keras.utils.to_categorical(y_train)\n",
    "#y_testCNN = keras.utils.to_categorical(y_test)\n",
    "y_testCNN = keras.utils.to_categorical(np.asarray(y_test.factorize()[0]))\n",
    "\n",
    "CNN = Sequential()\n",
    "CNN.add(Conv1D(128, 3, activation='relu', input_shape=(2048,1)))\n",
    "CNN.add(MaxPooling1D((2)))\n",
    "CNN.add(Conv1D(256, 3, activation='relu'))\n",
    "CNN.add(MaxPooling1D((2)))\n",
    "CNN.add(Conv1D(256, 3, activation='relu'))\n",
    "CNN.add(MaxPooling1D((2)))\n",
    "\n",
    "CNN.add(Flatten())\n",
    "CNN.add(Dense(256, activation='relu'))\n",
    "\n",
    "#Capa Dense tamaño 10 por las 10 categorizaciones finales\n",
    "#Complementado con activación softmax según (7)\n",
    "CNN.add(Dense(10, activation='softmax'))\n",
    "\n",
    "#Complementado con loss según (7)\n",
    "CNN.compile(optimizer='adam', loss = keras.losses.categorical_crossentropy, metrics=['accuracy'])"
   ]
  },
  {
   "cell_type": "code",
   "execution_count": 14,
   "metadata": {},
   "outputs": [
    {
     "data": {
      "text/plain": [
       "(51, 10)"
      ]
     },
     "execution_count": 14,
     "metadata": {},
     "output_type": "execute_result"
    }
   ],
   "source": [
    "y_testCNN.shape"
   ]
  },
  {
   "cell_type": "code",
   "execution_count": 15,
   "metadata": {},
   "outputs": [
    {
     "data": {
      "text/html": [
       "<div>\n",
       "<style scoped>\n",
       "    .dataframe tbody tr th:only-of-type {\n",
       "        vertical-align: middle;\n",
       "    }\n",
       "\n",
       "    .dataframe tbody tr th {\n",
       "        vertical-align: top;\n",
       "    }\n",
       "\n",
       "    .dataframe thead th {\n",
       "        text-align: right;\n",
       "    }\n",
       "</style>\n",
       "<table border=\"1\" class=\"dataframe\">\n",
       "  <thead>\n",
       "    <tr style=\"text-align: right;\">\n",
       "      <th></th>\n",
       "      <th>n0</th>\n",
       "      <th>n1</th>\n",
       "      <th>n2</th>\n",
       "      <th>n3</th>\n",
       "      <th>n4</th>\n",
       "      <th>n5</th>\n",
       "      <th>n6</th>\n",
       "      <th>n7</th>\n",
       "      <th>n8</th>\n",
       "      <th>n9</th>\n",
       "      <th>...</th>\n",
       "      <th>n2038</th>\n",
       "      <th>n2039</th>\n",
       "      <th>n2040</th>\n",
       "      <th>n2041</th>\n",
       "      <th>n2042</th>\n",
       "      <th>n2043</th>\n",
       "      <th>n2044</th>\n",
       "      <th>n2045</th>\n",
       "      <th>n2046</th>\n",
       "      <th>n2047</th>\n",
       "    </tr>\n",
       "  </thead>\n",
       "  <tbody>\n",
       "    <tr>\n",
       "      <th>0</th>\n",
       "      <td>0.031346</td>\n",
       "      <td>0.003894</td>\n",
       "      <td>0.754836</td>\n",
       "      <td>0.221624</td>\n",
       "      <td>0.485150</td>\n",
       "      <td>0.207109</td>\n",
       "      <td>0.052909</td>\n",
       "      <td>0.869211</td>\n",
       "      <td>0.052342</td>\n",
       "      <td>0.140232</td>\n",
       "      <td>...</td>\n",
       "      <td>0.008741</td>\n",
       "      <td>0.501229</td>\n",
       "      <td>0.269865</td>\n",
       "      <td>0.264420</td>\n",
       "      <td>1.223584</td>\n",
       "      <td>0.445661</td>\n",
       "      <td>0.764329</td>\n",
       "      <td>0.271334</td>\n",
       "      <td>0.450046</td>\n",
       "      <td>0.188449</td>\n",
       "    </tr>\n",
       "    <tr>\n",
       "      <th>1</th>\n",
       "      <td>0.617318</td>\n",
       "      <td>0.048936</td>\n",
       "      <td>0.584184</td>\n",
       "      <td>0.533883</td>\n",
       "      <td>0.050315</td>\n",
       "      <td>0.508463</td>\n",
       "      <td>0.464091</td>\n",
       "      <td>0.073085</td>\n",
       "      <td>0.234344</td>\n",
       "      <td>0.172973</td>\n",
       "      <td>...</td>\n",
       "      <td>0.052178</td>\n",
       "      <td>0.031935</td>\n",
       "      <td>0.110313</td>\n",
       "      <td>0.104738</td>\n",
       "      <td>0.019802</td>\n",
       "      <td>1.017397</td>\n",
       "      <td>0.958702</td>\n",
       "      <td>0.289790</td>\n",
       "      <td>0.054272</td>\n",
       "      <td>1.238686</td>\n",
       "    </tr>\n",
       "    <tr>\n",
       "      <th>2</th>\n",
       "      <td>0.062709</td>\n",
       "      <td>0.011895</td>\n",
       "      <td>1.211420</td>\n",
       "      <td>0.052941</td>\n",
       "      <td>0.090026</td>\n",
       "      <td>0.270371</td>\n",
       "      <td>0.184236</td>\n",
       "      <td>0.310323</td>\n",
       "      <td>0.427706</td>\n",
       "      <td>0.273218</td>\n",
       "      <td>...</td>\n",
       "      <td>0.014068</td>\n",
       "      <td>0.043859</td>\n",
       "      <td>0.943988</td>\n",
       "      <td>0.011989</td>\n",
       "      <td>1.631346</td>\n",
       "      <td>0.621268</td>\n",
       "      <td>3.235195</td>\n",
       "      <td>0.045603</td>\n",
       "      <td>0.259693</td>\n",
       "      <td>0.095412</td>\n",
       "    </tr>\n",
       "    <tr>\n",
       "      <th>3</th>\n",
       "      <td>0.344779</td>\n",
       "      <td>0.114046</td>\n",
       "      <td>2.728404</td>\n",
       "      <td>0.383978</td>\n",
       "      <td>0.501665</td>\n",
       "      <td>0.192722</td>\n",
       "      <td>0.081638</td>\n",
       "      <td>0.043970</td>\n",
       "      <td>0.091586</td>\n",
       "      <td>0.455348</td>\n",
       "      <td>...</td>\n",
       "      <td>0.253531</td>\n",
       "      <td>0.327608</td>\n",
       "      <td>0.039473</td>\n",
       "      <td>0.195127</td>\n",
       "      <td>0.957517</td>\n",
       "      <td>0.820248</td>\n",
       "      <td>0.963418</td>\n",
       "      <td>0.104249</td>\n",
       "      <td>1.249185</td>\n",
       "      <td>0.907498</td>\n",
       "    </tr>\n",
       "    <tr>\n",
       "      <th>4</th>\n",
       "      <td>0.079812</td>\n",
       "      <td>0.002065</td>\n",
       "      <td>1.225087</td>\n",
       "      <td>0.088040</td>\n",
       "      <td>0.280788</td>\n",
       "      <td>0.265187</td>\n",
       "      <td>0.041823</td>\n",
       "      <td>0.124516</td>\n",
       "      <td>0.085031</td>\n",
       "      <td>0.444911</td>\n",
       "      <td>...</td>\n",
       "      <td>0.034883</td>\n",
       "      <td>0.084106</td>\n",
       "      <td>0.579751</td>\n",
       "      <td>0.119373</td>\n",
       "      <td>0.179386</td>\n",
       "      <td>1.043936</td>\n",
       "      <td>2.910144</td>\n",
       "      <td>0.000000</td>\n",
       "      <td>0.173868</td>\n",
       "      <td>0.425156</td>\n",
       "    </tr>\n",
       "    <tr>\n",
       "      <th>...</th>\n",
       "      <td>...</td>\n",
       "      <td>...</td>\n",
       "      <td>...</td>\n",
       "      <td>...</td>\n",
       "      <td>...</td>\n",
       "      <td>...</td>\n",
       "      <td>...</td>\n",
       "      <td>...</td>\n",
       "      <td>...</td>\n",
       "      <td>...</td>\n",
       "      <td>...</td>\n",
       "      <td>...</td>\n",
       "      <td>...</td>\n",
       "      <td>...</td>\n",
       "      <td>...</td>\n",
       "      <td>...</td>\n",
       "      <td>...</td>\n",
       "      <td>...</td>\n",
       "      <td>...</td>\n",
       "      <td>...</td>\n",
       "      <td>...</td>\n",
       "    </tr>\n",
       "    <tr>\n",
       "      <th>247</th>\n",
       "      <td>0.005753</td>\n",
       "      <td>0.010176</td>\n",
       "      <td>2.421160</td>\n",
       "      <td>0.835192</td>\n",
       "      <td>0.236707</td>\n",
       "      <td>0.338270</td>\n",
       "      <td>0.132665</td>\n",
       "      <td>0.229646</td>\n",
       "      <td>0.270850</td>\n",
       "      <td>0.127649</td>\n",
       "      <td>...</td>\n",
       "      <td>0.140193</td>\n",
       "      <td>0.049648</td>\n",
       "      <td>0.491869</td>\n",
       "      <td>0.346775</td>\n",
       "      <td>0.119688</td>\n",
       "      <td>0.291639</td>\n",
       "      <td>0.796890</td>\n",
       "      <td>0.036336</td>\n",
       "      <td>0.000000</td>\n",
       "      <td>0.101451</td>\n",
       "    </tr>\n",
       "    <tr>\n",
       "      <th>248</th>\n",
       "      <td>0.094083</td>\n",
       "      <td>1.032861</td>\n",
       "      <td>2.197804</td>\n",
       "      <td>0.132653</td>\n",
       "      <td>0.131312</td>\n",
       "      <td>0.099846</td>\n",
       "      <td>0.053924</td>\n",
       "      <td>0.076356</td>\n",
       "      <td>0.685772</td>\n",
       "      <td>0.473937</td>\n",
       "      <td>...</td>\n",
       "      <td>0.066874</td>\n",
       "      <td>0.372262</td>\n",
       "      <td>0.329445</td>\n",
       "      <td>0.075565</td>\n",
       "      <td>0.112902</td>\n",
       "      <td>0.559418</td>\n",
       "      <td>0.010127</td>\n",
       "      <td>0.186851</td>\n",
       "      <td>0.890475</td>\n",
       "      <td>0.000966</td>\n",
       "    </tr>\n",
       "    <tr>\n",
       "      <th>249</th>\n",
       "      <td>0.596221</td>\n",
       "      <td>1.211585</td>\n",
       "      <td>0.453054</td>\n",
       "      <td>0.255189</td>\n",
       "      <td>0.385703</td>\n",
       "      <td>0.450245</td>\n",
       "      <td>0.478393</td>\n",
       "      <td>0.438605</td>\n",
       "      <td>0.117591</td>\n",
       "      <td>0.609982</td>\n",
       "      <td>...</td>\n",
       "      <td>0.386123</td>\n",
       "      <td>0.121678</td>\n",
       "      <td>0.501654</td>\n",
       "      <td>0.009004</td>\n",
       "      <td>0.042372</td>\n",
       "      <td>0.064126</td>\n",
       "      <td>0.374048</td>\n",
       "      <td>0.837762</td>\n",
       "      <td>0.584591</td>\n",
       "      <td>0.290840</td>\n",
       "    </tr>\n",
       "    <tr>\n",
       "      <th>250</th>\n",
       "      <td>0.202704</td>\n",
       "      <td>0.068672</td>\n",
       "      <td>3.481745</td>\n",
       "      <td>0.044170</td>\n",
       "      <td>0.155932</td>\n",
       "      <td>0.243839</td>\n",
       "      <td>0.019131</td>\n",
       "      <td>0.377204</td>\n",
       "      <td>0.222836</td>\n",
       "      <td>0.457900</td>\n",
       "      <td>...</td>\n",
       "      <td>0.189658</td>\n",
       "      <td>0.341941</td>\n",
       "      <td>0.399744</td>\n",
       "      <td>0.000000</td>\n",
       "      <td>0.005344</td>\n",
       "      <td>0.516165</td>\n",
       "      <td>0.142639</td>\n",
       "      <td>0.115388</td>\n",
       "      <td>0.118942</td>\n",
       "      <td>0.307288</td>\n",
       "    </tr>\n",
       "    <tr>\n",
       "      <th>251</th>\n",
       "      <td>0.128378</td>\n",
       "      <td>0.077411</td>\n",
       "      <td>4.159184</td>\n",
       "      <td>0.311423</td>\n",
       "      <td>0.568541</td>\n",
       "      <td>0.530051</td>\n",
       "      <td>0.026478</td>\n",
       "      <td>0.419448</td>\n",
       "      <td>0.236488</td>\n",
       "      <td>0.631329</td>\n",
       "      <td>...</td>\n",
       "      <td>0.359506</td>\n",
       "      <td>0.516085</td>\n",
       "      <td>0.211448</td>\n",
       "      <td>0.000000</td>\n",
       "      <td>0.238997</td>\n",
       "      <td>0.037028</td>\n",
       "      <td>1.504242</td>\n",
       "      <td>0.599268</td>\n",
       "      <td>0.625649</td>\n",
       "      <td>0.679613</td>\n",
       "    </tr>\n",
       "  </tbody>\n",
       "</table>\n",
       "<p>252 rows × 2048 columns</p>\n",
       "</div>"
      ],
      "text/plain": [
       "           n0        n1        n2        n3        n4        n5        n6  \\\n",
       "0    0.031346  0.003894  0.754836  0.221624  0.485150  0.207109  0.052909   \n",
       "1    0.617318  0.048936  0.584184  0.533883  0.050315  0.508463  0.464091   \n",
       "2    0.062709  0.011895  1.211420  0.052941  0.090026  0.270371  0.184236   \n",
       "3    0.344779  0.114046  2.728404  0.383978  0.501665  0.192722  0.081638   \n",
       "4    0.079812  0.002065  1.225087  0.088040  0.280788  0.265187  0.041823   \n",
       "..        ...       ...       ...       ...       ...       ...       ...   \n",
       "247  0.005753  0.010176  2.421160  0.835192  0.236707  0.338270  0.132665   \n",
       "248  0.094083  1.032861  2.197804  0.132653  0.131312  0.099846  0.053924   \n",
       "249  0.596221  1.211585  0.453054  0.255189  0.385703  0.450245  0.478393   \n",
       "250  0.202704  0.068672  3.481745  0.044170  0.155932  0.243839  0.019131   \n",
       "251  0.128378  0.077411  4.159184  0.311423  0.568541  0.530051  0.026478   \n",
       "\n",
       "           n7        n8        n9  ...     n2038     n2039     n2040  \\\n",
       "0    0.869211  0.052342  0.140232  ...  0.008741  0.501229  0.269865   \n",
       "1    0.073085  0.234344  0.172973  ...  0.052178  0.031935  0.110313   \n",
       "2    0.310323  0.427706  0.273218  ...  0.014068  0.043859  0.943988   \n",
       "3    0.043970  0.091586  0.455348  ...  0.253531  0.327608  0.039473   \n",
       "4    0.124516  0.085031  0.444911  ...  0.034883  0.084106  0.579751   \n",
       "..        ...       ...       ...  ...       ...       ...       ...   \n",
       "247  0.229646  0.270850  0.127649  ...  0.140193  0.049648  0.491869   \n",
       "248  0.076356  0.685772  0.473937  ...  0.066874  0.372262  0.329445   \n",
       "249  0.438605  0.117591  0.609982  ...  0.386123  0.121678  0.501654   \n",
       "250  0.377204  0.222836  0.457900  ...  0.189658  0.341941  0.399744   \n",
       "251  0.419448  0.236488  0.631329  ...  0.359506  0.516085  0.211448   \n",
       "\n",
       "        n2041     n2042     n2043     n2044     n2045     n2046     n2047  \n",
       "0    0.264420  1.223584  0.445661  0.764329  0.271334  0.450046  0.188449  \n",
       "1    0.104738  0.019802  1.017397  0.958702  0.289790  0.054272  1.238686  \n",
       "2    0.011989  1.631346  0.621268  3.235195  0.045603  0.259693  0.095412  \n",
       "3    0.195127  0.957517  0.820248  0.963418  0.104249  1.249185  0.907498  \n",
       "4    0.119373  0.179386  1.043936  2.910144  0.000000  0.173868  0.425156  \n",
       "..        ...       ...       ...       ...       ...       ...       ...  \n",
       "247  0.346775  0.119688  0.291639  0.796890  0.036336  0.000000  0.101451  \n",
       "248  0.075565  0.112902  0.559418  0.010127  0.186851  0.890475  0.000966  \n",
       "249  0.009004  0.042372  0.064126  0.374048  0.837762  0.584591  0.290840  \n",
       "250  0.000000  0.005344  0.516165  0.142639  0.115388  0.118942  0.307288  \n",
       "251  0.000000  0.238997  0.037028  1.504242  0.599268  0.625649  0.679613  \n",
       "\n",
       "[252 rows x 2048 columns]"
      ]
     },
     "execution_count": 15,
     "metadata": {},
     "output_type": "execute_result"
    }
   ],
   "source": [
    "X"
   ]
  },
  {
   "cell_type": "code",
   "execution_count": 16,
   "metadata": {},
   "outputs": [
    {
     "data": {
      "text/plain": [
       "(201, 10)"
      ]
     },
     "execution_count": 16,
     "metadata": {},
     "output_type": "execute_result"
    }
   ],
   "source": [
    "y_trainCNN.shape"
   ]
  },
  {
   "cell_type": "markdown",
   "metadata": {},
   "source": [
    "### 4. Training: Adjust Model with Historic Data"
   ]
  },
  {
   "cell_type": "code",
   "execution_count": 17,
   "metadata": {},
   "outputs": [
    {
     "name": "stdout",
     "output_type": "stream",
     "text": [
      "Epoch 1/10\n",
      "7/7 [==============================] - 3s 393ms/step - loss: 2.5427 - accuracy: 0.1343 - val_loss: 2.2938 - val_accuracy: 0.0980\n",
      "Epoch 2/10\n",
      "7/7 [==============================] - 3s 367ms/step - loss: 2.1328 - accuracy: 0.3284 - val_loss: 2.3965 - val_accuracy: 0.1176\n",
      "Epoch 3/10\n",
      "7/7 [==============================] - 2s 269ms/step - loss: 1.7311 - accuracy: 0.4328 - val_loss: 2.1407 - val_accuracy: 0.3725\n",
      "Epoch 4/10\n",
      "7/7 [==============================] - 2s 327ms/step - loss: 1.0075 - accuracy: 0.7065 - val_loss: 3.4405 - val_accuracy: 0.2549\n",
      "Epoch 5/10\n",
      "7/7 [==============================] - 2s 323ms/step - loss: 0.5900 - accuracy: 0.8010 - val_loss: 3.3597 - val_accuracy: 0.3922\n",
      "Epoch 6/10\n",
      "7/7 [==============================] - 2s 281ms/step - loss: 0.3759 - accuracy: 0.8905 - val_loss: 4.1149 - val_accuracy: 0.2353\n",
      "Epoch 7/10\n",
      "7/7 [==============================] - 2s 290ms/step - loss: 0.2500 - accuracy: 0.9403 - val_loss: 4.2604 - val_accuracy: 0.3922\n",
      "Epoch 8/10\n",
      "7/7 [==============================] - 2s 286ms/step - loss: 0.1211 - accuracy: 0.9751 - val_loss: 4.8101 - val_accuracy: 0.3333\n",
      "Epoch 9/10\n",
      "7/7 [==============================] - 2s 281ms/step - loss: 0.0633 - accuracy: 0.9751 - val_loss: 5.3959 - val_accuracy: 0.3333\n",
      "Epoch 10/10\n",
      "7/7 [==============================] - 2s 285ms/step - loss: 0.0672 - accuracy: 0.9801 - val_loss: 6.1010 - val_accuracy: 0.3333\n"
     ]
    }
   ],
   "source": [
    "CNN_H = CNN.fit(X_trainCNN, y_trainCNN, validation_data=(X_testCNN, y_testCNN), epochs=10)"
   ]
  },
  {
   "cell_type": "markdown",
   "metadata": {},
   "source": [
    "### 5. Prediction for New Data"
   ]
  },
  {
   "cell_type": "code",
   "execution_count": 18,
   "metadata": {},
   "outputs": [
    {
     "name": "stdout",
     "output_type": "stream",
     "text": [
      "WARNING:tensorflow:From C:\\Users\\oscar\\AppData\\Local\\Temp\\ipykernel_30632\\362788750.py:1: Sequential.predict_classes (from tensorflow.python.keras.engine.sequential) is deprecated and will be removed after 2021-01-01.\n",
      "Instructions for updating:\n",
      "Please use instead:* `np.argmax(model.predict(x), axis=-1)`,   if your model does multi-class classification   (e.g. if it uses a `softmax` last-layer activation).* `(model.predict(x) > 0.5).astype(\"int32\")`,   if your model does binary classification   (e.g. if it uses a `sigmoid` last-layer activation).\n"
     ]
    }
   ],
   "source": [
    "y_predictCNN = CNN.predict_classes(X_testCNN)"
   ]
  },
  {
   "cell_type": "markdown",
   "metadata": {},
   "source": [
    "## Model #3 Support Vector Machine (SVM)"
   ]
  },
  {
   "cell_type": "markdown",
   "metadata": {},
   "source": [
    "### 3. Model Creation"
   ]
  },
  {
   "cell_type": "code",
   "execution_count": 19,
   "metadata": {},
   "outputs": [],
   "source": [
    "from sklearn import svm\n",
    "SVM = svm.SVC(kernel='poly')\n",
    "SVM_better = svm.SVC(kernel='linear')"
   ]
  },
  {
   "cell_type": "markdown",
   "metadata": {},
   "source": [
    "### 4. Training: Adjust Model with Historic Data"
   ]
  },
  {
   "cell_type": "code",
   "execution_count": 20,
   "metadata": {},
   "outputs": [
    {
     "data": {
      "text/plain": [
       "SVC(kernel='linear')"
      ]
     },
     "execution_count": 20,
     "metadata": {},
     "output_type": "execute_result"
    }
   ],
   "source": [
    "SVM.fit(X_train, y_train)\n",
    "SVM_better.fit(X_train, y_train)"
   ]
  },
  {
   "cell_type": "markdown",
   "metadata": {},
   "source": [
    "### 5. Prediction for New Data"
   ]
  },
  {
   "cell_type": "code",
   "execution_count": 21,
   "metadata": {},
   "outputs": [],
   "source": [
    "y_predictSVM = SVM.predict(X_test)\n",
    "y_predictSVM_better = SVM_better.predict(X_test)"
   ]
  },
  {
   "cell_type": "markdown",
   "metadata": {},
   "source": [
    "## Model #4 Random Forest"
   ]
  },
  {
   "cell_type": "markdown",
   "metadata": {},
   "source": [
    "### 3. Model Creation"
   ]
  },
  {
   "cell_type": "code",
   "execution_count": 22,
   "metadata": {},
   "outputs": [],
   "source": [
    "from sklearn.ensemble import RandomForestClassifier\n",
    "RFC = RandomForestClassifier(n_estimators=500)"
   ]
  },
  {
   "cell_type": "markdown",
   "metadata": {},
   "source": [
    "### 4. Training: Adjust Model with Historic Data"
   ]
  },
  {
   "cell_type": "code",
   "execution_count": 23,
   "metadata": {},
   "outputs": [
    {
     "data": {
      "text/plain": [
       "RandomForestClassifier(n_estimators=500)"
      ]
     },
     "execution_count": 23,
     "metadata": {},
     "output_type": "execute_result"
    }
   ],
   "source": [
    "RFC.fit(X_train, y_train)"
   ]
  },
  {
   "cell_type": "markdown",
   "metadata": {},
   "source": [
    "### 5. Prediction for New Data"
   ]
  },
  {
   "cell_type": "code",
   "execution_count": 24,
   "metadata": {},
   "outputs": [],
   "source": [
    "y_predictRF = RFC.predict(X_test)"
   ]
  },
  {
   "cell_type": "markdown",
   "metadata": {},
   "source": [
    "## 6. Visualization of Results"
   ]
  },
  {
   "cell_type": "code",
   "execution_count": 25,
   "metadata": {},
   "outputs": [],
   "source": [
    "from sklearn.model_selection import cross_val_score\n",
    "from sklearn.metrics import accuracy_score"
   ]
  },
  {
   "cell_type": "markdown",
   "metadata": {},
   "source": [
    "### Model #1 Logistic Regression"
   ]
  },
  {
   "cell_type": "code",
   "execution_count": 26,
   "metadata": {},
   "outputs": [
    {
     "name": "stderr",
     "output_type": "stream",
     "text": [
      "C:\\Users\\oscar\\anaconda3\\envs\\DeepEnvirom\\lib\\site-packages\\sklearn\\linear_model\\_logistic.py:818: ConvergenceWarning: lbfgs failed to converge (status=1):\n",
      "STOP: TOTAL NO. of ITERATIONS REACHED LIMIT.\n",
      "\n",
      "Increase the number of iterations (max_iter) or scale the data as shown in:\n",
      "    https://scikit-learn.org/stable/modules/preprocessing.html\n",
      "Please also refer to the documentation for alternative solver options:\n",
      "    https://scikit-learn.org/stable/modules/linear_model.html#logistic-regression\n",
      "  extra_warning_msg=_LOGISTIC_SOLVER_CONVERGENCE_MSG,\n",
      "C:\\Users\\oscar\\anaconda3\\envs\\DeepEnvirom\\lib\\site-packages\\sklearn\\linear_model\\_logistic.py:818: ConvergenceWarning: lbfgs failed to converge (status=1):\n",
      "STOP: TOTAL NO. of ITERATIONS REACHED LIMIT.\n",
      "\n",
      "Increase the number of iterations (max_iter) or scale the data as shown in:\n",
      "    https://scikit-learn.org/stable/modules/preprocessing.html\n",
      "Please also refer to the documentation for alternative solver options:\n",
      "    https://scikit-learn.org/stable/modules/linear_model.html#logistic-regression\n",
      "  extra_warning_msg=_LOGISTIC_SOLVER_CONVERGENCE_MSG,\n",
      "C:\\Users\\oscar\\anaconda3\\envs\\DeepEnvirom\\lib\\site-packages\\sklearn\\linear_model\\_logistic.py:818: ConvergenceWarning: lbfgs failed to converge (status=1):\n",
      "STOP: TOTAL NO. of ITERATIONS REACHED LIMIT.\n",
      "\n",
      "Increase the number of iterations (max_iter) or scale the data as shown in:\n",
      "    https://scikit-learn.org/stable/modules/preprocessing.html\n",
      "Please also refer to the documentation for alternative solver options:\n",
      "    https://scikit-learn.org/stable/modules/linear_model.html#logistic-regression\n",
      "  extra_warning_msg=_LOGISTIC_SOLVER_CONVERGENCE_MSG,\n"
     ]
    }
   ],
   "source": [
    "CV_LR = cross_val_score(LR, X_train, y_train, cv=3, scoring = \"accuracy\")\n",
    "CV_LR_better = cross_val_score(LR_better, X_train, y_train, cv=3, scoring = \"accuracy\")"
   ]
  },
  {
   "cell_type": "code",
   "execution_count": 27,
   "metadata": {},
   "outputs": [],
   "source": [
    "AS_LR = accuracy_score(y_test,y_predictLR)\n",
    "AS_LR_better = accuracy_score(y_test,y_predictLR_better)"
   ]
  },
  {
   "cell_type": "code",
   "execution_count": null,
   "metadata": {},
   "outputs": [],
   "source": []
  },
  {
   "cell_type": "markdown",
   "metadata": {},
   "source": [
    "### Model #2 Support Vector Machine (SVM)"
   ]
  },
  {
   "cell_type": "code",
   "execution_count": 28,
   "metadata": {},
   "outputs": [],
   "source": [
    "CV_SVM = cross_val_score(SVM, X_train, y_train, cv=3, scoring = \"accuracy\")\n",
    "CV_SVM_better = cross_val_score(SVM_better, X_train, y_train, cv=3, scoring = \"accuracy\")"
   ]
  },
  {
   "cell_type": "code",
   "execution_count": 29,
   "metadata": {},
   "outputs": [],
   "source": [
    "AS_SVM = accuracy_score(y_test,y_predictSVM)\n",
    "AS_SVM_better = accuracy_score(y_test,y_predictSVM_better)"
   ]
  },
  {
   "cell_type": "markdown",
   "metadata": {},
   "source": [
    "### Model #3 Random Forest"
   ]
  },
  {
   "cell_type": "code",
   "execution_count": 30,
   "metadata": {},
   "outputs": [],
   "source": [
    "CV_RF = cross_val_score(RFC, X_train, y_train, cv=3, scoring = \"accuracy\")"
   ]
  },
  {
   "cell_type": "code",
   "execution_count": 31,
   "metadata": {},
   "outputs": [],
   "source": [
    "AS_RF = accuracy_score(y_test,y_predictRF)"
   ]
  },
  {
   "cell_type": "markdown",
   "metadata": {},
   "source": [
    "### Model #5 Convolutional Neural Network (CNN)"
   ]
  },
  {
   "cell_type": "code",
   "execution_count": 32,
   "metadata": {},
   "outputs": [
    {
     "name": "stdout",
     "output_type": "stream",
     "text": [
      "7/7 [==============================] - 1s 75ms/step - loss: 0.0592 - accuracy: 0.9851\n"
     ]
    }
   ],
   "source": [
    "CV_CNN = CNN.evaluate(X_trainCNN, y_trainCNN)"
   ]
  },
  {
   "cell_type": "code",
   "execution_count": 33,
   "metadata": {},
   "outputs": [
    {
     "name": "stdout",
     "output_type": "stream",
     "text": [
      "2/2 [==============================] - 0s 30ms/step - loss: 6.1010 - accuracy: 0.3333\n"
     ]
    }
   ],
   "source": [
    "AS_CNN = CNN.evaluate(X_testCNN, y_testCNN)"
   ]
  },
  {
   "cell_type": "code",
   "execution_count": 34,
   "metadata": {},
   "outputs": [
    {
     "data": {
      "text/html": [
       "<style type=\"text/css\">\n",
       "</style>\n",
       "<table id=\"T_bb4c1_\">\n",
       "  <caption>Models' Accuracy Scores and Cross Validations</caption>\n",
       "  <thead>\n",
       "    <tr>\n",
       "      <th class=\"blank level0\" >&nbsp;</th>\n",
       "      <th class=\"col_heading level0 col0\" >Accuracy Scores</th>\n",
       "      <th class=\"col_heading level0 col1\" >CV AVG</th>\n",
       "      <th class=\"col_heading level0 col2\" >CV #1</th>\n",
       "      <th class=\"col_heading level0 col3\" >CV #2</th>\n",
       "      <th class=\"col_heading level0 col4\" >CV #3</th>\n",
       "    </tr>\n",
       "  </thead>\n",
       "  <tbody>\n",
       "    <tr>\n",
       "      <th id=\"T_bb4c1_level0_row0\" class=\"row_heading level0 row0\" >LR</th>\n",
       "      <td id=\"T_bb4c1_row0_col0\" class=\"data row0 col0\" >0.647059</td>\n",
       "      <td id=\"T_bb4c1_row0_col1\" class=\"data row0 col1\" >0.582090</td>\n",
       "      <td id=\"T_bb4c1_row0_col2\" class=\"data row0 col2\" >0.582090</td>\n",
       "      <td id=\"T_bb4c1_row0_col3\" class=\"data row0 col3\" >0.686567</td>\n",
       "      <td id=\"T_bb4c1_row0_col4\" class=\"data row0 col4\" >0.746269</td>\n",
       "    </tr>\n",
       "    <tr>\n",
       "      <th id=\"T_bb4c1_level0_row1\" class=\"row_heading level0 row1\" >SVM</th>\n",
       "      <td id=\"T_bb4c1_row1_col0\" class=\"data row1 col0\" >0.588235</td>\n",
       "      <td id=\"T_bb4c1_row1_col1\" class=\"data row1 col1\" >0.716418</td>\n",
       "      <td id=\"T_bb4c1_row1_col2\" class=\"data row1 col2\" >0.716418</td>\n",
       "      <td id=\"T_bb4c1_row1_col3\" class=\"data row1 col3\" >0.716418</td>\n",
       "      <td id=\"T_bb4c1_row1_col4\" class=\"data row1 col4\" >0.746269</td>\n",
       "    </tr>\n",
       "    <tr>\n",
       "      <th id=\"T_bb4c1_level0_row2\" class=\"row_heading level0 row2\" >RF</th>\n",
       "      <td id=\"T_bb4c1_row2_col0\" class=\"data row2 col0\" >0.705882</td>\n",
       "      <td id=\"T_bb4c1_row2_col1\" class=\"data row2 col1\" >0.686567</td>\n",
       "      <td id=\"T_bb4c1_row2_col2\" class=\"data row2 col2\" >0.686567</td>\n",
       "      <td id=\"T_bb4c1_row2_col3\" class=\"data row2 col3\" >0.731343</td>\n",
       "      <td id=\"T_bb4c1_row2_col4\" class=\"data row2 col4\" >0.701493</td>\n",
       "    </tr>\n",
       "    <tr>\n",
       "      <th id=\"T_bb4c1_level0_row3\" class=\"row_heading level0 row3\" >CNN</th>\n",
       "      <td id=\"T_bb4c1_row3_col0\" class=\"data row3 col0\" >0.333333</td>\n",
       "      <td id=\"T_bb4c1_row3_col1\" class=\"data row3 col1\" >0.985075</td>\n",
       "      <td id=\"T_bb4c1_row3_col2\" class=\"data row3 col2\" >0.985075</td>\n",
       "      <td id=\"T_bb4c1_row3_col3\" class=\"data row3 col3\" >-</td>\n",
       "      <td id=\"T_bb4c1_row3_col4\" class=\"data row3 col4\" >-</td>\n",
       "    </tr>\n",
       "    <tr>\n",
       "      <th id=\"T_bb4c1_level0_row4\" class=\"row_heading level0 row4\" >LR_better</th>\n",
       "      <td id=\"T_bb4c1_row4_col0\" class=\"data row4 col0\" >0.745098</td>\n",
       "      <td id=\"T_bb4c1_row4_col1\" class=\"data row4 col1\" >0.716418</td>\n",
       "      <td id=\"T_bb4c1_row4_col2\" class=\"data row4 col2\" >0.716418</td>\n",
       "      <td id=\"T_bb4c1_row4_col3\" class=\"data row4 col3\" >0.731343</td>\n",
       "      <td id=\"T_bb4c1_row4_col4\" class=\"data row4 col4\" >0.761194</td>\n",
       "    </tr>\n",
       "    <tr>\n",
       "      <th id=\"T_bb4c1_level0_row5\" class=\"row_heading level0 row5\" >SVM_better</th>\n",
       "      <td id=\"T_bb4c1_row5_col0\" class=\"data row5 col0\" >0.686275</td>\n",
       "      <td id=\"T_bb4c1_row5_col1\" class=\"data row5 col1\" >0.746269</td>\n",
       "      <td id=\"T_bb4c1_row5_col2\" class=\"data row5 col2\" >0.746269</td>\n",
       "      <td id=\"T_bb4c1_row5_col3\" class=\"data row5 col3\" >0.746269</td>\n",
       "      <td id=\"T_bb4c1_row5_col4\" class=\"data row5 col4\" >0.731343</td>\n",
       "    </tr>\n",
       "  </tbody>\n",
       "</table>\n"
      ],
      "text/plain": [
       "<pandas.io.formats.style.Styler at 0x16900f5dbc8>"
      ]
     },
     "execution_count": 34,
     "metadata": {},
     "output_type": "execute_result"
    }
   ],
   "source": [
    "#Creación de dataframe con los resultados\n",
    "models = [\"LR\",\"SVM\", \"RF\", \"CNN\",\"LR_better\", \"SVM_better\"]\n",
    "AS_values = [AS_LR, AS_SVM, AS_RF,  AS_CNN[1], AS_LR_better, AS_SVM_better]\n",
    "CV_values = [CV_LR, CV_SVM, CV_RF, [CV_CNN[1],'-','-'],CV_LR_better,CV_SVM_better]\n",
    "\n",
    "data = {\"Accuracy Scores\": AS_values, \"Cross Validations\": CV_values}\n",
    "df = pd.DataFrame(data, index = models)\n",
    "\n",
    "#Separación de arrays de Cross Validations en columnas, referenciando (10)\n",
    "dfCV = pd.DataFrame(df['Cross Validations'].to_list(), columns=['CV #1','CV #2','CV #3'], index = models)\n",
    "#Cálculo de promedio de Cross Validations\n",
    "dfCV.insert(0,'CV AVG', dfCV[['CV #1','CV #2','CV #3']].mean(axis=1, numeric_only=True))\n",
    "\n",
    "#Concatenación de dataframes con las columnas finales, referenciando (11)\n",
    "dfAcc = pd.concat([df['Accuracy Scores'], dfCV], axis=1)\n",
    "dfAcc = dfAcc.style.set_caption(\"Models' Accuracy Scores and Cross Validations\")\n",
    "dfAcc"
   ]
  },
  {
   "cell_type": "markdown",
   "metadata": {},
   "source": [
    "## Confusion Matrix\n"
   ]
  },
  {
   "cell_type": "code",
   "execution_count": 35,
   "metadata": {},
   "outputs": [
    {
     "name": "stdout",
     "output_type": "stream",
     "text": [
      "[[3 0 0 1 0 0 0 0 0 0]\n",
      " [0 3 0 0 0 0 0 0 0 0]\n",
      " [1 0 4 0 0 0 0 0 0 0]\n",
      " [0 0 0 3 0 0 0 0 0 0]\n",
      " [0 0 2 1 2 0 0 0 0 0]\n",
      " [2 0 0 0 0 1 0 0 1 3]\n",
      " [0 0 0 2 0 1 3 1 0 0]\n",
      " [0 0 0 0 0 0 1 8 0 0]\n",
      " [0 0 0 0 0 0 0 0 2 0]\n",
      " [0 0 0 1 0 0 0 1 0 4]]\n",
      "--------------------------------\n",
      "[[3 0 0 0 1 0 0 0 0 0]\n",
      " [0 2 0 0 1 0 0 0 0 0]\n",
      " [0 0 5 0 0 0 0 0 0 0]\n",
      " [0 0 0 3 0 0 0 0 0 0]\n",
      " [0 0 0 1 4 0 0 0 0 0]\n",
      " [1 0 0 0 0 5 0 0 0 1]\n",
      " [0 0 0 1 1 1 4 0 0 0]\n",
      " [0 0 0 1 0 0 2 5 0 1]\n",
      " [0 0 0 0 0 0 0 0 2 0]\n",
      " [0 0 0 0 0 0 1 0 0 5]]\n"
     ]
    }
   ],
   "source": [
    "from sklearn.metrics import confusion_matrix\n",
    "cmLR=confusion_matrix(y_test,y_predictLR)\n",
    "print(cmLR)\n",
    "\n",
    "print(\"--------------------------------\")\n",
    "cmLR_better=confusion_matrix(y_test,y_predictLR_better)\n",
    "print(cmLR_better)"
   ]
  },
  {
   "cell_type": "markdown",
   "metadata": {},
   "source": [
    "Se puede apreciar en esta matriz de confusion que al sumar la cantidad de positivos, osea de los valores correctos que mostro (La diagonal) nos dio mayor cantidad el segundo modelo de logistic Regression. "
   ]
  },
  {
   "cell_type": "code",
   "execution_count": 36,
   "metadata": {},
   "outputs": [
    {
     "name": "stdout",
     "output_type": "stream",
     "text": [
      "[[3 0 0 1 0 0 0 0 0 0]\n",
      " [0 2 0 0 1 0 0 0 0 0]\n",
      " [1 0 4 0 0 0 0 0 0 0]\n",
      " [0 0 0 3 0 0 0 0 0 0]\n",
      " [0 0 0 1 4 0 0 0 0 0]\n",
      " [1 0 0 0 0 3 0 0 1 2]\n",
      " [0 0 0 2 0 1 3 1 0 0]\n",
      " [0 0 0 3 0 0 3 3 0 0]\n",
      " [0 1 0 0 0 0 0 0 1 0]\n",
      " [0 0 0 0 1 0 0 1 0 4]]\n",
      "--------------------------------\n",
      "[[3 0 0 1 0 0 0 0 0 0]\n",
      " [0 2 0 0 1 0 0 0 0 0]\n",
      " [1 0 4 0 0 0 0 0 0 0]\n",
      " [0 0 0 3 0 0 0 0 0 0]\n",
      " [0 0 0 1 4 0 0 0 0 0]\n",
      " [1 0 0 0 0 5 0 0 0 1]\n",
      " [0 0 0 1 1 1 4 0 0 0]\n",
      " [0 0 0 3 0 0 3 3 0 0]\n",
      " [0 0 0 0 0 0 0 0 2 0]\n",
      " [0 0 0 0 0 0 0 1 0 5]]\n"
     ]
    }
   ],
   "source": [
    "cmSVM=confusion_matrix(y_test,y_predictSVM)\n",
    "print(cmSVM)\n",
    "\n",
    "print(\"--------------------------------\")\n",
    "cmSVM_better=confusion_matrix(y_test,y_predictSVM_better)\n",
    "print(cmSVM_better)"
   ]
  },
  {
   "cell_type": "markdown",
   "metadata": {},
   "source": [
    "Se puede apreciar en esta matriz de confusion que al sumar la cantidad de positivos, osea de los valores correctos que mostro (La diagonal) nos dio mayor cantidad el segundo modelo de Support Vector Machine. "
   ]
  }
 ],
 "metadata": {
  "interpreter": {
   "hash": "498cc7baa86d349c4936134328814e532a1d77a0c0949c12214c3e7da3053f05"
  },
  "kernelspec": {
   "display_name": "Python 3.7.11 ('DeepEnvirom')",
   "language": "python",
   "name": "python3"
  },
  "language_info": {
   "codemirror_mode": {
    "name": "ipython",
    "version": 3
   },
   "file_extension": ".py",
   "mimetype": "text/x-python",
   "name": "python",
   "nbconvert_exporter": "python",
   "pygments_lexer": "ipython3",
   "version": "3.7.11"
  },
  "orig_nbformat": 4
 },
 "nbformat": 4,
 "nbformat_minor": 2
}
