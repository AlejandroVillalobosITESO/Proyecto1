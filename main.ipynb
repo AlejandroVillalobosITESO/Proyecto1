{
 "cells": [
  {
   "cell_type": "markdown",
   "source": [
    "##Imports"
   ],
   "metadata": {
    "collapsed": false
   }
  },
  {
   "cell_type": "code",
   "execution_count": 29,
   "metadata": {
    "collapsed": true
   },
   "outputs": [],
   "source": [
    "import numpy as np\n",
    "import matplotlib.pyplot as plt\n",
    "\n",
    "import keras\n",
    "from keras.datasets import mnist\n",
    "from keras.models import Sequential\n",
    "from keras.layers import  Dense, Conv2D, MaxPool2D, Flatten, Dropout\n",
    "from keras.callbacks import EarlyStopping, ModelCheckpoint"
   ]
  },
  {
   "cell_type": "markdown",
   "source": [
    "##Get the data"
   ],
   "metadata": {
    "collapsed": false
   }
  },
  {
   "cell_type": "code",
   "execution_count": 30,
   "outputs": [],
   "source": [
    "(X_train, y_train), (X_test, y_test) = mnist.load_data()\n",
    "#X_train.shape, y_train.shape, X_test.shape, y_test.shape"
   ],
   "metadata": {
    "collapsed": false,
    "pycharm": {
     "name": "#%%\n"
    }
   }
  },
  {
   "cell_type": "code",
   "execution_count": 31,
   "outputs": [],
   "source": [
    "def plot_input_img(i):\n",
    "    plt.imshow(X_train[i], cmap='binary')\n",
    "    plt.title(y_train[i])\n",
    "    plt.show()"
   ],
   "metadata": {
    "collapsed": false,
    "pycharm": {
     "name": "#%%\n"
    }
   }
  },
  {
   "cell_type": "code",
   "execution_count": 32,
   "outputs": [
    {
     "data": {
      "text/plain": "<Figure size 432x288 with 1 Axes>",
      "image/png": "[encoded data removed]"
     },
     "metadata": {
      "needs_background": "light"
     },
     "output_type": "display_data"
    }
   ],
   "source": [
    "plt.imshow(X_train[42069], cmap='binary')\n",
    "plt.title(y_train[42069])\n",
    "plt.show()"
   ],
   "metadata": {
    "collapsed": false,
    "pycharm": {
     "name": "#%%\n"
    }
   }
  },
  {
   "cell_type": "markdown",
   "source": [
    "##Pre-process the images"
   ],
   "metadata": {
    "collapsed": false
   }
  },
  {
   "cell_type": "code",
   "execution_count": 33,
   "outputs": [],
   "source": [
    "#Normalizing image to [0,1]\n",
    "X_train = X_train.astype(np.float32)/255\n",
    "X_test = X_test.astype(np.float32)/255\n",
    "\n",
    "#Expand dmension of image to 28,28,1\n",
    "X_train = np.expand_dims(X_train, -1)\n",
    "X_test = np.expand_dims(X_test, -1)\n",
    "\n",
    "#convert classes to one hot vectors\n",
    "y_train = keras.utils.to_categorical(y_train)\n",
    "y_test = keras.utils.to_categorical(y_test)"
   ],
   "metadata": {
    "collapsed": false,
    "pycharm": {
     "name": "#%%\n"
    }
   }
  },
  {
   "cell_type": "markdown",
   "source": [
    "##Create model"
   ],
   "metadata": {
    "collapsed": false
   }
  },
  {
   "cell_type": "code",
   "execution_count": 34,
   "outputs": [],
   "source": [
    "model = Sequential()\n",
    "\n",
    "model.add(Conv2D(32, kernel_size=(3,3), input_shape=(28,28,1), activation='relu'))\n",
    "model.add(MaxPool2D(pool_size=(2,2)))\n",
    "\n",
    "model.add(Conv2D(64, kernel_size=(3,3), input_shape=(28,28,1), activation='relu'))\n",
    "model.add(MaxPool2D(pool_size=(2,2)))\n",
    "\n",
    "model.add(Flatten())\n",
    "model.add(Dropout(0.25))\n",
    "model.add(Dense(10, activation='softmax'))\n",
    "\n",
    "#model.summary()"
   ],
   "metadata": {
    "collapsed": false,
    "pycharm": {
     "name": "#%%\n"
    }
   }
  },
  {
   "cell_type": "code",
   "execution_count": 35,
   "outputs": [],
   "source": [
    "#Compile model\n",
    "model.compile(optimizer='adam', loss = keras.losses.categorical_crossentropy, metrics=['accuracy'])"
   ],
   "metadata": {
    "collapsed": false,
    "pycharm": {
     "name": "#%%\n"
    }
   }
  },
  {
   "cell_type": "code",
   "execution_count": 39,
   "outputs": [],
   "source": [
    "#Callbacks\n",
    "es = EarlyStopping(monitor='val_accuracy', min_delta=0.01, patience=4, verbose=1)\n",
    "\n",
    "mc = ModelCheckpoint(\"./bestmodel.h5\", monitor='val_accuracy', verbose=1, save_best_only=True)\n",
    "\n",
    "cb = [es, mc]"
   ],
   "metadata": {
    "collapsed": false,
    "pycharm": {
     "name": "#%%\n"
    }
   }
  },
  {
   "cell_type": "markdown",
   "source": [
    "##Model Training"
   ],
   "metadata": {
    "collapsed": false
   }
  },
  {
   "cell_type": "code",
   "execution_count": 40,
   "outputs": [
    {
     "name": "stdout",
     "output_type": "stream",
     "text": [
      "Epoch 1/5\n",
      "1312/1313 [============================>.] - ETA: 0s - loss: 0.0317 - accuracy: 0.9895\n",
      "Epoch 00001: val_accuracy improved from -inf to 0.98856, saving model to .\\bestmodel.h5\n",
      "1313/1313 [==============================] - 11s 8ms/step - loss: 0.0317 - accuracy: 0.9895 - val_loss: 0.0391 - val_accuracy: 0.9886\n",
      "Epoch 2/5\n",
      "1307/1313 [============================>.] - ETA: 0s - loss: 0.0258 - accuracy: 0.9914\n",
      "Epoch 00002: val_accuracy did not improve from 0.98856\n",
      "1313/1313 [==============================] - 11s 8ms/step - loss: 0.0259 - accuracy: 0.9913 - val_loss: 0.0408 - val_accuracy: 0.9884\n",
      "Epoch 3/5\n",
      "1312/1313 [============================>.] - ETA: 0s - loss: 0.0246 - accuracy: 0.9918\n",
      "Epoch 00003: val_accuracy improved from 0.98856 to 0.98917, saving model to .\\bestmodel.h5\n",
      "1313/1313 [==============================] - 10s 8ms/step - loss: 0.0246 - accuracy: 0.9918 - val_loss: 0.0373 - val_accuracy: 0.9892\n",
      "Epoch 4/5\n",
      "1309/1313 [============================>.] - ETA: 0s - loss: 0.0213 - accuracy: 0.9923\n",
      "Epoch 00004: val_accuracy did not improve from 0.98917\n",
      "1313/1313 [==============================] - 10s 8ms/step - loss: 0.0213 - accuracy: 0.9923 - val_loss: 0.0362 - val_accuracy: 0.9888\n",
      "Epoch 5/5\n",
      "1309/1313 [============================>.] - ETA: 0s - loss: 0.0192 - accuracy: 0.9937\n",
      "Epoch 00005: val_accuracy improved from 0.98917 to 0.98978, saving model to .\\bestmodel.h5\n",
      "1313/1313 [==============================] - 11s 8ms/step - loss: 0.0192 - accuracy: 0.9937 - val_loss: 0.0359 - val_accuracy: 0.9898\n",
      "Epoch 00005: early stopping\n"
     ]
    }
   ],
   "source": [
    "his = model.fit(X_train, y_train, epochs=5, validation_split=0.3, callbacks=cb)"
   ],
   "metadata": {
    "collapsed": false,
    "pycharm": {
     "name": "#%%\n"
    }
   }
  },
  {
   "cell_type": "code",
   "execution_count": 42,
   "outputs": [
    {
     "name": "stdout",
     "output_type": "stream",
     "text": [
      "313/313 [==============================] - 1s 2ms/step - loss: 0.0302 - accuracy: 0.9904\n",
      "The model accuracy is 0.9904000163078308\n"
     ]
    }
   ],
   "source": [
    "model_S = keras.models.load_model(\"bestmodel.h5\")\n",
    "score = model_S.evaluate(X_test, y_test)\n",
    "print(f\"The model accuracy is {score[1]}\")"
   ],
   "metadata": {
    "collapsed": false,
    "pycharm": {
     "name": "#%%\n"
    }
   }
  },
  {
   "cell_type": "code",
   "execution_count": null,
   "outputs": [],
   "source": [],
   "metadata": {
    "collapsed": false,
    "pycharm": {
     "name": "#%%\n"
    }
   }
  }
 ],
 "metadata": {
  "kernelspec": {
   "display_name": "Python 3",
   "language": "python",
   "name": "python3"
  },
  "language_info": {
   "codemirror_mode": {
    "name": "ipython",
    "version": 2
   },
   "file_extension": ".py",
   "mimetype": "text/x-python",
   "name": "python",
   "nbconvert_exporter": "python",
   "pygments_lexer": "ipython2",
   "version": "2.7.6"
  }
 },
 "nbformat": 4,
 "nbformat_minor": 0
}