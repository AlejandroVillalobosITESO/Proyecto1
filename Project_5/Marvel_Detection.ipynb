{
 "cells": [
  {
   "cell_type": "markdown",
   "metadata": {},
   "source": [
    "# Project No. 5 -Marvel Heroes Project\n",
    "### Authors:\n",
    "M. Alejandro Villalobos C.\n",
    "Óscar Ruiz Ramirez\n",
    "Sofía Vargas Aceves\n",
    "### Fecha:\n",
    "12 de Mayo, 2022\n",
    "### Description:\n",
    "Quinto proyecto Machine Learning. Marvel Heroes Project\n",
    "<br>Video disponible en:"
   ]
  },
  {
   "cell_type": "code",
   "execution_count": 5,
   "metadata": {},
   "outputs": [
    {
     "data": {
      "text/plain": [
       "Index(['n0', 'n1', 'n2', 'n3', 'n4', 'n5', 'n6', 'n7', 'n8', 'n9',\n",
       "       ...\n",
       "       'n2044', 'n2045', 'n2046', 'n2047', 'category', 'image name', 'image',\n",
       "       'size', 'width', 'height'],\n",
       "      dtype='object', length=2054)"
      ]
     },
     "execution_count": 5,
     "metadata": {},
     "output_type": "execute_result"
    }
   ],
   "source": [
    "import pandas as pd\n",
    "\n",
    "Dataset = pd.read_csv(\"./Marvel_Heroes.csv\")\n",
    "\n",
    "Dataset.keys()"
   ]
  },
  {
   "cell_type": "code",
   "execution_count": 6,
   "metadata": {},
   "outputs": [],
   "source": [
    "Dataset = Dataset.drop(['image','image name', 'size', 'width','height'],axis=1)\n",
    "Dataset['category'] = Dataset['category'].replace(['Black_Widow', 'Captain_America', 'Hulk', 'Iron_Man', 'Nick_Fury'], [0,1,2,3,4])\n",
    "DataFrameFlowers = pd.DataFrame(Dataset)"
   ]
  },
  {
   "cell_type": "code",
   "execution_count": 7,
   "metadata": {},
   "outputs": [],
   "source": [
    "X = DataFrameFlowers.drop(['category'], axis = 1)\n",
    "Y = DataFrameFlowers['category']\n",
    "\n",
    "from sklearn.model_selection import train_test_split\n",
    "X_train, X_test, y_train, y_test = train_test_split(X, Y, test_size=0.20, random_state=0)"
   ]
  },
  {
   "cell_type": "markdown",
   "metadata": {},
   "source": [
    "## Model #1 Support Vector Machine (SVM)"
   ]
  },
  {
   "cell_type": "markdown",
   "metadata": {},
   "source": [
    "### 3. Model Creation"
   ]
  },
  {
   "cell_type": "code",
   "execution_count": 8,
   "metadata": {},
   "outputs": [],
   "source": [
    "from sklearn import svm\n",
    "SVM = svm.SVC(kernel='poly')\n",
    "SVM_better = svm.SVC(kernel='linear')"
   ]
  },
  {
   "cell_type": "markdown",
   "metadata": {},
   "source": [
    "### 4. Training: Adjust Model with Historic Data"
   ]
  },
  {
   "cell_type": "code",
   "execution_count": 9,
   "metadata": {},
   "outputs": [
    {
     "data": {
      "text/plain": [
       "SVC(kernel='linear')"
      ]
     },
     "execution_count": 9,
     "metadata": {},
     "output_type": "execute_result"
    }
   ],
   "source": [
    "SVM.fit(X_train, y_train)\n",
    "SVM_better.fit(X_train, y_train)"
   ]
  },
  {
   "cell_type": "markdown",
   "metadata": {},
   "source": [
    "### 5. Prediction for New Data"
   ]
  },
  {
   "cell_type": "code",
   "execution_count": 10,
   "metadata": {},
   "outputs": [],
   "source": [
    "y_predictSVM = SVM.predict(X_test)\n",
    "y_predictSVM_better = SVM_better.predict(X_test)"
   ]
  },
  {
   "cell_type": "markdown",
   "metadata": {},
   "source": [
    "## Model #2 Random Forest"
   ]
  },
  {
   "cell_type": "markdown",
   "metadata": {},
   "source": [
    "### 3. Model Creation"
   ]
  },
  {
   "cell_type": "code",
   "execution_count": 11,
   "metadata": {},
   "outputs": [],
   "source": [
    "from sklearn.ensemble import RandomForestClassifier\n",
    "RFC = RandomForestClassifier(n_estimators=500)\n",
    "RFC_better = RandomForestClassifier(n_estimators= 400,bootstrap= False)"
   ]
  },
  {
   "cell_type": "markdown",
   "metadata": {},
   "source": [
    "### 4. Training: Adjust Model with Historic Data"
   ]
  },
  {
   "cell_type": "code",
   "execution_count": 12,
   "metadata": {},
   "outputs": [
    {
     "data": {
      "text/plain": [
       "RandomForestClassifier(bootstrap=False, n_estimators=400)"
      ]
     },
     "execution_count": 12,
     "metadata": {},
     "output_type": "execute_result"
    }
   ],
   "source": [
    "RFC.fit(X_train, y_train)\n",
    "RFC_better.fit(X_train, y_train)"
   ]
  },
  {
   "cell_type": "markdown",
   "metadata": {},
   "source": [
    "### 5. Prediction for New Data"
   ]
  },
  {
   "cell_type": "code",
   "execution_count": 13,
   "metadata": {},
   "outputs": [],
   "source": [
    "y_predictRF = RFC.predict(X_test)\n",
    "y_predictRF_better = RFC_better.predict(X_test)"
   ]
  },
  {
   "cell_type": "markdown",
   "metadata": {},
   "source": [
    "## Model #4 Neural Network: MultiLayer Perceptron (MLP)"
   ]
  },
  {
   "cell_type": "markdown",
   "metadata": {},
   "source": [
    "### 3. Model Creation"
   ]
  },
  {
   "cell_type": "code",
   "execution_count": 21,
   "metadata": {},
   "outputs": [],
   "source": [
    "from sklearn.neural_network import MLPClassifier\n",
    "MLP = MLPClassifier(hidden_layer_sizes= (64,64,64,64))\n",
    "MLP2 = MLPClassifier(hidden_layer_sizes= (128,128,128,128))"
   ]
  },
  {
   "cell_type": "markdown",
   "metadata": {},
   "source": [
    "### 4. Training: Adjust Model with Historic Data"
   ]
  },
  {
   "cell_type": "code",
   "execution_count": 22,
   "metadata": {},
   "outputs": [
    {
     "data": {
      "text/plain": [
       "MLPClassifier(hidden_layer_sizes=(128, 128, 128, 128))"
      ]
     },
     "execution_count": 22,
     "metadata": {},
     "output_type": "execute_result"
    }
   ],
   "source": [
    "MLP.fit(X_train, y_train)\n",
    "MLP2.fit(X_train, y_train)"
   ]
  },
  {
   "cell_type": "markdown",
   "metadata": {},
   "source": [
    "### 5. Prediction for New Data"
   ]
  },
  {
   "cell_type": "code",
   "execution_count": 23,
   "metadata": {},
   "outputs": [],
   "source": [
    "y_predictMLP = MLP.predict(X_test)\n",
    "y_predictMLP2 = MLP2.predict(X_test)"
   ]
  },
  {
   "cell_type": "markdown",
   "metadata": {},
   "source": [
    "## 6. Visualization of Results"
   ]
  },
  {
   "cell_type": "code",
   "execution_count": 14,
   "metadata": {},
   "outputs": [],
   "source": [
    "from sklearn.model_selection import cross_val_score\n",
    "from sklearn.metrics import accuracy_score"
   ]
  },
  {
   "cell_type": "markdown",
   "metadata": {},
   "source": [
    "### Model #1 Support Vector Machine (SVM)"
   ]
  },
  {
   "cell_type": "code",
   "execution_count": 15,
   "metadata": {},
   "outputs": [],
   "source": [
    "CV_SVM = cross_val_score(SVM, X_train, y_train, cv=3, scoring = \"accuracy\")\n",
    "CV_SVM_better = cross_val_score(SVM_better, X_train, y_train, cv=3, scoring = \"accuracy\")"
   ]
  },
  {
   "cell_type": "code",
   "execution_count": 16,
   "metadata": {},
   "outputs": [],
   "source": [
    "AS_SVM = accuracy_score(y_test,y_predictSVM)\n",
    "AS_SVM_better = accuracy_score(y_test,y_predictSVM_better)"
   ]
  },
  {
   "cell_type": "markdown",
   "metadata": {},
   "source": [
    "### Model #2 Random Forest"
   ]
  },
  {
   "cell_type": "code",
   "execution_count": 17,
   "metadata": {},
   "outputs": [],
   "source": [
    "CV_RF = cross_val_score(RFC, X_train, y_train, cv=3, scoring = \"accuracy\")\n",
    "CV_RF_better = cross_val_score(RFC_better, X_train, y_train, cv=3, scoring = \"accuracy\")"
   ]
  },
  {
   "cell_type": "code",
   "execution_count": 18,
   "metadata": {},
   "outputs": [],
   "source": [
    "AS_RF = accuracy_score(y_test,y_predictRF)\n",
    "AS_RF_better = accuracy_score(y_test,y_predictRF_better)"
   ]
  },
  {
   "cell_type": "markdown",
   "metadata": {},
   "source": [
    "## Model #3 Support Vector Machine (SVC)"
   ]
  },
  {
   "cell_type": "code",
   "execution_count": 24,
   "metadata": {},
   "outputs": [],
   "source": [
    "CV_MLP = cross_val_score(MLP, X_train, y_train, cv=3, scoring = \"accuracy\")\n",
    "CV_MLP2 = cross_val_score(MLP2, X_train, y_train, cv=3, scoring = \"accuracy\")"
   ]
  },
  {
   "cell_type": "code",
   "execution_count": 25,
   "metadata": {},
   "outputs": [],
   "source": [
    "AS_MLP = accuracy_score(y_test,y_predictMLP)\n",
    "AS_MLP2 = accuracy_score(y_test,y_predictMLP2)"
   ]
  },
  {
   "cell_type": "code",
   "execution_count": 26,
   "metadata": {},
   "outputs": [
    {
     "data": {
      "text/html": [
       "<style type=\"text/css\">\n",
       "</style>\n",
       "<table id=\"T_a8ade_\">\n",
       "  <caption>Models' Accuracy Scores and Cross Validations</caption>\n",
       "  <thead>\n",
       "    <tr>\n",
       "      <th class=\"blank level0\" >&nbsp;</th>\n",
       "      <th class=\"col_heading level0 col0\" >Accuracy Scores</th>\n",
       "      <th class=\"col_heading level0 col1\" >CV AVG</th>\n",
       "      <th class=\"col_heading level0 col2\" >CV #1</th>\n",
       "      <th class=\"col_heading level0 col3\" >CV #2</th>\n",
       "      <th class=\"col_heading level0 col4\" >CV #3</th>\n",
       "    </tr>\n",
       "  </thead>\n",
       "  <tbody>\n",
       "    <tr>\n",
       "      <th id=\"T_a8ade_level0_row0\" class=\"row_heading level0 row0\" >SVM</th>\n",
       "      <td id=\"T_a8ade_row0_col0\" class=\"data row0 col0\" >0.972973</td>\n",
       "      <td id=\"T_a8ade_row0_col1\" class=\"data row0 col1\" >0.862670</td>\n",
       "      <td id=\"T_a8ade_row0_col2\" class=\"data row0 col2\" >0.775510</td>\n",
       "      <td id=\"T_a8ade_row0_col3\" class=\"data row0 col3\" >0.875000</td>\n",
       "      <td id=\"T_a8ade_row0_col4\" class=\"data row0 col4\" >0.937500</td>\n",
       "    </tr>\n",
       "    <tr>\n",
       "      <th id=\"T_a8ade_level0_row1\" class=\"row_heading level0 row1\" >RF</th>\n",
       "      <td id=\"T_a8ade_row1_col0\" class=\"data row1 col0\" >0.945946</td>\n",
       "      <td id=\"T_a8ade_row1_col1\" class=\"data row1 col1\" >0.841837</td>\n",
       "      <td id=\"T_a8ade_row1_col2\" class=\"data row1 col2\" >0.775510</td>\n",
       "      <td id=\"T_a8ade_row1_col3\" class=\"data row1 col3\" >0.875000</td>\n",
       "      <td id=\"T_a8ade_row1_col4\" class=\"data row1 col4\" >0.875000</td>\n",
       "    </tr>\n",
       "    <tr>\n",
       "      <th id=\"T_a8ade_level0_row2\" class=\"row_heading level0 row2\" >MLP</th>\n",
       "      <td id=\"T_a8ade_row2_col0\" class=\"data row2 col0\" >0.972973</td>\n",
       "      <td id=\"T_a8ade_row2_col1\" class=\"data row2 col1\" >0.855584</td>\n",
       "      <td id=\"T_a8ade_row2_col2\" class=\"data row2 col2\" >0.795918</td>\n",
       "      <td id=\"T_a8ade_row2_col3\" class=\"data row2 col3\" >0.875000</td>\n",
       "      <td id=\"T_a8ade_row2_col4\" class=\"data row2 col4\" >0.895833</td>\n",
       "    </tr>\n",
       "    <tr>\n",
       "      <th id=\"T_a8ade_level0_row3\" class=\"row_heading level0 row3\" >SVM_better</th>\n",
       "      <td id=\"T_a8ade_row3_col0\" class=\"data row3 col0\" >0.972973</td>\n",
       "      <td id=\"T_a8ade_row3_col1\" class=\"data row3 col1\" >0.883220</td>\n",
       "      <td id=\"T_a8ade_row3_col2\" class=\"data row3 col2\" >0.816327</td>\n",
       "      <td id=\"T_a8ade_row3_col3\" class=\"data row3 col3\" >0.937500</td>\n",
       "      <td id=\"T_a8ade_row3_col4\" class=\"data row3 col4\" >0.895833</td>\n",
       "    </tr>\n",
       "    <tr>\n",
       "      <th id=\"T_a8ade_level0_row4\" class=\"row_heading level0 row4\" >RF_better</th>\n",
       "      <td id=\"T_a8ade_row4_col0\" class=\"data row4 col0\" >0.918919</td>\n",
       "      <td id=\"T_a8ade_row4_col1\" class=\"data row4 col1\" >0.862387</td>\n",
       "      <td id=\"T_a8ade_row4_col2\" class=\"data row4 col2\" >0.816327</td>\n",
       "      <td id=\"T_a8ade_row4_col3\" class=\"data row4 col3\" >0.875000</td>\n",
       "      <td id=\"T_a8ade_row4_col4\" class=\"data row4 col4\" >0.895833</td>\n",
       "    </tr>\n",
       "    <tr>\n",
       "      <th id=\"T_a8ade_level0_row5\" class=\"row_heading level0 row5\" >MLP_better</th>\n",
       "      <td id=\"T_a8ade_row5_col0\" class=\"data row5 col0\" >0.918919</td>\n",
       "      <td id=\"T_a8ade_row5_col1\" class=\"data row5 col1\" >0.821003</td>\n",
       "      <td id=\"T_a8ade_row5_col2\" class=\"data row5 col2\" >0.775510</td>\n",
       "      <td id=\"T_a8ade_row5_col3\" class=\"data row5 col3\" >0.812500</td>\n",
       "      <td id=\"T_a8ade_row5_col4\" class=\"data row5 col4\" >0.875000</td>\n",
       "    </tr>\n",
       "  </tbody>\n",
       "</table>\n"
      ],
      "text/plain": [
       "<pandas.io.formats.style.Styler at 0x1b6feca5288>"
      ]
     },
     "execution_count": 26,
     "metadata": {},
     "output_type": "execute_result"
    }
   ],
   "source": [
    "#Creación de dataframe con los resultados\n",
    "models = [\"SVM\", \"RF\",\"MLP\",\"SVM_better\", \"RF_better\", \"MLP_better\"]\n",
    "AS_values = [AS_SVM, AS_RF,AS_MLP, AS_SVM_better, AS_RF_better, AS_MLP2]\n",
    "CV_values = [CV_SVM, CV_RF,CV_MLP, CV_SVM_better, CV_RF_better, CV_MLP2]\n",
    "\n",
    "data = {\"Accuracy Scores\": AS_values, \"Cross Validations\": CV_values}\n",
    "df = pd.DataFrame(data, index = models)\n",
    "\n",
    "#Separación de arrays de Cross Validations en columnas\n",
    "dfCV = pd.DataFrame(df['Cross Validations'].to_list(), columns=['CV #1','CV #2','CV #3'], index = models)\n",
    "#Cálculo de promedio de Cross Validations\n",
    "dfCV.insert(0,'CV AVG', dfCV[['CV #1','CV #2','CV #3']].mean(axis=1, numeric_only=True))\n",
    "\n",
    "#Concatenación de dataframes con las columnas finales\n",
    "dfAcc = pd.concat([df['Accuracy Scores'], dfCV], axis=1)\n",
    "dfAcc = dfAcc.style.set_caption(\"Models' Accuracy Scores and Cross Validations\")\n",
    "dfAcc"
   ]
  },
  {
   "cell_type": "markdown",
   "metadata": {},
   "source": [
    "## Confusion Matrix"
   ]
  },
  {
   "cell_type": "code",
   "execution_count": 27,
   "metadata": {},
   "outputs": [
    {
     "name": "stdout",
     "output_type": "stream",
     "text": [
      "[[ 9  0  0  0  0]\n",
      " [ 0 12  0  0  0]\n",
      " [ 0  0  4  0  0]\n",
      " [ 0  1  0  4  0]\n",
      " [ 0  0  0  0  7]]\n",
      "--------------------------------\n",
      "[[ 9  0  0  0  0]\n",
      " [ 1 10  0  1  0]\n",
      " [ 0  0  4  0  0]\n",
      " [ 0  1  0  4  0]\n",
      " [ 0  0  0  0  7]]\n"
     ]
    }
   ],
   "source": [
    "from sklearn.metrics import confusion_matrix\n",
    "cmMLP=confusion_matrix(y_test,y_predictMLP)\n",
    "print(cmMLP)\n",
    "\n",
    "print(\"--------------------------------\")\n",
    "cmMLP_better=confusion_matrix(y_test,y_predictMLP2)\n",
    "print(cmMLP_better)"
   ]
  }
 ],
 "metadata": {
  "interpreter": {
   "hash": "6e81ddef9c506a7392a49d5798d0636d138ad487f83abc805786e6ee1f68ca88"
  },
  "kernelspec": {
   "display_name": "Python 3.7.11 ('DeepEnvirom')",
   "language": "python",
   "name": "python3"
  },
  "language_info": {
   "codemirror_mode": {
    "name": "ipython",
    "version": 3
   },
   "file_extension": ".py",
   "mimetype": "text/x-python",
   "name": "python",
   "nbconvert_exporter": "python",
   "pygments_lexer": "ipython3",
   "version": "3.7.11"
  },
  "orig_nbformat": 4
 },
 "nbformat": 4,
 "nbformat_minor": 2
}
