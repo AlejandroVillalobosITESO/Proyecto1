{
 "cells": [
  {
   "cell_type": "markdown",
   "metadata": {
    "pycharm": {
     "name": "#%% md\n"
    }
   },
   "source": [
    "# Project No. 5 -Marvel Heroes Project\n",
    "### Authors:\n",
    "M. Alejandro Villalobos C.\n",
    "Óscar Ruiz Ramirez\n",
    "Sofía Vargas Aceves\n",
    "### Fecha:\n",
    "12 de Mayo, 2022\n",
    "### Description:\n",
    "Quinto proyecto Machine Learning. Marvel Heroes Project\n",
    "<br>Video disponible en:"
   ]
  },
  {
   "cell_type": "markdown",
   "source": [
    "## Model #1 Convolutional Neural Network (CNN)"
   ],
   "metadata": {
    "collapsed": false,
    "pycharm": {
     "name": "#%% md\n"
    }
   }
  },
  {
   "cell_type": "code",
   "execution_count": 3,
   "outputs": [],
   "source": [
    "import cv2\n",
    "import pandas as pd\n",
    "import keras\n",
    "import glob\n",
    "import numpy as np\n",
    "ADpaths = glob.glob('.//AugmentedDataset/*/*.jpg', recursive=True)\n",
    "Rpaths = glob.glob('.//ResizedDataset/*/*.jpg', recursive=True)"
   ],
   "metadata": {
    "collapsed": false,
    "pycharm": {
     "name": "#%%\n"
    }
   }
  },
  {
   "cell_type": "code",
   "execution_count": 4,
   "outputs": [
    {
     "name": "stdout",
     "output_type": "stream",
     "text": [
      "(2962, 400, 400, 3)\n"
     ]
    }
   ],
   "source": [
    "imgList = []\n",
    "targets = []\n",
    "for img_path in ADpaths:\n",
    "       img_name = img_path.split('\\\\')[-1].split('.')[0]\n",
    "       target = img_path.split('\\\\')[-2]\n",
    "       # read image\n",
    "       img = cv2.imread(img_path)\n",
    "\n",
    "       imgList.append(img)\n",
    "       targets.append(target)\n",
    "\n",
    "for img_path in Rpaths:\n",
    "       img_name = img_path.split('\\\\')[-1].split('.')[0]\n",
    "       target = img_path.split('\\\\')[-2]\n",
    "       # read image\n",
    "       img = cv2.imread(img_path)\n",
    "       \n",
    "       imgList.append(img)\n",
    "       targets.append(target)\n",
    "\n",
    "print(np.asarray(imgList).shape)"
   ],
   "metadata": {
    "collapsed": false,
    "pycharm": {
     "name": "#%%\n"
    }
   }
  },
  {
   "cell_type": "code",
   "execution_count": 5,
   "outputs": [],
   "source": [
    "dfList = np.asarray(imgList).reshape(np.asarray(imgList).shape[0],img.shape[0]*img.shape[1]*img.shape[2])\n",
    "X = pd.DataFrame(dfList)"
   ],
   "metadata": {
    "collapsed": false,
    "pycharm": {
     "name": "#%%\n"
    }
   }
  },
  {
   "cell_type": "code",
   "execution_count": 6,
   "outputs": [
    {
     "name": "stderr",
     "output_type": "stream",
     "text": [
      "C:\\Users\\Alex\\anaconda3\\envs\\ML_DL\\lib\\site-packages\\sklearn\\preprocessing\\_label.py:115: DataConversionWarning: A column-vector y was passed when a 1d array was expected. Please change the shape of y to (n_samples, ), for example using ravel().\n",
      "  y = column_or_1d(y, warn=True)\n"
     ]
    },
    {
     "data": {
      "text/plain": "array([0, 0, 0, ..., 20, 20, 20], dtype=object)"
     },
     "execution_count": 6,
     "metadata": {},
     "output_type": "execute_result"
    }
   ],
   "source": [
    "from sklearn.preprocessing import LabelEncoder\n",
    "encoder = LabelEncoder()\n",
    "\n",
    "dfT = pd.DataFrame(targets)\n",
    "dfT = encoder.fit_transform(dfT)\n",
    "MarvelChar = {index : label for index, label in enumerate(encoder.classes_)}\n",
    "\n",
    "Y = dfT.astype(object)\n",
    "Y"
   ],
   "metadata": {
    "collapsed": false,
    "pycharm": {
     "name": "#%%\n"
    }
   }
  },
  {
   "cell_type": "code",
   "execution_count": 7,
   "outputs": [],
   "source": [
    "from sklearn.model_selection import train_test_split\n",
    "X_train, X_test, y_train, y_test = train_test_split(X, Y, test_size=0.20, random_state=0)"
   ],
   "metadata": {
    "collapsed": false,
    "pycharm": {
     "name": "#%%\n"
    }
   }
  },
  {
   "cell_type": "code",
   "execution_count": 8,
   "outputs": [],
   "source": [
    "#Normalizando imagen de [0,1] para el modelo de CNN\n",
    "X_trainCNN = X_train/255.0\n",
    "X_testCNN = X_test/255.0\n",
    "\n",
    "#Aqui haremos las variables especialmente para el modelo CNN, ya que se necesita estar en 3 dimensiones\n",
    "#Para training 201 x 2048 x 1, para test 51 x 2048 x 1\n",
    "X_trainCNN = X_train.values.reshape(X_train.shape[0], img.shape[0], img.shape[0], 3)\n",
    "X_testCNN = X_test.values.reshape(X_test.shape[0], img.shape[0], img.shape[0], 3)"
   ],
   "metadata": {
    "collapsed": false,
    "pycharm": {
     "name": "#%%\n"
    }
   }
  },
  {
   "cell_type": "code",
   "execution_count": 9,
   "outputs": [
    {
     "data": {
      "text/plain": "(2369, 400, 400, 3)"
     },
     "execution_count": 9,
     "metadata": {},
     "output_type": "execute_result"
    }
   ],
   "source": [
    "X_trainCNN.shape"
   ],
   "metadata": {
    "collapsed": false,
    "pycharm": {
     "name": "#%%\n"
    }
   }
  },
  {
   "cell_type": "code",
   "execution_count": 10,
   "outputs": [
    {
     "data": {
      "text/plain": "(593, 400, 400, 3)"
     },
     "execution_count": 10,
     "metadata": {},
     "output_type": "execute_result"
    }
   ],
   "source": [
    "X_testCNN.shape"
   ],
   "metadata": {
    "collapsed": false,
    "pycharm": {
     "name": "#%%\n"
    }
   }
  },
  {
   "cell_type": "code",
   "execution_count": 11,
   "outputs": [],
   "source": [
    "y_trainCNN = keras.utils.to_categorical(y_train)\n",
    "y_testCNN = keras.utils.to_categorical(y_test)"
   ],
   "metadata": {
    "collapsed": false,
    "pycharm": {
     "name": "#%%\n"
    }
   }
  },
  {
   "cell_type": "markdown",
   "source": [
    "### 3. Model Creation"
   ],
   "metadata": {
    "collapsed": false,
    "pycharm": {
     "name": "#%% md\n"
    }
   }
  },
  {
   "cell_type": "code",
   "execution_count": 14,
   "outputs": [],
   "source": [
    "import numpy as np\n",
    "import keras\n",
    "from keras.models import Sequential\n",
    "from keras.layers import Dense, Dropout, Flatten, Conv2D, MaxPooling2D\n",
    "\n",
    "CNN1 = Sequential()\n",
    "CNN2 = Sequential()\n",
    "CNN3 = Sequential()\n",
    "\n",
    "CNN1.add(Conv2D(filters=256, kernel_size=3, activation='relu', input_shape=(img.shape[0],img.shape[0],3)))\n",
    "CNN1.add(MaxPooling2D(pool_size=2))\n",
    "CNN1.add(Dropout(0.25))\n",
    "CNN1.add(Flatten())\n",
    "CNN1.add(Dense(21, activation='softmax'))\n",
    "CNN1.compile(optimizer='adam', loss = keras.losses.categorical_crossentropy, metrics=['accuracy'])\n",
    "\n",
    "CNN2.add(Conv2D(128, 3, activation='relu', input_shape=(img.shape[0],img.shape[0],3)))\n",
    "CNN2.add(MaxPooling2D(2))\n",
    "CNN2.add(Flatten())\n",
    "CNN2.add(Dense(128, activation='relu'))\n",
    "CNN2.add(Dense(21, activation='softmax'))\n",
    "CNN2.compile(optimizer='adam', loss = keras.losses.categorical_crossentropy, metrics=['accuracy'])\n",
    "\n",
    "CNN3.add(Conv2D(filters=64, kernel_size=5, activation='relu', input_shape=(img.shape[0],img.shape[0],3)))\n",
    "CNN3.add(MaxPooling2D(pool_size=8))\n",
    "CNN3.add(Dropout(0.125))\n",
    "CNN3.add(Flatten())\n",
    "CNN3.add(Dense(21, activation='softmax'))\n",
    "CNN3.compile(optimizer='adam', loss = keras.losses.categorical_crossentropy, metrics=['accuracy'])"
   ],
   "metadata": {
    "collapsed": false,
    "pycharm": {
     "name": "#%%\n"
    }
   }
  },
  {
   "cell_type": "markdown",
   "source": [
    "### 4. Training: Adjust Model with Historic Data"
   ],
   "metadata": {
    "collapsed": false,
    "pycharm": {
     "name": "#%% md\n"
    }
   }
  },
  {
   "cell_type": "code",
   "execution_count": 57,
   "outputs": [
    {
     "name": "stdout",
     "output_type": "stream",
     "text": [
      "Epoch 1/3\n",
      "75/75 [==============================] - 1247s 17s/step - loss: 6988.9766 - accuracy: 0.1262 - val_loss: 36.1341 - val_accuracy: 0.1265\n",
      "Epoch 2/3\n",
      "75/75 [==============================] - 1120s 15s/step - loss: 6.1786 - accuracy: 0.6843 - val_loss: 26.9554 - val_accuracy: 0.1703\n",
      "Epoch 3/3\n",
      "75/75 [==============================] - 1043s 14s/step - loss: 0.6254 - accuracy: 0.9244 - val_loss: 25.8706 - val_accuracy: 0.1906\n"
     ]
    }
   ],
   "source": [
    "CNN_H1 = CNN1.fit(X_trainCNN, y_trainCNN, validation_data=(X_testCNN, y_testCNN), epochs=3)"
   ],
   "metadata": {
    "collapsed": false,
    "pycharm": {
     "name": "#%%\n"
    }
   }
  },
  {
   "cell_type": "code",
   "execution_count": 15,
   "outputs": [
    {
     "name": "stdout",
     "output_type": "stream",
     "text": [
      "Epoch 1/3\n",
      "75/75 [==============================] - 1036s 14s/step - loss: 8804.4209 - accuracy: 0.0646 - val_loss: 13.7700 - val_accuracy: 0.0793\n",
      "Epoch 2/3\n",
      "75/75 [==============================] - 988s 13s/step - loss: 4.4973 - accuracy: 0.1292 - val_loss: 5.0588 - val_accuracy: 0.0877\n",
      "Epoch 3/3\n",
      "75/75 [==============================] - 1008s 13s/step - loss: 2.9434 - accuracy: 0.1950 - val_loss: 5.6231 - val_accuracy: 0.1383\n"
     ]
    }
   ],
   "source": [
    "CNN_H2 = CNN2.fit(X_trainCNN, y_trainCNN, validation_data=(X_testCNN, y_testCNN), epochs=3)"
   ],
   "metadata": {
    "collapsed": false,
    "pycharm": {
     "name": "#%%\n"
    }
   }
  },
  {
   "cell_type": "code",
   "execution_count": 17,
   "outputs": [
    {
     "name": "stdout",
     "output_type": "stream",
     "text": [
      "Epoch 1/3\n",
      "75/75 [==============================] - 114s 2s/step - loss: 281.6449 - accuracy: 0.0815 - val_loss: 4.4322 - val_accuracy: 0.0793\n",
      "Epoch 2/3\n",
      "75/75 [==============================] - 112s 1s/step - loss: 2.7073 - accuracy: 0.3225 - val_loss: 3.7541 - val_accuracy: 0.1383\n",
      "Epoch 3/3\n",
      "75/75 [==============================] - 111s 1s/step - loss: 1.4986 - accuracy: 0.5927 - val_loss: 4.3305 - val_accuracy: 0.1551\n",
      "Epoch 1/3\n",
      "75/75 [==============================] - 111s 1s/step - loss: 0.9922 - accuracy: 0.7391 - val_loss: 5.4868 - val_accuracy: 0.1602\n",
      "Epoch 2/3\n",
      "75/75 [==============================] - 112s 1s/step - loss: 0.6824 - accuracy: 0.8151 - val_loss: 6.8028 - val_accuracy: 0.1669\n",
      "Epoch 3/3\n",
      "75/75 [==============================] - 115s 2s/step - loss: 0.4646 - accuracy: 0.8797 - val_loss: 7.4595 - val_accuracy: 0.1703\n"
     ]
    }
   ],
   "source": [
    "CNN_H3 = CNN3.fit(X_trainCNN, y_trainCNN, validation_data=(X_testCNN, y_testCNN), epochs=3)"
   ],
   "metadata": {
    "collapsed": false,
    "pycharm": {
     "name": "#%%\n"
    }
   }
  },
  {
   "cell_type": "markdown",
   "source": [
    "### 5. Prediction for New Data"
   ],
   "metadata": {
    "collapsed": false,
    "pycharm": {
     "name": "#%% md\n"
    }
   }
  },
  {
   "cell_type": "code",
   "execution_count": 18,
   "outputs": [
    {
     "name": "stdout",
     "output_type": "stream",
     "text": [
      "WARNING:tensorflow:From C:\\Users\\Alex\\AppData\\Local\\Temp/ipykernel_5076/1936293097.py:1: Sequential.predict_classes (from tensorflow.python.keras.engine.sequential) is deprecated and will be removed after 2021-01-01.\n",
      "Instructions for updating:\n",
      "Please use instead:* `np.argmax(model.predict(x), axis=-1)`,   if your model does multi-class classification   (e.g. if it uses a `softmax` last-layer activation).* `(model.predict(x) > 0.5).astype(\"int32\")`,   if your model does binary classification   (e.g. if it uses a `sigmoid` last-layer activation).\n"
     ]
    }
   ],
   "source": [
    "y_predictCNN = CNN1.predict_classes(X_testCNN)\n",
    "y_predictCNN2 = CNN2.predict_classes(X_testCNN)\n",
    "y_predictCNN3 = CNN3.predict_classes(X_testCNN)"
   ],
   "metadata": {
    "collapsed": false,
    "pycharm": {
     "name": "#%%\n"
    }
   }
  },
  {
   "cell_type": "markdown",
   "source": [
    "## 6. Visualization of Results"
   ],
   "metadata": {
    "collapsed": false,
    "pycharm": {
     "name": "#%% md\n"
    }
   }
  },
  {
   "cell_type": "code",
   "execution_count": 19,
   "outputs": [],
   "source": [
    "from sklearn.model_selection import cross_val_score\n",
    "from sklearn.metrics import accuracy_score"
   ],
   "metadata": {
    "collapsed": false,
    "pycharm": {
     "name": "#%%\n"
    }
   }
  },
  {
   "cell_type": "markdown",
   "source": [
    "### Model #4 Convolutional Neural Network (CNN)"
   ],
   "metadata": {
    "collapsed": false,
    "pycharm": {
     "name": "#%% md\n"
    }
   }
  },
  {
   "cell_type": "code",
   "execution_count": 20,
   "outputs": [
    {
     "name": "stdout",
     "output_type": "stream",
     "text": [
      "75/75 [==============================] - 156s 2s/step - loss: 29.2307 - accuracy: 0.0473\n",
      "75/75 [==============================] - 95s 1s/step - loss: 2.7383 - accuracy: 0.2271\n",
      "75/75 [==============================] - 25s 327ms/step - loss: 0.3592 - accuracy: 0.9341\n"
     ]
    }
   ],
   "source": [
    "CV_CNN1 = CNN1.evaluate(X_trainCNN, y_trainCNN)\n",
    "CV_CNN2 = CNN2.evaluate(X_trainCNN, y_trainCNN)\n",
    "CV_CNN3 = CNN3.evaluate(X_trainCNN, y_trainCNN)"
   ],
   "metadata": {
    "collapsed": false,
    "pycharm": {
     "name": "#%%\n"
    }
   }
  },
  {
   "cell_type": "code",
   "execution_count": 21,
   "outputs": [
    {
     "name": "stdout",
     "output_type": "stream",
     "text": [
      "19/19 [==============================] - 39s 2s/step - loss: 30.9447 - accuracy: 0.0388\n",
      "19/19 [==============================] - 22s 1s/step - loss: 5.6231 - accuracy: 0.1383\n",
      "19/19 [==============================] - 6s 294ms/step - loss: 7.4595 - accuracy: 0.1703\n"
     ]
    }
   ],
   "source": [
    "AS_CNN1 = CNN1.evaluate(X_testCNN, y_testCNN)\n",
    "AS_CNN2 = CNN2.evaluate(X_testCNN, y_testCNN)\n",
    "AS_CNN3 = CNN3.evaluate(X_testCNN, y_testCNN)"
   ],
   "metadata": {
    "collapsed": false,
    "pycharm": {
     "name": "#%%\n"
    }
   }
  },
  {
   "cell_type": "code",
   "execution_count": 22,
   "outputs": [
    {
     "data": {
      "text/plain": "<pandas.io.formats.style.Styler at 0x16f334d2dc0>",
      "text/html": "<style type=\"text/css\">\n</style>\n<table id=\"T_47349\">\n  <caption>Models' Accuracy Scores and Cross validation</caption>\n  <thead>\n    <tr>\n      <th class=\"blank level0\" >&nbsp;</th>\n      <th id=\"T_47349_level0_col0\" class=\"col_heading level0 col0\" >Accuracy Scores</th>\n      <th id=\"T_47349_level0_col1\" class=\"col_heading level0 col1\" >CV AVG</th>\n      <th id=\"T_47349_level0_col2\" class=\"col_heading level0 col2\" >CV #1</th>\n    </tr>\n  </thead>\n  <tbody>\n    <tr>\n      <th id=\"T_47349_level0_row0\" class=\"row_heading level0 row0\" >CNN1</th>\n      <td id=\"T_47349_row0_col0\" class=\"data row0 col0\" >[30.944732666015625, 0.03878583386540413]</td>\n      <td id=\"T_47349_row0_col1\" class=\"data row0 col1\" >nan</td>\n      <td id=\"T_47349_row0_col2\" class=\"data row0 col2\" >[29.23066520690918, 0.04727733135223389]</td>\n    </tr>\n    <tr>\n      <th id=\"T_47349_level0_row1\" class=\"row_heading level0 row1\" >CNN2</th>\n      <td id=\"T_47349_row1_col0\" class=\"data row1 col0\" >[5.62305212020874, 0.13827992975711823]</td>\n      <td id=\"T_47349_row1_col1\" class=\"data row1 col1\" >nan</td>\n      <td id=\"T_47349_row1_col2\" class=\"data row1 col2\" >0.227100</td>\n    </tr>\n    <tr>\n      <th id=\"T_47349_level0_row2\" class=\"row_heading level0 row2\" >CNN3</th>\n      <td id=\"T_47349_row2_col0\" class=\"data row2 col0\" >[7.459471702575684, 0.17032040655612946]</td>\n      <td id=\"T_47349_row2_col1\" class=\"data row2 col1\" >nan</td>\n      <td id=\"T_47349_row2_col2\" class=\"data row2 col2\" >0.934149</td>\n    </tr>\n  </tbody>\n</table>\n"
     },
     "execution_count": 22,
     "metadata": {},
     "output_type": "execute_result"
    }
   ],
   "source": [
    "#Creación de dataframe con los resultados\n",
    "models = [\"CNN1\",\"CNN2\",\"CNN3\"]\n",
    "AS_values = [AS_CNN1, AS_CNN2,AS_CNN3]\n",
    "CV_values = [[CV_CNN1],[CV_CNN2[1]],[CV_CNN3[1]]]\n",
    "\n",
    "data = {\"Accuracy Scores\": AS_values, \"Cross validation\": CV_values}\n",
    "df = pd.DataFrame(data, index = models)\n",
    "\n",
    "#Separación de arrays de cross validation en columnas\n",
    "dfCV = pd.DataFrame(df['Cross validation'].to_list(), columns=['CV #1'], index = models)\n",
    "#Cálculo de promedio de Area Under the Curve\n",
    "dfCV.insert(0,'CV AVG', dfCV[['CV #1']].mean(axis=1, numeric_only=True))\n",
    "\n",
    "#Concatenación de dataframes con las columnas finales\n",
    "dfAcc = pd.concat([df['Accuracy Scores'], dfCV], axis=1)\n",
    "dfAcc = dfAcc.style.set_caption(\"Models' Accuracy Scores and Cross validation\")\n",
    "dfAcc"
   ],
   "metadata": {
    "collapsed": false,
    "pycharm": {
     "name": "#%%\n"
    }
   }
  },
  {
   "cell_type": "code",
   "execution_count": null,
   "outputs": [],
   "source": [],
   "metadata": {
    "collapsed": false,
    "pycharm": {
     "name": "#%%\n"
    }
   }
  }
 ],
 "metadata": {
  "interpreter": {
   "hash": "6e81ddef9c506a7392a49d5798d0636d138ad487f83abc805786e6ee1f68ca88"
  },
  "kernelspec": {
   "display_name": "Python 3.7.11 ('DeepEnvirom')",
   "language": "python",
   "name": "python3"
  },
  "language_info": {
   "codemirror_mode": {
    "name": "ipython",
    "version": 3
   },
   "file_extension": ".py",
   "mimetype": "text/x-python",
   "name": "python",
   "nbconvert_exporter": "python",
   "pygments_lexer": "ipython3",
   "version": "3.7.11"
  },
  "orig_nbformat": 4
 },
 "nbformat": 4,
 "nbformat_minor": 2
}