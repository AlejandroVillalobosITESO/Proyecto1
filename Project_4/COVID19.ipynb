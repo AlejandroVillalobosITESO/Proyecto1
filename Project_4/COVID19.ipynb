{
 "cells": [
  {
   "cell_type": "markdown",
   "metadata": {},
   "source": [
    "# Project No. 4 - COVID-19 Checker\n",
    "### Authors:\n",
    "M. Alejandro Villalobos C.\n",
    "Óscar Ruiz Ramirez\n",
    "Sofía Vargas Aceves\n",
    "### Fecha:\n",
    "14 de Abril, 2022\n",
    "### Description:\n",
    "Cuarto proyecto Machine Learning. COVID-19 Checker"
   ]
  },
  {
   "cell_type": "markdown",
   "metadata": {},
   "source": [
    "## 1. DATA READ"
   ]
  },
  {
   "cell_type": "code",
   "execution_count": 18,
   "metadata": {},
   "outputs": [
    {
     "name": "stderr",
     "output_type": "stream",
     "text": [
      "C:\\Users\\oscar\\anaconda3\\envs\\DeepEnvirom\\lib\\site-packages\\IPython\\core\\interactiveshell.py:3444: DtypeWarning: Columns (0,1,2,3,4,5,6,7,8,9,10,11,12,13,14,15,16,17,18,19,20,21,22,23,24,25,26,27,28,29,30,31,32,33,34,35,36,37,38,39,40,41,42,43,44,45,46,47,48,49,50,51,52,53,54,55,56,57,58,59,60,61,62,63,64,65,66,67,68,69,70,71,72,73,74,75,76,77,78,79,80,81,82,83,84,85,86,87,88,89,90,91,92,93,94,95,96,97,98,99,100,101,102,103,104,105,106,107,108,109,110,111,112,113,114,115,116,117,118,119,120,121,122,123,124,125,126,127,128,129,130,131,132,133,134,135,136,137,138,139,140,141,142,143,144,145,146,147,148,149,150,151,152,153,154,155,156,157,158,159,160,161,162,163,164,165,166,167,168,169,170,171,172,173,174,175,176,177,178,179,180,181,182,183,184,185,186,187,188,189,190,191,192,193,194,195,196,197,198,199,200,201,202,203,204,205,206,207,208,209,210,211,212,213,214,215,216,217,218,219,220,221,222,223,224,225,226,227,228,229,230,231,232,233,234,235,236,237,238,239,240,241,242,243,244,245,246,247,248,249,250,251,252,253,254,255,256,257,258,259,260,261,262,263,264,265,266,267,268,269,270,271,272,273,274,275,276,277,278,279,280,281,282,283,284,285,286,287,288,289,290,291,292,293,294,295,296,297,298,299,300,301,302,303,304,305,306,307,308,309,310,311,312,313,314,315,316,317,318,319,320,321,322,323,324,325,326,327,328,329,330,331,332,333,334,335,336,337,338,339,340,341,342,343,344,345,346,347,348,349,350,351,352,353,354,355,356,357,358,359,360,361,362,363,364,365,366,367,368,369,370,371,372,373,374,375,376,377,378,379,380,381,382,383,384,385,386,387,388,389,390,391,392,393,394,395,396,397,398,399,400,401,402,403,404,405,406,407,408,409,410,411,412,413,414,415,416,417,418,419,420,421,422,423,424,425,426,427,428,429,430,431,432,433,434,435,436,437,438,439,440,441,442,443,444,445,446,447,448,449,450,451,452,453,454,455,456,457,458,459,460,461,462,463,464,465,466,467,468,469,470,471,472,473,474,475,476,477,478,479,480,481,482,483,484,485,486,487,488,489,490,491,492,493,494,495,496,497,498,499,500,501,502,503,504,505,506,507,508,509,510,511,512,513,514,515,516,517,518,519,520,521,522,523,524,525,526,527,528,529,530,531,532,533,534,535,536,537,538,539,540,541,542,543,544,545,546,547,548,549,550,551,552,553,554,555,556,557,558,559,560,561,562,563,564,565,566,567,568,569,570,571,572,573,574,575,576,577,578,579,580,581,582,583,584,585,586,587,588,589,590,591,592,593,594,595,596,597,598,599,600,601,602,603,604,605,606,607,608,609,610,611,612,613,614,615,616,617,618,619,620,621,622,623,624,625,626,627,628,629,630,631,632,633,634,635,636,637,638,639,640,641,642,643,644,645,646,647,648,649,650,651,652,653,654,655,656,657,658,659,660,661,662,663,664,665,666,667,668,669,670,671,672,673,674,675,676,677,678,679,680,681,682,683,684,685,686,687,688,689,690,691,692,693,694,695,696,697,698,699,700,701,702,703,704,705,706,707,708,709,710,711,712,713,714,715,716,717,718,719,720,721,722,723,724,725,726,727,728,729,730,731,732,733,734,735,736,737,738,739,740,741,742,743,744,745,746,747,748,749,750,751,752,753,754,755,756,757,758,759,760,761,762,763,764,765,766,767,768,769,770,771,772,773,774,775,776,777,778,779,780,781,782,783,784,785,786,787,788,789,790,791,792,793,794,795,796,797,798,799,800,801,802,803,804,805,806,807,808,809,810,811,812,813,814,815,816,817,818,819,820,821,822,823,824,825,826,827,828,829,830,831,832,833,834,835,836,837,838,839,840,841,842,843,844,845,846,847,848,849,850,851,852,853,854,855,856,857,858,859,860,861,862,863,864,865,866,867,868,869,870,871,872,873,874,875,876,877,878,879,880,881,882,883,884,885,886,887,888,889,890,891,892,893,894,895,896,897,898,899,900,901,902,903,904,905,906,907,908,909,910,911,912,913,914,915,916,917,918,919,920,921,922,923,924,925,926,927,928,929,930,931,932,933,934,935,936,937,938,939,940,941,942,943,944,945,946,947,948,949,950,951,952,953,954,955,956,957,958,959,960,961,962,963,964,965,966,967,968,969,970,971,972,973,974,975,976,977,978,979,980,981,982,983,984,985,986,987,988,989,990,991,992,993,994,995,996,997,998,999,1000,1001,1002,1003,1004,1005,1006,1007,1008,1009,1010,1011,1012,1013,1014,1015,1016,1017,1018,1019,1020,1021,1022,1023,1024,1025,1026,1027,1028,1029,1030,1031,1032,1033,1034,1035,1036,1037,1038,1039,1040,1041,1042,1043,1044,1045,1046,1047,1048,1049,1050,1051,1052,1053,1054,1055,1056,1057,1058,1059,1060,1061,1062,1063,1064,1065,1066,1067,1068,1069,1070,1071,1072,1073,1074,1075,1076,1077,1078,1079,1080,1081,1082,1083,1084,1085,1086,1087,1088,1089,1090,1091,1092,1093,1094,1095,1096,1097,1098,1099,1100,1101,1102,1103,1104,1105,1106,1107,1108,1109,1110,1111,1112,1113,1114,1115,1116,1117,1118,1119,1120,1121,1122,1123,1124,1125,1126,1127,1128,1129,1130,1131,1132,1133,1134,1135,1136,1137,1138,1139,1140,1141,1142,1143,1144,1145,1146,1147,1148,1149,1150,1151,1152,1153,1154,1155,1156,1157,1158,1159,1160,1161,1162,1163,1164,1165,1166,1167,1168,1169,1170,1171,1172,1173,1174,1175,1176,1177,1178,1179,1180,1181,1182,1183,1184,1185,1186,1187,1188,1189,1190,1191,1192,1193,1194,1195,1196,1197,1198,1199,1200,1201,1202,1203,1204,1205,1206,1207,1208,1209,1210,1211,1212,1213,1214,1215,1216,1217,1218,1219,1220,1221,1222,1223,1224,1225,1226,1227,1228,1229,1230,1231,1232,1233,1234,1235,1236,1237,1238,1239,1240,1241,1242,1243,1244,1245,1246,1247,1248,1249,1250,1251,1252,1253,1254,1255,1256,1257,1258,1259,1260,1261,1262,1263,1264,1265,1266,1267,1268,1269,1270,1271,1272,1273,1274,1275,1276,1277,1278,1279,1280,1281,1282,1283,1284,1285,1286,1287,1288,1289,1290,1291,1292,1293,1294,1295,1296,1297,1298,1299,1300,1301,1302,1303,1304,1305,1306,1307,1308,1309,1310,1311,1312,1313,1314,1315,1316,1317,1318,1319,1320,1321,1322,1323,1324,1325,1326,1327,1328,1329,1330,1331,1332,1333,1334,1335,1336,1337,1338,1339,1340,1341,1342,1343,1344,1345,1346,1347,1348,1349,1350,1351,1352,1353,1354,1355,1356,1357,1358,1359,1360,1361,1362,1363,1364,1365,1366,1367,1368,1369,1370,1371,1372,1373,1374,1375,1376,1377,1378,1379,1380,1381,1382,1383,1384,1385,1386,1387,1388,1389,1390,1391,1392,1393,1394,1395,1396,1397,1398,1399,1400,1401,1402,1403,1404,1405,1406,1407,1408,1409,1410,1411,1412,1413,1414,1415,1416,1417,1418,1419,1420,1421,1422,1423,1424,1425,1426,1427,1428,1429,1430,1431,1432,1433,1434,1435,1436,1437,1438,1439,1440,1441,1442,1443,1444,1445,1446,1447,1448,1449,1450,1451,1452,1453,1454,1455,1456,1457,1458,1459,1460,1461,1462,1463,1464,1465,1466,1467,1468,1469,1470,1471,1472,1473,1474,1475,1476,1477,1478,1479,1480,1481,1482,1483,1484,1485,1486,1487,1488,1489,1490,1491,1492,1493,1494,1495,1496,1497,1498,1499,1500,1501,1502,1503,1504,1505,1506,1507,1508,1509,1510,1511,1512,1513,1514,1515,1516,1517,1518,1519,1520,1521,1522,1523,1524,1525,1526,1527,1528,1529,1530,1531,1532,1533,1534,1535,1536,1537,1538,1539,1540,1541,1542,1543,1544,1545,1546,1547,1548,1549,1550,1551,1552,1553,1554,1555,1556,1557,1558,1559,1560,1561,1562,1563,1564,1565,1566,1567,1568,1569,1570,1571,1572,1573,1574,1575,1576,1577,1578,1579,1580,1581,1582,1583,1584,1585,1586,1587,1588,1589,1590,1591,1592,1593,1594,1595,1596,1597,1598,1599,1600,1601,1602,1603,1604,1605,1606,1607,1608,1609,1610,1611,1612,1613,1614,1615,1616,1617,1618,1619,1620,1621,1622,1623,1624,1625,1626,1627,1628,1629,1630,1631,1632,1633,1634,1635,1636,1637,1638,1639,1640,1641,1642,1643,1644,1645,1646,1647,1648,1649,1650,1651,1652,1653,1654,1655,1656,1657,1658,1659,1660,1661,1662,1663,1664,1665,1666,1667,1668,1669,1670,1671,1672,1673,1674,1675,1676,1677,1678,1679,1680,1681,1682,1683,1684,1685,1686,1687,1688,1689,1690,1691,1692,1693,1694,1695,1696,1697,1698,1699,1700,1701,1702,1703,1704,1705,1706,1707,1708,1709,1710,1711,1712,1713,1714,1715,1716,1717,1718,1719,1720,1721,1722,1723,1724,1725,1726,1727,1728,1729,1730,1731,1732,1733,1734,1735,1736,1737,1738,1739,1740,1741,1742,1743,1744,1745,1746,1747,1748,1749,1750,1751,1752,1753,1754,1755,1756,1757,1758,1759,1760,1761,1762,1763,1764,1765,1766,1767,1768,1769,1770,1771,1772,1773,1774,1775,1776,1777,1778,1779,1780,1781,1782,1783,1784,1785,1786,1787,1788,1789,1790,1791,1792,1793,1794,1795,1796,1797,1798,1799,1800,1801,1802,1803,1804,1805,1806,1807,1808,1809,1810,1811,1812,1813,1814,1815,1816,1817,1818,1819,1820,1821,1822,1823,1824,1825,1826,1827,1828,1829,1830,1831,1832,1833,1834,1835,1836,1837,1838,1839,1840,1841,1842,1843,1844,1845,1846,1847,1848,1849,1850,1851,1852,1853,1854,1855,1856,1857,1858,1859,1860,1861,1862,1863,1864,1865,1866,1867,1868,1869,1870,1871,1872,1873,1874,1875,1876,1877,1878,1879,1880,1881,1882,1883,1884,1885,1886,1887,1888,1889,1890,1891,1892,1893,1894,1895,1896,1897,1898,1899,1900,1901,1902,1903,1904,1905,1906,1907,1908,1909,1910,1911,1912,1913,1914,1915,1916,1917,1918,1919,1920,1921,1922,1923,1924,1925,1926,1927,1928,1929,1930,1931,1932,1933,1934,1935,1936,1937,1938,1939,1940,1941,1942,1943,1944,1945,1946,1947,1948,1949,1950,1951,1952,1953,1954,1955,1956,1957,1958,1959,1960,1961,1962,1963,1964,1965,1966,1967,1968,1969,1970,1971,1972,1973,1974,1975,1976,1977,1978,1979,1980,1981,1982,1983,1984,1985,1986,1987,1988,1989,1990,1991,1992,1993,1994,1995,1996,1997,1998,1999,2000,2001,2002,2003,2004,2005,2006,2007,2008,2009,2010,2011,2012,2013,2014,2015,2016,2017,2018,2019,2020,2021,2022,2023,2024,2025,2026,2027,2028,2029,2030,2031,2032,2033,2034,2035,2036,2037,2038,2039,2040,2041,2042,2043,2044,2045,2046,2047,2051,2052,2053) have mixed types.Specify dtype option on import or set low_memory=False.\n",
      "  exec(code_obj, self.user_global_ns, self.user_ns)\n"
     ]
    },
    {
     "data": {
      "text/plain": [
       "Index(['n0', 'n1', 'n2', 'n3', 'n4', 'n5', 'n6', 'n7', 'n8', 'n9',\n",
       "       ...\n",
       "       'n2044', 'n2045', 'n2046', 'n2047', 'category', 'image name', 'image',\n",
       "       'size', 'width', 'height'],\n",
       "      dtype='object', length=2054)"
      ]
     },
     "execution_count": 18,
     "metadata": {},
     "output_type": "execute_result"
    }
   ],
   "source": [
    "import pandas as pd\n",
    "\n",
    "Dataset_train = pd.read_csv(\"./train_emotions.csv\")\n",
    "Dataset_test = pd.read_csv(\"./test_emotions.csv\")\n",
    "\n",
    "Dataset_test.keys()"
   ]
  },
  {
   "cell_type": "code",
   "execution_count": 19,
   "metadata": {},
   "outputs": [],
   "source": [
    "Dataset_train = Dataset_train.drop(['image','image name', 'size', 'width','height'],axis=1)\n",
    "Dataset_train = Dataset_train.drop([0,1],axis=0)\n",
    "Dataset_test = Dataset_test.drop(['image','image name', 'size', 'width','height'],axis=1)\n",
    "Dataset_test = Dataset_test.drop([0,1],axis=0)\n",
    "DataFrameTrain = pd.DataFrame(Dataset_train)\n",
    "DataFrameTest = pd.DataFrame(Dataset_test)"
   ]
  },
  {
   "cell_type": "markdown",
   "metadata": {},
   "source": [
    "## 2. Data Preprocessing"
   ]
  },
  {
   "cell_type": "code",
   "execution_count": 20,
   "metadata": {},
   "outputs": [
    {
     "data": {
      "text/plain": [
       "<bound method NDFrame.describe of                        n0                   n1                     n2  \\\n",
       "2      0.5637080669403076  0.04964568838477135    0.06860139966011047   \n",
       "3      0.0983700305223465  0.45195111632347107    0.05591898038983345   \n",
       "4     0.09584647417068481   0.3564378023147583    0.10208277404308319   \n",
       "5     0.10383488237857819   0.3690704107284546  0.0031869434751570225   \n",
       "6      0.4726261496543884  0.18286068737506866     0.1065162867307663   \n",
       "...                   ...                  ...                    ...   \n",
       "5870             0.421872             0.424034                    0.0   \n",
       "5871             0.360962             0.266407               0.020501   \n",
       "5872             0.506714             0.344895               0.005878   \n",
       "5873              0.08758             0.363812               0.103894   \n",
       "5874             0.326288             0.146993               0.013069   \n",
       "\n",
       "                       n3                   n4                   n5  \\\n",
       "2     0.36509498953819275                  0.0    0.556682825088501   \n",
       "3       0.234758660197258  0.31039202213287354  0.20040152966976166   \n",
       "4      0.0929194912314415   0.1601143181324005   0.3441668152809143   \n",
       "5      0.7319386601448059   0.2864822745323181   0.2994440793991089   \n",
       "6     0.18260423839092255  0.37873339653015137  0.17148423194885254   \n",
       "...                   ...                  ...                  ...   \n",
       "5870             0.273498             0.251355              0.53716   \n",
       "5871             0.219571             0.123806             0.092622   \n",
       "5872             0.144739             0.034297             0.218379   \n",
       "5873             0.419908              0.36412             0.610267   \n",
       "5874             0.195396             0.474324             0.170845   \n",
       "\n",
       "                       n6                    n7                   n8  \\\n",
       "2     0.11152397841215134  0.005384502932429314   0.5644693970680237   \n",
       "3     0.09259958565235138   0.05604298412799835  0.08685478568077087   \n",
       "4     0.12870179116725922   0.19868537783622742   0.2718088924884796   \n",
       "5     0.37984806299209595   0.25095659494400024  0.23972660303115845   \n",
       "6     0.31731870770454407    0.4101601243019104   0.4228220283985138   \n",
       "...                   ...                   ...                  ...   \n",
       "5870             0.275315              0.232246             0.262248   \n",
       "5871             0.440773              0.230073             0.275279   \n",
       "5872             0.046407              0.017736             0.277266   \n",
       "5873             0.171433              0.187597             0.064785   \n",
       "5874             0.605113              0.154744             0.281021   \n",
       "\n",
       "                       n9  ...                n2038                n2039  \\\n",
       "2      0.7159230709075928  ...   1.1437510251998901   0.9990254044532776   \n",
       "3     0.34405946731567383  ...   0.4413636028766632   1.2214574813842773   \n",
       "4      0.3958987891674042  ...  0.31955379247665405   0.4793386459350586   \n",
       "5      0.5894788503646851  ...  0.19942861795425415  0.17854607105255127   \n",
       "6      0.3291298449039459  ...   0.1325031965970993  0.09579550474882126   \n",
       "...                   ...  ...                  ...                  ...   \n",
       "5870              0.84731  ...             0.587512             0.411179   \n",
       "5871             0.317555  ...             0.278669             0.079727   \n",
       "5872             0.509066  ...             1.357396             0.103869   \n",
       "5873             0.467228  ...             0.117405             0.148274   \n",
       "5874             0.393975  ...               0.2245             0.296159   \n",
       "\n",
       "                     n2040                 n2041                n2042  \\\n",
       "2        2.054999351501465  0.013663941994309425  0.29130780696868896   \n",
       "3      0.30714207887649536    0.0796319991350174   0.0990089401602745   \n",
       "4      0.18977265059947968   0.33466997742652893  0.17205442488193512   \n",
       "5     0.062360744923353195    1.2565613985061646  0.32502925395965576   \n",
       "6      0.15782083570957184    0.3559788763523102   0.0925724133849144   \n",
       "...                    ...                   ...                  ...   \n",
       "5870              0.368471              0.103247             0.008226   \n",
       "5871              0.029965              2.187665             0.253974   \n",
       "5872              0.057768              0.010081             0.146236   \n",
       "5873              0.405532              0.156636             0.000888   \n",
       "5874              0.330746              0.027806              0.06726   \n",
       "\n",
       "                    n2043              n2044                n2045  \\\n",
       "2      0.3549748957157135                0.0    0.845742404460907   \n",
       "3     0.40128982067108154  0.097757488489151   0.1451864242553711   \n",
       "4     0.30953752994537354                0.0  0.09197986871004105   \n",
       "5      0.5237429738044739                0.0  0.22536315023899078   \n",
       "6      0.4340708255767822                0.0  0.17883947491645813   \n",
       "...                   ...                ...                  ...   \n",
       "5870             0.195496           0.413148              0.56522   \n",
       "5871             0.936772           0.013806             0.106038   \n",
       "5872             0.467177           0.075857               0.2159   \n",
       "5873             0.166831            0.00114             0.403829   \n",
       "5874             0.221489           0.046974              0.27032   \n",
       "\n",
       "                     n2046                n2047  \n",
       "2      0.06363166868686676   0.2613762319087982  \n",
       "3      0.01269383542239666  0.46672672033309937  \n",
       "4     0.015367766842246056  0.23388433456420898  \n",
       "5      0.00891496054828167  0.03338738530874252  \n",
       "6      0.07005798816680908   0.2741980254650116  \n",
       "...                    ...                  ...  \n",
       "5870              0.003495             0.800078  \n",
       "5871              0.152758             0.598255  \n",
       "5872                   0.0             0.795416  \n",
       "5873               0.00822             0.007091  \n",
       "5874              0.045675             0.988922  \n",
       "\n",
       "[5873 rows x 2048 columns]>"
      ]
     },
     "execution_count": 20,
     "metadata": {},
     "output_type": "execute_result"
    }
   ],
   "source": [
    "X_train = DataFrameTrain.drop(['category'], axis = 1)\n",
    "y_train = DataFrameTrain['category']\n",
    "\n",
    "X_test = DataFrameTest.drop(['category'], axis = 1)\n",
    "y_test = DataFrameTest['category']\n",
    "\n",
    "X_test.describe\n"
   ]
  },
  {
   "cell_type": "markdown",
   "metadata": {},
   "source": [
    "## Model #1 DecisionTreeClassifier"
   ]
  },
  {
   "cell_type": "markdown",
   "metadata": {},
   "source": [
    "### 3. Model Creation"
   ]
  },
  {
   "cell_type": "code",
   "execution_count": 46,
   "metadata": {},
   "outputs": [],
   "source": [
    "from sklearn.tree import DecisionTreeClassifier\n",
    "\n",
    "CLF = DecisionTreeClassifier(random_state=0,max_depth = 2000)\n",
    "CLF_more_depth = DecisionTreeClassifier(random_state=0,max_depth = 3000)"
   ]
  },
  {
   "cell_type": "markdown",
   "metadata": {},
   "source": [
    "### 4. Training: Adjust Model with Historic Data"
   ]
  },
  {
   "cell_type": "code",
   "execution_count": 47,
   "metadata": {},
   "outputs": [
    {
     "data": {
      "text/plain": [
       "DecisionTreeClassifier(max_depth=3000, random_state=0)"
      ]
     },
     "execution_count": 47,
     "metadata": {},
     "output_type": "execute_result"
    }
   ],
   "source": [
    "CLF.fit(X_train,y_train)\n",
    "CLF_more_depth.fit(X_train,y_train)"
   ]
  },
  {
   "cell_type": "markdown",
   "metadata": {},
   "source": [
    "### 5. Prediction for New Data"
   ]
  },
  {
   "cell_type": "code",
   "execution_count": 48,
   "metadata": {},
   "outputs": [],
   "source": [
    "y_predictCLF= CLF.predict(X_test)\n",
    "y_predictCLF_more_depth = CLF_more_depth.predict(X_test)"
   ]
  },
  {
   "cell_type": "markdown",
   "metadata": {},
   "source": [
    "## Model #2 Random Forest"
   ]
  },
  {
   "cell_type": "markdown",
   "metadata": {},
   "source": [
    "### 3. Model Creation"
   ]
  },
  {
   "cell_type": "code",
   "execution_count": 24,
   "metadata": {},
   "outputs": [],
   "source": [
    "from sklearn.ensemble import RandomForestClassifier\n",
    "RFC = RandomForestClassifier(n_estimators=500)\n",
    "RFC_with_less_trees = RandomForestClassifier(n_estimators= 400,bootstrap= False)"
   ]
  },
  {
   "cell_type": "markdown",
   "metadata": {},
   "source": [
    "### 4. Training: Adjust Model with Historic Data"
   ]
  },
  {
   "cell_type": "code",
   "execution_count": 25,
   "metadata": {},
   "outputs": [
    {
     "data": {
      "text/plain": [
       "RandomForestClassifier(bootstrap=False, n_estimators=400)"
      ]
     },
     "execution_count": 25,
     "metadata": {},
     "output_type": "execute_result"
    }
   ],
   "source": [
    "RFC.fit(X_train, y_train)\n",
    "RFC_with_less_trees.fit(X_train, y_train)"
   ]
  },
  {
   "cell_type": "markdown",
   "metadata": {},
   "source": [
    "### 5. Prediction for New Data"
   ]
  },
  {
   "cell_type": "code",
   "execution_count": 28,
   "metadata": {},
   "outputs": [],
   "source": [
    "y_predictRF = RFC.predict(X_test)\n",
    "y_with_less_trees = RFC_with_less_trees.predict(X_test)"
   ]
  },
  {
   "cell_type": "markdown",
   "metadata": {},
   "source": [
    "## Model #3 Support Vector Machine (SVC)"
   ]
  },
  {
   "cell_type": "markdown",
   "metadata": {},
   "source": [
    "### 3. Model Creation"
   ]
  },
  {
   "cell_type": "code",
   "execution_count": 53,
   "metadata": {},
   "outputs": [],
   "source": [
    "from sklearn.svm import SVC\n",
    "\n",
    "SVM = SVC(C = 100.0 / y_train.shape[0], kernel = 'linear')\n",
    "SVM2 = SVC(C = 25.0 / y_train.shape[0], kernel = 'poly')"
   ]
  },
  {
   "cell_type": "markdown",
   "metadata": {},
   "source": [
    "### 4. Training: Adjust Model with Historic Data"
   ]
  },
  {
   "cell_type": "code",
   "execution_count": 54,
   "metadata": {},
   "outputs": [
    {
     "data": {
      "text/plain": [
       "SVC(C=0.004134965266291763, kernel='poly')"
      ]
     },
     "execution_count": 54,
     "metadata": {},
     "output_type": "execute_result"
    }
   ],
   "source": [
    "SVM.fit(X_train, y_train)\n",
    "SVM2.fit(X_train, y_train)"
   ]
  },
  {
   "cell_type": "markdown",
   "metadata": {},
   "source": [
    "### 5. Prediction for New Data"
   ]
  },
  {
   "cell_type": "code",
   "execution_count": 55,
   "metadata": {},
   "outputs": [],
   "source": [
    "y_predictSVM = SVM.predict(X_test)\n",
    "y_predictSVM2 = SVM2.predict(X_test)"
   ]
  },
  {
   "cell_type": "markdown",
   "metadata": {},
   "source": [
    "## 6. Visualization of Results"
   ]
  },
  {
   "cell_type": "code",
   "execution_count": 33,
   "metadata": {},
   "outputs": [],
   "source": [
    "from sklearn.model_selection import cross_val_score\n",
    "from sklearn.metrics import accuracy_score"
   ]
  },
  {
   "cell_type": "markdown",
   "metadata": {},
   "source": [
    "## Model #1 DecisionTreeClassifier"
   ]
  },
  {
   "cell_type": "code",
   "execution_count": 49,
   "metadata": {},
   "outputs": [],
   "source": [
    "CV_CLF = cross_val_score(CLF, X_train, y_train, cv=3, scoring = \"accuracy\")\n",
    "CV_CLF_more_depth = cross_val_score(CLF_more_depth, X_train, y_train, cv=3, scoring = \"accuracy\")"
   ]
  },
  {
   "cell_type": "code",
   "execution_count": 50,
   "metadata": {},
   "outputs": [],
   "source": [
    "AS_CLF = accuracy_score(y_test,y_predictCLF)\n",
    "AS_CLF_more_depth = accuracy_score(y_test,y_predictCLF_more_depth)"
   ]
  },
  {
   "cell_type": "markdown",
   "metadata": {},
   "source": [
    "## Model #2 Random Forest"
   ]
  },
  {
   "cell_type": "code",
   "execution_count": 41,
   "metadata": {},
   "outputs": [],
   "source": [
    "CV_RF = cross_val_score(RFC, X_train, y_train, cv=3, scoring = \"accuracy\")\n",
    "CV_RF_with_less_trees = cross_val_score(RFC_with_less_trees, X_train, y_train, cv=3, scoring = \"accuracy\")"
   ]
  },
  {
   "cell_type": "code",
   "execution_count": 40,
   "metadata": {},
   "outputs": [],
   "source": [
    "AS_RF = accuracy_score(y_test,y_predictRF)\n",
    "AS_RF_with_less_trees = accuracy_score(y_test,y_with_less_trees)"
   ]
  },
  {
   "cell_type": "markdown",
   "metadata": {},
   "source": [
    "## Model #3 Support Vector Machine (SVC)"
   ]
  },
  {
   "cell_type": "code",
   "execution_count": 56,
   "metadata": {},
   "outputs": [],
   "source": [
    "CV_SVM = cross_val_score(SVM, X_train, y_train, cv=3, scoring = \"accuracy\")\n",
    "CV_SVM2 = cross_val_score(SVM2, X_train, y_train, cv=3, scoring = \"accuracy\")"
   ]
  },
  {
   "cell_type": "code",
   "execution_count": 57,
   "metadata": {},
   "outputs": [],
   "source": [
    "AS_SVM = accuracy_score(y_test,y_predictSVM)\n",
    "AS_SVM2 = accuracy_score(y_test,y_predictSVM2)"
   ]
  },
  {
   "cell_type": "code",
   "execution_count": 58,
   "metadata": {},
   "outputs": [
    {
     "data": {
      "text/html": [
       "<style type=\"text/css\">\n",
       "</style>\n",
       "<table id=\"T_77b05_\">\n",
       "  <caption>Models' Accuracy Scores and Cross Validations</caption>\n",
       "  <thead>\n",
       "    <tr>\n",
       "      <th class=\"blank level0\" >&nbsp;</th>\n",
       "      <th class=\"col_heading level0 col0\" >Accuracy Scores</th>\n",
       "      <th class=\"col_heading level0 col1\" >CV AVG</th>\n",
       "      <th class=\"col_heading level0 col2\" >CV #1</th>\n",
       "      <th class=\"col_heading level0 col3\" >CV #2</th>\n",
       "      <th class=\"col_heading level0 col4\" >CV #3</th>\n",
       "    </tr>\n",
       "  </thead>\n",
       "  <tbody>\n",
       "    <tr>\n",
       "      <th id=\"T_77b05_level0_row0\" class=\"row_heading level0 row0\" >CLF</th>\n",
       "      <td id=\"T_77b05_row0_col0\" class=\"data row0 col0\" >0.283841</td>\n",
       "      <td id=\"T_77b05_row0_col1\" class=\"data row0 col1\" >0.274727</td>\n",
       "      <td id=\"T_77b05_row0_col2\" class=\"data row0 col2\" >0.272321</td>\n",
       "      <td id=\"T_77b05_row0_col3\" class=\"data row0 col3\" >0.282878</td>\n",
       "      <td id=\"T_77b05_row0_col4\" class=\"data row0 col4\" >0.268983</td>\n",
       "    </tr>\n",
       "    <tr>\n",
       "      <th id=\"T_77b05_level0_row1\" class=\"row_heading level0 row1\" >SVM</th>\n",
       "      <td id=\"T_77b05_row1_col0\" class=\"data row1 col0\" >0.469607</td>\n",
       "      <td id=\"T_77b05_row1_col1\" class=\"data row1 col1\" >0.457824</td>\n",
       "      <td id=\"T_77b05_row1_col2\" class=\"data row1 col2\" >0.455357</td>\n",
       "      <td id=\"T_77b05_row1_col3\" class=\"data row1 col3\" >0.458065</td>\n",
       "      <td id=\"T_77b05_row1_col4\" class=\"data row1 col4\" >0.460050</td>\n",
       "    </tr>\n",
       "    <tr>\n",
       "      <th id=\"T_77b05_level0_row2\" class=\"row_heading level0 row2\" >RF</th>\n",
       "      <td id=\"T_77b05_row2_col0\" class=\"data row2 col0\" >0.430615</td>\n",
       "      <td id=\"T_77b05_row2_col1\" class=\"data row2 col1\" >0.433014</td>\n",
       "      <td id=\"T_77b05_row2_col2\" class=\"data row2 col2\" >0.432044</td>\n",
       "      <td id=\"T_77b05_row2_col3\" class=\"data row2 col3\" >0.444169</td>\n",
       "      <td id=\"T_77b05_row2_col4\" class=\"data row2 col4\" >0.422829</td>\n",
       "    </tr>\n",
       "    <tr>\n",
       "      <th id=\"T_77b05_level0_row3\" class=\"row_heading level0 row3\" >LR_better</th>\n",
       "      <td id=\"T_77b05_row3_col0\" class=\"data row3 col0\" >0.283841</td>\n",
       "      <td id=\"T_77b05_row3_col1\" class=\"data row3 col1\" >0.274727</td>\n",
       "      <td id=\"T_77b05_row3_col2\" class=\"data row3 col2\" >0.272321</td>\n",
       "      <td id=\"T_77b05_row3_col3\" class=\"data row3 col3\" >0.282878</td>\n",
       "      <td id=\"T_77b05_row3_col4\" class=\"data row3 col4\" >0.268983</td>\n",
       "    </tr>\n",
       "    <tr>\n",
       "      <th id=\"T_77b05_level0_row4\" class=\"row_heading level0 row4\" >SVM_better</th>\n",
       "      <td id=\"T_77b05_row4_col0\" class=\"data row4 col0\" >0.327260</td>\n",
       "      <td id=\"T_77b05_row4_col1\" class=\"data row4 col1\" >0.291432</td>\n",
       "      <td id=\"T_77b05_row4_col2\" class=\"data row4 col2\" >0.294147</td>\n",
       "      <td id=\"T_77b05_row4_col3\" class=\"data row4 col3\" >0.304715</td>\n",
       "      <td id=\"T_77b05_row4_col4\" class=\"data row4 col4\" >0.275434</td>\n",
       "    </tr>\n",
       "    <tr>\n",
       "      <th id=\"T_77b05_level0_row5\" class=\"row_heading level0 row5\" >RF_better</th>\n",
       "      <td id=\"T_77b05_row5_col0\" class=\"data row5 col0\" >0.450196</td>\n",
       "      <td id=\"T_77b05_row5_col1\" class=\"data row5 col1\" >0.441780</td>\n",
       "      <td id=\"T_77b05_row5_col2\" class=\"data row5 col2\" >0.437996</td>\n",
       "      <td id=\"T_77b05_row5_col3\" class=\"data row5 col3\" >0.443672</td>\n",
       "      <td id=\"T_77b05_row5_col4\" class=\"data row5 col4\" >0.443672</td>\n",
       "    </tr>\n",
       "  </tbody>\n",
       "</table>\n"
      ],
      "text/plain": [
       "<pandas.io.formats.style.Styler at 0x2438b8cf788>"
      ]
     },
     "execution_count": 58,
     "metadata": {},
     "output_type": "execute_result"
    }
   ],
   "source": [
    "#Creación de dataframe con los resultados\n",
    "models = [\"CLF\",\"SVM\", \"RF\", \"LR_better\", \"SVM_better\", \"RF_better\"]\n",
    "AS_values = [AS_CLF, AS_SVM, AS_RF, AS_CLF_more_depth, AS_SVM2, AS_RF_with_less_trees]\n",
    "CV_values = [CV_CLF, CV_SVM, CV_RF,CV_CLF_more_depth,CV_SVM2, CV_RF_with_less_trees]\n",
    "\n",
    "data = {\"Accuracy Scores\": AS_values, \"Cross Validations\": CV_values}\n",
    "df = pd.DataFrame(data, index = models)\n",
    "\n",
    "#Separación de arrays de Cross Validations en columnas\n",
    "dfCV = pd.DataFrame(df['Cross Validations'].to_list(), columns=['CV #1','CV #2','CV #3'], index = models)\n",
    "#Cálculo de promedio de Cross Validations\n",
    "dfCV.insert(0,'CV AVG', dfCV[['CV #1','CV #2','CV #3']].mean(axis=1, numeric_only=True))\n",
    "\n",
    "#Concatenación de dataframes con las columnas finales\n",
    "dfAcc = pd.concat([df['Accuracy Scores'], dfCV], axis=1)\n",
    "dfAcc = dfAcc.style.set_caption(\"Models' Accuracy Scores and Cross Validations\")\n",
    "dfAcc"
   ]
  }
 ],
 "metadata": {
  "interpreter": {
   "hash": "498cc7baa86d349c4936134328814e532a1d77a0c0949c12214c3e7da3053f05"
  },
  "kernelspec": {
   "display_name": "Python 3.7.11 ('DeepEnvirom')",
   "language": "python",
   "name": "python3"
  },
  "language_info": {
   "codemirror_mode": {
    "name": "ipython",
    "version": 3
   },
   "file_extension": ".py",
   "mimetype": "text/x-python",
   "name": "python",
   "nbconvert_exporter": "python",
   "pygments_lexer": "ipython3",
   "version": "3.7.11"
  },
  "orig_nbformat": 4
 },
 "nbformat": 4,
 "nbformat_minor": 2
}
