{
 "cells": [
  {
   "cell_type": "markdown",
   "metadata": {},
   "source": [
    "# Project No. 4 - Global Innovation\n",
    "### Authors:\n",
    "M. Alejandro Villalobos C.\n",
    "Óscar Ruiz Ramirez\n",
    "Sofía Vargas Aceves\n",
    "### Fecha:\n",
    "14 de Abril, 2022\n",
    "### Description:\n",
    "Cuarto proyecto Machine Learning.  \n",
    "Video disponible en: https://drive.google.com/file/d/17zK7k6mj3YS9zoj01XJzi864IIrKqtSJ/view?usp=sharing"
   ]
  },
  {
   "cell_type": "markdown",
   "metadata": {},
   "source": [
    "## 1. DATA READ"
   ]
  },
  {
   "cell_type": "code",
   "execution_count": 1,
   "metadata": {},
   "outputs": [],
   "source": [
    "import numpy as np\n",
    "import matplotlib.pyplot as plt\n",
    "\n",
    "import pandas as pd\n",
    "import seaborn as sns\n",
    "\n",
    "%matplotlib inline"
   ]
  },
  {
   "cell_type": "code",
   "execution_count": 2,
   "metadata": {},
   "outputs": [
    {
     "data": {
      "text/html": [
       "<div>\n",
       "<style scoped>\n",
       "    .dataframe tbody tr th:only-of-type {\n",
       "        vertical-align: middle;\n",
       "    }\n",
       "\n",
       "    .dataframe tbody tr th {\n",
       "        vertical-align: top;\n",
       "    }\n",
       "\n",
       "    .dataframe thead th {\n",
       "        text-align: right;\n",
       "    }\n",
       "</style>\n",
       "<table border=\"1\" class=\"dataframe\">\n",
       "  <thead>\n",
       "    <tr style=\"text-align: right;\">\n",
       "      <th></th>\n",
       "      <th>Creative outputs</th>\n",
       "      <th>Knowledge impact</th>\n",
       "      <th>Innovation Input Sub-index</th>\n",
       "      <th>Rule of law</th>\n",
       "      <th>Research and development (R&amp;D)</th>\n",
       "      <th>Knowledge diffusion</th>\n",
       "      <th>Environmental performance</th>\n",
       "      <th>Education</th>\n",
       "      <th>Global Innovation Index</th>\n",
       "      <th>Human capital and research</th>\n",
       "      <th>...</th>\n",
       "      <th>ICT use</th>\n",
       "      <th>Regulatory environment</th>\n",
       "      <th>Regulatory quality</th>\n",
       "      <th>ICT access</th>\n",
       "      <th>Innovation Output Sub-index</th>\n",
       "      <th>Intangible assets</th>\n",
       "      <th>Knowledge and technology outputs</th>\n",
       "      <th>Business environment</th>\n",
       "      <th>Government effectiveness</th>\n",
       "      <th>Knowledge workers</th>\n",
       "    </tr>\n",
       "  </thead>\n",
       "  <tbody>\n",
       "    <tr>\n",
       "      <th>0</th>\n",
       "      <td>16.7</td>\n",
       "      <td>NaN</td>\n",
       "      <td>3.7</td>\n",
       "      <td>NaN</td>\n",
       "      <td>0</td>\n",
       "      <td>0</td>\n",
       "      <td>0</td>\n",
       "      <td>NaN</td>\n",
       "      <td>6</td>\n",
       "      <td>0</td>\n",
       "      <td>...</td>\n",
       "      <td>0</td>\n",
       "      <td>NaN</td>\n",
       "      <td>NaN</td>\n",
       "      <td>0</td>\n",
       "      <td>8.3</td>\n",
       "      <td>16.7</td>\n",
       "      <td>0</td>\n",
       "      <td>0</td>\n",
       "      <td>NaN</td>\n",
       "      <td>NaN</td>\n",
       "    </tr>\n",
       "    <tr>\n",
       "      <th>1</th>\n",
       "      <td>15.3</td>\n",
       "      <td>26.3</td>\n",
       "      <td>40.5</td>\n",
       "      <td>37.9</td>\n",
       "      <td>1.1</td>\n",
       "      <td>23.2</td>\n",
       "      <td>74.4</td>\n",
       "      <td>37.5</td>\n",
       "      <td>28.4</td>\n",
       "      <td>23.6</td>\n",
       "      <td>...</td>\n",
       "      <td>34</td>\n",
       "      <td>59.4</td>\n",
       "      <td>50.3</td>\n",
       "      <td>45</td>\n",
       "      <td>16.2</td>\n",
       "      <td>24.9</td>\n",
       "      <td>17.2</td>\n",
       "      <td>71.8</td>\n",
       "      <td>37.1</td>\n",
       "      <td>22.4</td>\n",
       "    </tr>\n",
       "    <tr>\n",
       "      <th>2</th>\n",
       "      <td>14.6</td>\n",
       "      <td>34.9</td>\n",
       "      <td>32.8</td>\n",
       "      <td>28.8</td>\n",
       "      <td>0</td>\n",
       "      <td>14.5</td>\n",
       "      <td>70.3</td>\n",
       "      <td>48.9</td>\n",
       "      <td>24.5</td>\n",
       "      <td>28.2</td>\n",
       "      <td>...</td>\n",
       "      <td>15.2</td>\n",
       "      <td>51.7</td>\n",
       "      <td>14.8</td>\n",
       "      <td>42.7</td>\n",
       "      <td>16.1</td>\n",
       "      <td>23.8</td>\n",
       "      <td>17.7</td>\n",
       "      <td>56.3</td>\n",
       "      <td>24.8</td>\n",
       "      <td>20.9</td>\n",
       "    </tr>\n",
       "    <tr>\n",
       "      <th>3</th>\n",
       "      <td>16.7</td>\n",
       "      <td>NaN</td>\n",
       "      <td>3.7</td>\n",
       "      <td>NaN</td>\n",
       "      <td>0</td>\n",
       "      <td>0</td>\n",
       "      <td>0</td>\n",
       "      <td>NaN</td>\n",
       "      <td>6</td>\n",
       "      <td>0</td>\n",
       "      <td>...</td>\n",
       "      <td>0</td>\n",
       "      <td>NaN</td>\n",
       "      <td>NaN</td>\n",
       "      <td>0</td>\n",
       "      <td>8.3</td>\n",
       "      <td>16.7</td>\n",
       "      <td>0</td>\n",
       "      <td>0</td>\n",
       "      <td>NaN</td>\n",
       "      <td>NaN</td>\n",
       "    </tr>\n",
       "    <tr>\n",
       "      <th>4</th>\n",
       "      <td>16.7</td>\n",
       "      <td>NaN</td>\n",
       "      <td>3.7</td>\n",
       "      <td>NaN</td>\n",
       "      <td>0</td>\n",
       "      <td>0</td>\n",
       "      <td>0</td>\n",
       "      <td>NaN</td>\n",
       "      <td>6</td>\n",
       "      <td>0</td>\n",
       "      <td>...</td>\n",
       "      <td>0</td>\n",
       "      <td>NaN</td>\n",
       "      <td>NaN</td>\n",
       "      <td>0</td>\n",
       "      <td>8.3</td>\n",
       "      <td>16.7</td>\n",
       "      <td>0</td>\n",
       "      <td>0</td>\n",
       "      <td>NaN</td>\n",
       "      <td>NaN</td>\n",
       "    </tr>\n",
       "    <tr>\n",
       "      <th>...</th>\n",
       "      <td>...</td>\n",
       "      <td>...</td>\n",
       "      <td>...</td>\n",
       "      <td>...</td>\n",
       "      <td>...</td>\n",
       "      <td>...</td>\n",
       "      <td>...</td>\n",
       "      <td>...</td>\n",
       "      <td>...</td>\n",
       "      <td>...</td>\n",
       "      <td>...</td>\n",
       "      <td>...</td>\n",
       "      <td>...</td>\n",
       "      <td>...</td>\n",
       "      <td>...</td>\n",
       "      <td>...</td>\n",
       "      <td>...</td>\n",
       "      <td>...</td>\n",
       "      <td>...</td>\n",
       "      <td>...</td>\n",
       "      <td>...</td>\n",
       "    </tr>\n",
       "    <tr>\n",
       "      <th>896</th>\n",
       "      <td>12.3</td>\n",
       "      <td>35.1</td>\n",
       "      <td>39.7</td>\n",
       "      <td>19.1</td>\n",
       "      <td>2</td>\n",
       "      <td>8</td>\n",
       "      <td>44.3</td>\n",
       "      <td>57.3</td>\n",
       "      <td>27.4</td>\n",
       "      <td>30.4</td>\n",
       "      <td>...</td>\n",
       "      <td>48.3</td>\n",
       "      <td>49.9</td>\n",
       "      <td>17.5</td>\n",
       "      <td>60.1</td>\n",
       "      <td>15.1</td>\n",
       "      <td>19</td>\n",
       "      <td>17.9</td>\n",
       "      <td>69.8</td>\n",
       "      <td>39.2</td>\n",
       "      <td>22.8</td>\n",
       "    </tr>\n",
       "    <tr>\n",
       "      <th>897</th>\n",
       "      <td>33.4</td>\n",
       "      <td>36.4</td>\n",
       "      <td>42.6</td>\n",
       "      <td>46.3</td>\n",
       "      <td>6.9</td>\n",
       "      <td>41.9</td>\n",
       "      <td>33.4</td>\n",
       "      <td>54.2</td>\n",
       "      <td>37</td>\n",
       "      <td>28.1</td>\n",
       "      <td>...</td>\n",
       "      <td>55.6</td>\n",
       "      <td>54.3</td>\n",
       "      <td>36.6</td>\n",
       "      <td>52.8</td>\n",
       "      <td>31.4</td>\n",
       "      <td>41.9</td>\n",
       "      <td>29.4</td>\n",
       "      <td>61.6</td>\n",
       "      <td>51.5</td>\n",
       "      <td>31</td>\n",
       "    </tr>\n",
       "    <tr>\n",
       "      <th>898</th>\n",
       "      <td>12.2</td>\n",
       "      <td>10.1</td>\n",
       "      <td>21</td>\n",
       "      <td>0</td>\n",
       "      <td>0</td>\n",
       "      <td>5.1</td>\n",
       "      <td>0</td>\n",
       "      <td>22</td>\n",
       "      <td>15.4</td>\n",
       "      <td>10.1</td>\n",
       "      <td>...</td>\n",
       "      <td>11.7</td>\n",
       "      <td>30.8</td>\n",
       "      <td>0</td>\n",
       "      <td>25.7</td>\n",
       "      <td>9.7</td>\n",
       "      <td>22.4</td>\n",
       "      <td>7.2</td>\n",
       "      <td>51.9</td>\n",
       "      <td>0</td>\n",
       "      <td>11.4</td>\n",
       "    </tr>\n",
       "    <tr>\n",
       "      <th>899</th>\n",
       "      <td>9.5</td>\n",
       "      <td>14.1</td>\n",
       "      <td>30.4</td>\n",
       "      <td>34.5</td>\n",
       "      <td>0</td>\n",
       "      <td>7.1</td>\n",
       "      <td>34.7</td>\n",
       "      <td>51.4</td>\n",
       "      <td>19.8</td>\n",
       "      <td>17.9</td>\n",
       "      <td>...</td>\n",
       "      <td>22.1</td>\n",
       "      <td>23.8</td>\n",
       "      <td>29</td>\n",
       "      <td>35.3</td>\n",
       "      <td>9.3</td>\n",
       "      <td>14.8</td>\n",
       "      <td>9</td>\n",
       "      <td>67.1</td>\n",
       "      <td>35.6</td>\n",
       "      <td>31.5</td>\n",
       "    </tr>\n",
       "    <tr>\n",
       "      <th>900</th>\n",
       "      <td>15.7</td>\n",
       "      <td>20.2</td>\n",
       "      <td>30.1</td>\n",
       "      <td>13.6</td>\n",
       "      <td>0.3</td>\n",
       "      <td>5.6</td>\n",
       "      <td>37</td>\n",
       "      <td>46.8</td>\n",
       "      <td>21.9</td>\n",
       "      <td>24.6</td>\n",
       "      <td>...</td>\n",
       "      <td>27</td>\n",
       "      <td>37.6</td>\n",
       "      <td>5.2</td>\n",
       "      <td>38.4</td>\n",
       "      <td>13.7</td>\n",
       "      <td>12</td>\n",
       "      <td>11.7</td>\n",
       "      <td>52.4</td>\n",
       "      <td>23.9</td>\n",
       "      <td>22.3</td>\n",
       "    </tr>\n",
       "  </tbody>\n",
       "</table>\n",
       "<p>901 rows × 43 columns</p>\n",
       "</div>"
      ],
      "text/plain": [
       "0   Creative outputs Knowledge impact Innovation Input Sub-index Rule of law  \\\n",
       "0               16.7              NaN                        3.7         NaN   \n",
       "1               15.3             26.3                       40.5        37.9   \n",
       "2               14.6             34.9                       32.8        28.8   \n",
       "3               16.7              NaN                        3.7         NaN   \n",
       "4               16.7              NaN                        3.7         NaN   \n",
       "..               ...              ...                        ...         ...   \n",
       "896             12.3             35.1                       39.7        19.1   \n",
       "897             33.4             36.4                       42.6        46.3   \n",
       "898             12.2             10.1                         21           0   \n",
       "899              9.5             14.1                       30.4        34.5   \n",
       "900             15.7             20.2                       30.1        13.6   \n",
       "\n",
       "0   Research and development (R&D) Knowledge diffusion  \\\n",
       "0                                0                   0   \n",
       "1                              1.1                23.2   \n",
       "2                                0                14.5   \n",
       "3                                0                   0   \n",
       "4                                0                   0   \n",
       "..                             ...                 ...   \n",
       "896                              2                   8   \n",
       "897                            6.9                41.9   \n",
       "898                              0                 5.1   \n",
       "899                              0                 7.1   \n",
       "900                            0.3                 5.6   \n",
       "\n",
       "0   Environmental performance Education Global Innovation Index  \\\n",
       "0                           0       NaN                       6   \n",
       "1                        74.4      37.5                    28.4   \n",
       "2                        70.3      48.9                    24.5   \n",
       "3                           0       NaN                       6   \n",
       "4                           0       NaN                       6   \n",
       "..                        ...       ...                     ...   \n",
       "896                      44.3      57.3                    27.4   \n",
       "897                      33.4      54.2                      37   \n",
       "898                         0        22                    15.4   \n",
       "899                      34.7      51.4                    19.8   \n",
       "900                        37      46.8                    21.9   \n",
       "\n",
       "0   Human capital and research  ... ICT use Regulatory environment  \\\n",
       "0                            0  ...       0                    NaN   \n",
       "1                         23.6  ...      34                   59.4   \n",
       "2                         28.2  ...    15.2                   51.7   \n",
       "3                            0  ...       0                    NaN   \n",
       "4                            0  ...       0                    NaN   \n",
       "..                         ...  ...     ...                    ...   \n",
       "896                       30.4  ...    48.3                   49.9   \n",
       "897                       28.1  ...    55.6                   54.3   \n",
       "898                       10.1  ...    11.7                   30.8   \n",
       "899                       17.9  ...    22.1                   23.8   \n",
       "900                       24.6  ...      27                   37.6   \n",
       "\n",
       "0   Regulatory quality ICT access Innovation Output Sub-index  \\\n",
       "0                  NaN          0                         8.3   \n",
       "1                 50.3         45                        16.2   \n",
       "2                 14.8       42.7                        16.1   \n",
       "3                  NaN          0                         8.3   \n",
       "4                  NaN          0                         8.3   \n",
       "..                 ...        ...                         ...   \n",
       "896               17.5       60.1                        15.1   \n",
       "897               36.6       52.8                        31.4   \n",
       "898                  0       25.7                         9.7   \n",
       "899                 29       35.3                         9.3   \n",
       "900                5.2       38.4                        13.7   \n",
       "\n",
       "0   Intangible assets Knowledge and technology outputs Business environment  \\\n",
       "0                16.7                                0                    0   \n",
       "1                24.9                             17.2                 71.8   \n",
       "2                23.8                             17.7                 56.3   \n",
       "3                16.7                                0                    0   \n",
       "4                16.7                                0                    0   \n",
       "..                ...                              ...                  ...   \n",
       "896                19                             17.9                 69.8   \n",
       "897              41.9                             29.4                 61.6   \n",
       "898              22.4                              7.2                 51.9   \n",
       "899              14.8                                9                 67.1   \n",
       "900                12                             11.7                 52.4   \n",
       "\n",
       "0   Government effectiveness Knowledge workers  \n",
       "0                        NaN               NaN  \n",
       "1                       37.1              22.4  \n",
       "2                       24.8              20.9  \n",
       "3                        NaN               NaN  \n",
       "4                        NaN               NaN  \n",
       "..                       ...               ...  \n",
       "896                     39.2              22.8  \n",
       "897                     51.5                31  \n",
       "898                        0              11.4  \n",
       "899                     35.6              31.5  \n",
       "900                     23.9              22.3  \n",
       "\n",
       "[901 rows x 43 columns]"
      ]
     },
     "execution_count": 2,
     "metadata": {},
     "output_type": "execute_result"
    }
   ],
   "source": [
    "df1 = pd.read_csv(\".//WorldInnovation/Analysis_2016.csv\", index_col=0,header=None,on_bad_lines='skip').T\n",
    "df2 = pd.read_csv(\".//WorldInnovation/Analysis_2017.csv\", index_col=0,header=None,on_bad_lines='skip').T\n",
    "df3 = pd.read_csv(\".//WorldInnovation/Analysis_2018.csv\", index_col=0,header=None,on_bad_lines='skip').T\n",
    "df4 = pd.read_csv(\".//WorldInnovation/Analysis_2019.csv\", index_col=0,header=None,on_bad_lines='skip').T\n",
    "df5 = pd.read_csv(\".//WorldInnovation/Analysis_2020.csv\", index_col=0,header=None,on_bad_lines='skip').T\n",
    "df6 = pd.read_csv(\".//WorldInnovation/Analysis_2021.csv\", index_col=0,header=None,on_bad_lines='skip').T\n",
    "\n",
    "frames = [df1,df2,df3,df4,df5,df6]\n",
    "common_cols = list(set.intersection(*(set(df.columns) for df in frames)))\n",
    "df = pd.concat([df[common_cols] for df in frames], ignore_index=True)\n",
    "df"
   ]
  },
  {
   "cell_type": "code",
   "execution_count": 3,
   "metadata": {},
   "outputs": [
    {
     "data": {
      "text/plain": [
       "0\n",
       "Creative outputs                                      46\n",
       "Knowledge impact                                     128\n",
       "Innovation Input Sub-index                            46\n",
       "Rule of law                                          130\n",
       "Research and development (R&D)                        56\n",
       "Knowledge diffusion                                   46\n",
       "Environmental performance                             58\n",
       "Education                                            129\n",
       "Global Innovation Index                               46\n",
       "Human capital and research                            46\n",
       "Knowledge creation                                   128\n",
       "Government's online service                           51\n",
       "Market sophistication                                 46\n",
       "Knowledge absorption                                 128\n",
       "Online creativity                                    128\n",
       "Ease of protecting minority investors                 47\n",
       "Country                                                0\n",
       "Infrastructure                                        46\n",
       "Ease of starting a business                           46\n",
       "Business sophistication                               46\n",
       "Credit                                                46\n",
       "Creative goods and services                          129\n",
       "Tertiary education                                   143\n",
       "Ease of resolving insolvency                          48\n",
       "Information and communication technologies (ICTs)     46\n",
       "Ease of getting credit                                49\n",
       "Innovation linkages                                   46\n",
       "General infrastructure                               128\n",
       "Political environment                                129\n",
       "Investment                                            47\n",
       "Logistics performance                                142\n",
       "Ecological sustainability                             46\n",
       "Institutions                                          46\n",
       "ICT use                                               56\n",
       "Regulatory environment                               128\n",
       "Regulatory quality                                   130\n",
       "ICT access                                            56\n",
       "Innovation Output Sub-index                           46\n",
       "Intangible assets                                     46\n",
       "Knowledge and technology outputs                      46\n",
       "Business environment                                  46\n",
       "Government effectiveness                             130\n",
       "Knowledge workers                                    130\n",
       "dtype: int64"
      ]
     },
     "execution_count": 3,
     "metadata": {},
     "output_type": "execute_result"
    }
   ],
   "source": [
    "df.isnull().sum()"
   ]
  },
  {
   "cell_type": "code",
   "execution_count": 4,
   "metadata": {},
   "outputs": [
    {
     "data": {
      "text/plain": [
       "0\n",
       "Creative outputs                                     0\n",
       "Knowledge impact                                     0\n",
       "Innovation Input Sub-index                           0\n",
       "Rule of law                                          0\n",
       "Research and development (R&D)                       0\n",
       "Knowledge diffusion                                  0\n",
       "Environmental performance                            0\n",
       "Education                                            0\n",
       "Global Innovation Index                              0\n",
       "Human capital and research                           0\n",
       "Knowledge creation                                   0\n",
       "Government's online service                          0\n",
       "Market sophistication                                0\n",
       "Knowledge absorption                                 0\n",
       "Online creativity                                    0\n",
       "Ease of protecting minority investors                0\n",
       "Country                                              0\n",
       "Infrastructure                                       0\n",
       "Ease of starting a business                          0\n",
       "Business sophistication                              0\n",
       "Credit                                               0\n",
       "Creative goods and services                          0\n",
       "Tertiary education                                   0\n",
       "Ease of resolving insolvency                         0\n",
       "Information and communication technologies (ICTs)    0\n",
       "Ease of getting credit                               0\n",
       "Innovation linkages                                  0\n",
       "General infrastructure                               0\n",
       "Political environment                                0\n",
       "Investment                                           0\n",
       "Logistics performance                                0\n",
       "Ecological sustainability                            0\n",
       "Institutions                                         0\n",
       "ICT use                                              0\n",
       "Regulatory environment                               0\n",
       "Regulatory quality                                   0\n",
       "ICT access                                           0\n",
       "Innovation Output Sub-index                          0\n",
       "Intangible assets                                    0\n",
       "Knowledge and technology outputs                     0\n",
       "Business environment                                 0\n",
       "Government effectiveness                             0\n",
       "Knowledge workers                                    0\n",
       "dtype: int64"
      ]
     },
     "execution_count": 4,
     "metadata": {},
     "output_type": "execute_result"
    }
   ],
   "source": [
    "# Ya que hay 1 datos nulo para Unemployment_rate, se elimina del dataset\n",
    "# Nuestro dataset queda de 4909 datos\n",
    "df.dropna(axis=0, how=\"any\", inplace=True)\n",
    "df.isnull().sum()"
   ]
  },
  {
   "cell_type": "code",
   "execution_count": 5,
   "metadata": {},
   "outputs": [
    {
     "data": {
      "text/plain": [
       "0\n",
       "Creative outputs                                     object\n",
       "Knowledge impact                                     object\n",
       "Innovation Input Sub-index                           object\n",
       "Rule of law                                          object\n",
       "Research and development (R&D)                       object\n",
       "Knowledge diffusion                                  object\n",
       "Environmental performance                            object\n",
       "Education                                            object\n",
       "Global Innovation Index                              object\n",
       "Human capital and research                           object\n",
       "Knowledge creation                                   object\n",
       "Government's online service                          object\n",
       "Market sophistication                                object\n",
       "Knowledge absorption                                 object\n",
       "Online creativity                                    object\n",
       "Ease of protecting minority investors                object\n",
       "Country                                              object\n",
       "Infrastructure                                       object\n",
       "Ease of starting a business                          object\n",
       "Business sophistication                              object\n",
       "Credit                                               object\n",
       "Creative goods and services                          object\n",
       "Tertiary education                                   object\n",
       "Ease of resolving insolvency                         object\n",
       "Information and communication technologies (ICTs)    object\n",
       "Ease of getting credit                               object\n",
       "Innovation linkages                                  object\n",
       "General infrastructure                               object\n",
       "Political environment                                object\n",
       "Investment                                           object\n",
       "Logistics performance                                object\n",
       "Ecological sustainability                            object\n",
       "Institutions                                         object\n",
       "ICT use                                              object\n",
       "Regulatory environment                               object\n",
       "Regulatory quality                                   object\n",
       "ICT access                                           object\n",
       "Innovation Output Sub-index                          object\n",
       "Intangible assets                                    object\n",
       "Knowledge and technology outputs                     object\n",
       "Business environment                                 object\n",
       "Government effectiveness                             object\n",
       "Knowledge workers                                    object\n",
       "dtype: object"
      ]
     },
     "execution_count": 5,
     "metadata": {},
     "output_type": "execute_result"
    }
   ],
   "source": [
    "df.dtypes"
   ]
  },
  {
   "cell_type": "code",
   "execution_count": 6,
   "metadata": {},
   "outputs": [],
   "source": [
    "from sklearn.preprocessing import LabelEncoder\n",
    "encoder = LabelEncoder()\n",
    "\n",
    "df['Country'] = encoder.fit_transform(df['Country'])\n",
    "Countries = {index : label for index, label in enumerate(encoder.classes_)}\n",
    "\n",
    "df = df.astype(float)"
   ]
  },
  {
   "cell_type": "code",
   "execution_count": 7,
   "metadata": {},
   "outputs": [
    {
     "data": {
      "text/plain": [
       "<AxesSubplot:xlabel='0', ylabel='0'>"
      ]
     },
     "execution_count": 7,
     "metadata": {},
     "output_type": "execute_result"
    },
    {
     "data": {
      "image/png": "[encoded data removed]",
      "text/plain": [
       "<Figure size 2160x720 with 2 Axes>"
      ]
     },
     "metadata": {
      "needs_background": "light"
     },
     "output_type": "display_data"
    }
   ],
   "source": [
    "#Creamos la matriz de correlacion\n",
    "corr_m = df.corr().round(2)\n",
    "#Visualizamos nuestra matriz en un heatmap\n",
    "#Valores rojos son cercanos a 1, azules cercanos a -1 y negros a 0\n",
    "#Los filtramos de modo que sólo se muestren aquellos mayores a .50 0 menores a -.50 de correlación\n",
    "corr_m = corr_m[((corr_m >= .5) | (corr_m <= -.5)) & (corr_m !=1.000)]\n",
    "plt.figure(figsize=(30,10))\n",
    "sns.color_palette(\"cubehelix\", as_cmap=True)\n",
    "sns.heatmap(data=corr_m, annot=True, cmap = \"icefire\")"
   ]
  },
  {
   "cell_type": "markdown",
   "metadata": {},
   "source": [
    "1. **¿Qué se observa en la matriz de correlación?**  \n",
    "A partir de la matriz de correlación, identificamos que están estrechamente correlacionados entre sí. Se encuentran que las columnas de los índices tienen una obvia correlación, mientras que columnas como instituciones, efectividad de gobierno tienen mayor cantidad de altas correlaciones con los demás datos.\n",
    "\n",
    "2. **¿Qué predictor tiene menos correlación con los demás?**  \n",
    "La facilidad de empezar una empresa, indicando que aunque haya innovación, el empezar una empresa sigue siendo algo muy incierto y no realmente lo que determina innovación o no. Por otro lado se tiene a la inversión, que tiene sentido de no estar fuertemente correlacionado al ver que hay muchas áreas en las que invertir, pero se ve que influyen directamente sobre el mercado.\n",
    "\n",
    "3. **¿Qué variables se correlacionan más con la puntuación en ICT?**  \n",
    "Para la variable en la que nos enfocaremos, que es el nivel de ICT (tecnologías de comunicación), encontramos que el subíndice input de innovación está fuertemente correlacionado, con un .85. El servicio online del gobierno con .92, el uso de tecnologías con .93, infraestructura con .88, acceso a ICTs con .9, efectividad de gobierno con .83. La mayoría de estas correlaciones es muy obvia, ya que directamente se invierte en ICTs. De estos predictores, resulta interesante cómo la organización del gobierno se destaca.  \n",
    "Pasando de resultados altos, las siguientes variables con buena correlación son las puntuaciones en instituciones con .78, research and development con .71, regulatory quality con .77, aplicación de leyes con .76, trabajadores con conocimiento con .7, ambiente político con .79, .81 con human capital and research, rendimiento de logísticas con 0.72. Nos deja ver que igualmente van muy de la mano esas variables, de nuevo recalcando variables de organización gubernamental.\n",
    "\n"
   ]
  },
  {
   "cell_type": "markdown",
   "metadata": {},
   "source": [
    "## 2. Data Preprocessing"
   ]
  },
  {
   "cell_type": "code",
   "execution_count": 8,
   "metadata": {},
   "outputs": [],
   "source": [
    "from sklearn.model_selection import train_test_split\n",
    "from sklearn.metrics import mean_squared_error, r2_score\n",
    "\n",
    "# Para simplificar los siguientes pasos, creamos una función que incluye el 2.5, 3, 4, 5, 6\n",
    "# Xarray = Array de predictores, Y = Valores a predecir\n",
    "# plot = binario para graficar o no, Xnames = Nombres de predictores, Yname = Nombre de y\n",
    "def trainingTestingA(Xarray, Y, plot, Xnames, RNames, model):\n",
    "    for X in range(len(Xarray)):\n",
    "        \n",
    "        #---------2.5 Data Partitions (Test/Training)---------------\n",
    "        # Partimos los datos de training y test en 70% y 30%\n",
    "        # Asignamos un valor a random_state para asegurar que haya consistencia\n",
    "        X_train, X_test, Y_train, Y_test = train_test_split(Xarray[X], Y, test_size = 0.3, random_state=7)\n",
    "\n",
    "        #---------4 Model training-----------\n",
    "        model.fit(X_train, Y_train)\n",
    "\n",
    "        #---------5 Model testing-----------\n",
    "        # model evaluation for training set\n",
    "        y_train_predict = model.predict(X_train)\n",
    "        # model evaluation for testing set\n",
    "        y_test_predict = model.predict(X_test)\n",
    "\n",
    "        #---------6 Results Visualization-----------\n",
    "        # R2 and RMSE calulations of model from train data\n",
    "        rmse_Tr = (np.sqrt(mean_squared_error(Y_train, y_train_predict)))\n",
    "        r2_Tr = r2_score(Y_train, y_train_predict)\n",
    "\n",
    "        # R2 and RMSE calulations of model from test data\n",
    "        rmse_T = (np.sqrt(mean_squared_error(Y_test, y_test_predict)))\n",
    "        r2_T = r2_score(Y_test, y_test_predict)\n",
    "\n",
    "        print(\"Model Performance for \" + Xnames[X] + \": Model \" + RNames)\n",
    "\n",
    "        data = {\"RMSE\": [rmse_Tr,rmse_T], \"R2\": [r2_Tr,r2_T]}\n",
    "        pdf = pd.DataFrame(data, index = [\"Training Set\",\"Testing Set\"])\n",
    "        display(pdf)\n",
    "\n",
    "        if (plot):\n",
    "            X_test_array = np.asarray(X_test)\n",
    "            X_train_array = np.asarray(X_train)\n",
    "            y_test_array = np.asarray(y_test_predict)\n",
    "            y_train_array = np.asarray(y_train_predict)\n",
    " \n",
    "            plt.figure(figsize=(4, 4))\n",
    "            try: \n",
    "                # Grafica scatter sólo para predictores de 1 variable\n",
    "                plt.scatter(Xarray[X], Y, label = \"Data\", alpha=0.2)\n",
    "            except:\n",
    "                pass\n",
    "\n",
    "            plt.plot(X_test_array,y_test_array , label=\"Training\", color = \"purple\")\n",
    "            plt.plot(X_train_array,y_train_array, label=\"Test\", color = \"orange\")\n",
    "            \n",
    "            plt.legend(loc='lower right', bbox_to_anchor=(1.4, 0))\n",
    "            plt.xlabel(Xnames[X])\n",
    "            \n",
    "            plt.show()"
   ]
  },
  {
   "cell_type": "markdown",
   "metadata": {},
   "source": [
    "#### 2.4 (Empirical) Dimension Reduction"
   ]
  },
  {
   "cell_type": "code",
   "execution_count": 39,
   "metadata": {},
   "outputs": [],
   "source": [
    "# Vemos que en general las variables del dataset están fuertemente relacionadas, por lo que probamos usando todas las variables\n",
    "# Cabe mencionar que podrían realizarse más pruebas con combinaciones entre estos 41 predictores y obtener resultados similares\n",
    "X_All = df.drop(['Country', 'Information and communication technologies (ICTs)','Global Innovation Index','Innovation Input Sub-index','Innovation Output Sub-index'], axis=1)\n",
    "X_ITC_V1 = df[['Institutions','Regulatory quality','Rule of law','Government effectiveness']].copy()\n",
    "# Prediciremos el nivel tecnológico según todas estas variables\n",
    "Y = df['Information and communication technologies (ICTs)']"
   ]
  },
  {
   "cell_type": "code",
   "execution_count": 342,
   "metadata": {},
   "outputs": [],
   "source": [
    "XMvars = [X_All]\n",
    "XITCV1 = [X_ITC_V1]\n",
    "\n",
    "XMvarsN = [\"All Variables\"]\n",
    "XITCV1N = ['Institutions, Regulatory quality, Rule of law, Government effectiveness']"
   ]
  },
  {
   "cell_type": "markdown",
   "metadata": {},
   "source": [
    "## 6. Visualization of Results"
   ]
  },
  {
   "cell_type": "markdown",
   "metadata": {},
   "source": [
    "### 4. ¿Podemos predecir la puntuación del ICT juntando todas las variables?"
   ]
  },
  {
   "cell_type": "markdown",
   "metadata": {},
   "source": [
    "A partir de los resultados, resulta obvio que incluyendo a las variables fuertemente correlacionadas darán un buen resultado. Esto puede deberse a que van muy de la mano dichas variables con la puntuación para tecnologías de información y comunicación. Se quitaron los 3 índices de innovación dado que podrían afectar el cálculo. Se aprecia a continuación que el mejor modelo fue el primero de SVM, con un 99 en R2. Sin embargo, los demás modelos lograron todos un R2 mayor de 90 y le siguen muy de cerca."
   ]
  },
  {
   "cell_type": "markdown",
   "metadata": {},
   "source": [
    "#### Model #1 DecisionTree"
   ]
  },
  {
   "cell_type": "markdown",
   "metadata": {},
   "source": [
    "Se observa que menos árboles en este caso dieron un mejor resultado, aunque son muy cercanos. La primera versión es también más confiable ya que aunque aumenta ligeramente el error para training, hay una mayor diferencia en el error de testing."
   ]
  },
  {
   "cell_type": "code",
   "execution_count": 34,
   "metadata": {},
   "outputs": [],
   "source": [
    "from sklearn.tree import DecisionTreeRegressor\n",
    "DTR = DecisionTreeRegressor(random_state=0, max_depth = 13)\n",
    "DTR2 = DecisionTreeRegressor(random_state=0, max_depth = 300)"
   ]
  },
  {
   "cell_type": "code",
   "execution_count": 41,
   "metadata": {},
   "outputs": [
    {
     "name": "stdout",
     "output_type": "stream",
     "text": [
      "Model Performance for All Variables: Model DTR\n"
     ]
    },
    {
     "data": {
      "text/html": [
       "<div>\n",
       "<style scoped>\n",
       "    .dataframe tbody tr th:only-of-type {\n",
       "        vertical-align: middle;\n",
       "    }\n",
       "\n",
       "    .dataframe tbody tr th {\n",
       "        vertical-align: top;\n",
       "    }\n",
       "\n",
       "    .dataframe thead th {\n",
       "        text-align: right;\n",
       "    }\n",
       "</style>\n",
       "<table border=\"1\" class=\"dataframe\">\n",
       "  <thead>\n",
       "    <tr style=\"text-align: right;\">\n",
       "      <th></th>\n",
       "      <th>RMSE</th>\n",
       "      <th>R2</th>\n",
       "    </tr>\n",
       "  </thead>\n",
       "  <tbody>\n",
       "    <tr>\n",
       "      <th>Training Set</th>\n",
       "      <td>0.069889</td>\n",
       "      <td>0.999989</td>\n",
       "    </tr>\n",
       "    <tr>\n",
       "      <th>Testing Set</th>\n",
       "      <td>3.794981</td>\n",
       "      <td>0.964946</td>\n",
       "    </tr>\n",
       "  </tbody>\n",
       "</table>\n",
       "</div>"
      ],
      "text/plain": [
       "                  RMSE        R2\n",
       "Training Set  0.069889  0.999989\n",
       "Testing Set   3.794981  0.964946"
      ]
     },
     "metadata": {},
     "output_type": "display_data"
    },
    {
     "name": "stdout",
     "output_type": "stream",
     "text": [
      "Model Performance for All Variables: Model DTR2\n"
     ]
    },
    {
     "data": {
      "text/html": [
       "<div>\n",
       "<style scoped>\n",
       "    .dataframe tbody tr th:only-of-type {\n",
       "        vertical-align: middle;\n",
       "    }\n",
       "\n",
       "    .dataframe tbody tr th {\n",
       "        vertical-align: top;\n",
       "    }\n",
       "\n",
       "    .dataframe thead th {\n",
       "        text-align: right;\n",
       "    }\n",
       "</style>\n",
       "<table border=\"1\" class=\"dataframe\">\n",
       "  <thead>\n",
       "    <tr style=\"text-align: right;\">\n",
       "      <th></th>\n",
       "      <th>RMSE</th>\n",
       "      <th>R2</th>\n",
       "    </tr>\n",
       "  </thead>\n",
       "  <tbody>\n",
       "    <tr>\n",
       "      <th>Training Set</th>\n",
       "      <td>0.000000</td>\n",
       "      <td>1.000000</td>\n",
       "    </tr>\n",
       "    <tr>\n",
       "      <th>Testing Set</th>\n",
       "      <td>3.616053</td>\n",
       "      <td>0.968174</td>\n",
       "    </tr>\n",
       "  </tbody>\n",
       "</table>\n",
       "</div>"
      ],
      "text/plain": [
       "                  RMSE        R2\n",
       "Training Set  0.000000  1.000000\n",
       "Testing Set   3.616053  0.968174"
      ]
     },
     "metadata": {},
     "output_type": "display_data"
    }
   ],
   "source": [
    "trainingTestingA(XMvars, Y, 0, XMvarsN, \"DTR\", DTR)\n",
    "trainingTestingA(XMvars, Y, 0, XMvarsN, \"DTR2\", DTR2)"
   ]
  },
  {
   "cell_type": "markdown",
   "metadata": {},
   "source": [
    "#### Model #2 Random Forest"
   ]
  },
  {
   "cell_type": "markdown",
   "metadata": {},
   "source": [
    "Se observa que el mejor modelo fue el segundo, dado los bajos errores cuadrados y el éxito que tuvo en el R2 del cross validation. Sin embargo, el primer modelo llegó a un puntaje más alto que el del segundo sobre los datos de testing. Lleva a pensar que menor número de árboles pueden obtener mejor resultado de combinarse con bootstrap en falso, aunque los resultados son cercanos."
   ]
  },
  {
   "cell_type": "code",
   "execution_count": 43,
   "metadata": {},
   "outputs": [],
   "source": [
    "from sklearn.ensemble import RandomForestRegressor\n",
    "RFR = RandomForestRegressor(random_state = 0, n_estimators=1000)\n",
    "RFR2 = RandomForestRegressor(random_state = 0, n_estimators= 400, bootstrap= False)"
   ]
  },
  {
   "cell_type": "code",
   "execution_count": 44,
   "metadata": {},
   "outputs": [
    {
     "name": "stdout",
     "output_type": "stream",
     "text": [
      "Model Performance for All Variables: Model RFR\n"
     ]
    },
    {
     "data": {
      "text/html": [
       "<div>\n",
       "<style scoped>\n",
       "    .dataframe tbody tr th:only-of-type {\n",
       "        vertical-align: middle;\n",
       "    }\n",
       "\n",
       "    .dataframe tbody tr th {\n",
       "        vertical-align: top;\n",
       "    }\n",
       "\n",
       "    .dataframe thead th {\n",
       "        text-align: right;\n",
       "    }\n",
       "</style>\n",
       "<table border=\"1\" class=\"dataframe\">\n",
       "  <thead>\n",
       "    <tr style=\"text-align: right;\">\n",
       "      <th></th>\n",
       "      <th>RMSE</th>\n",
       "      <th>R2</th>\n",
       "    </tr>\n",
       "  </thead>\n",
       "  <tbody>\n",
       "    <tr>\n",
       "      <th>Training Set</th>\n",
       "      <td>0.950305</td>\n",
       "      <td>0.997887</td>\n",
       "    </tr>\n",
       "    <tr>\n",
       "      <th>Testing Set</th>\n",
       "      <td>2.229625</td>\n",
       "      <td>0.987900</td>\n",
       "    </tr>\n",
       "  </tbody>\n",
       "</table>\n",
       "</div>"
      ],
      "text/plain": [
       "                  RMSE        R2\n",
       "Training Set  0.950305  0.997887\n",
       "Testing Set   2.229625  0.987900"
      ]
     },
     "metadata": {},
     "output_type": "display_data"
    },
    {
     "name": "stdout",
     "output_type": "stream",
     "text": [
      "Model Performance for All Variables: Model RFR2\n"
     ]
    },
    {
     "data": {
      "text/html": [
       "<div>\n",
       "<style scoped>\n",
       "    .dataframe tbody tr th:only-of-type {\n",
       "        vertical-align: middle;\n",
       "    }\n",
       "\n",
       "    .dataframe tbody tr th {\n",
       "        vertical-align: top;\n",
       "    }\n",
       "\n",
       "    .dataframe thead th {\n",
       "        text-align: right;\n",
       "    }\n",
       "</style>\n",
       "<table border=\"1\" class=\"dataframe\">\n",
       "  <thead>\n",
       "    <tr style=\"text-align: right;\">\n",
       "      <th></th>\n",
       "      <th>RMSE</th>\n",
       "      <th>R2</th>\n",
       "    </tr>\n",
       "  </thead>\n",
       "  <tbody>\n",
       "    <tr>\n",
       "      <th>Training Set</th>\n",
       "      <td>3.338759e-13</td>\n",
       "      <td>1.000000</td>\n",
       "    </tr>\n",
       "    <tr>\n",
       "      <th>Testing Set</th>\n",
       "      <td>3.657770e+00</td>\n",
       "      <td>0.967435</td>\n",
       "    </tr>\n",
       "  </tbody>\n",
       "</table>\n",
       "</div>"
      ],
      "text/plain": [
       "                      RMSE        R2\n",
       "Training Set  3.338759e-13  1.000000\n",
       "Testing Set   3.657770e+00  0.967435"
      ]
     },
     "metadata": {},
     "output_type": "display_data"
    }
   ],
   "source": [
    "trainingTestingA(XMvars, Y, 0, XMvarsN, \"RFR\", RFR)\n",
    "trainingTestingA(XMvars, Y, 0, XMvarsN, \"RFR2\", RFR2)"
   ]
  },
  {
   "cell_type": "markdown",
   "metadata": {},
   "source": [
    "#### Model #3 Support Vector Machine (SVM)"
   ]
  },
  {
   "cell_type": "markdown",
   "metadata": {},
   "source": [
    "Variando el kernel y la C (parámetro de regularización), se obtuvieron los mejores resultados con menor error en el primer modelo, que usó el kernel lineal y un valor de C mayor (0.33 contra el segundo modelo con 0.083)  "
   ]
  },
  {
   "cell_type": "code",
   "execution_count": 15,
   "metadata": {},
   "outputs": [],
   "source": [
    "from sklearn.svm import SVR\n",
    "\n",
    "SVRM = SVR(C = 100.0 / 300, kernel = 'linear')\n",
    "SVRM2 = SVR(C = 25.0 / 300, kernel = 'poly')"
   ]
  },
  {
   "cell_type": "code",
   "execution_count": 16,
   "metadata": {},
   "outputs": [
    {
     "name": "stdout",
     "output_type": "stream",
     "text": [
      "Model Performance for All Variables: Model SVRM\n"
     ]
    },
    {
     "data": {
      "text/html": [
       "<div>\n",
       "<style scoped>\n",
       "    .dataframe tbody tr th:only-of-type {\n",
       "        vertical-align: middle;\n",
       "    }\n",
       "\n",
       "    .dataframe tbody tr th {\n",
       "        vertical-align: top;\n",
       "    }\n",
       "\n",
       "    .dataframe thead th {\n",
       "        text-align: right;\n",
       "    }\n",
       "</style>\n",
       "<table border=\"1\" class=\"dataframe\">\n",
       "  <thead>\n",
       "    <tr style=\"text-align: right;\">\n",
       "      <th></th>\n",
       "      <th>RMSE</th>\n",
       "      <th>R2</th>\n",
       "    </tr>\n",
       "  </thead>\n",
       "  <tbody>\n",
       "    <tr>\n",
       "      <th>Training Set</th>\n",
       "      <td>0.094934</td>\n",
       "      <td>0.999979</td>\n",
       "    </tr>\n",
       "    <tr>\n",
       "      <th>Testing Set</th>\n",
       "      <td>0.101776</td>\n",
       "      <td>0.999975</td>\n",
       "    </tr>\n",
       "  </tbody>\n",
       "</table>\n",
       "</div>"
      ],
      "text/plain": [
       "                  RMSE        R2\n",
       "Training Set  0.094934  0.999979\n",
       "Testing Set   0.101776  0.999975"
      ]
     },
     "metadata": {},
     "output_type": "display_data"
    },
    {
     "name": "stdout",
     "output_type": "stream",
     "text": [
      "Model Performance for All Variables: Model SVRM2\n"
     ]
    },
    {
     "data": {
      "text/html": [
       "<div>\n",
       "<style scoped>\n",
       "    .dataframe tbody tr th:only-of-type {\n",
       "        vertical-align: middle;\n",
       "    }\n",
       "\n",
       "    .dataframe tbody tr th {\n",
       "        vertical-align: top;\n",
       "    }\n",
       "\n",
       "    .dataframe thead th {\n",
       "        text-align: right;\n",
       "    }\n",
       "</style>\n",
       "<table border=\"1\" class=\"dataframe\">\n",
       "  <thead>\n",
       "    <tr style=\"text-align: right;\">\n",
       "      <th></th>\n",
       "      <th>RMSE</th>\n",
       "      <th>R2</th>\n",
       "    </tr>\n",
       "  </thead>\n",
       "  <tbody>\n",
       "    <tr>\n",
       "      <th>Training Set</th>\n",
       "      <td>5.681197</td>\n",
       "      <td>0.924466</td>\n",
       "    </tr>\n",
       "    <tr>\n",
       "      <th>Testing Set</th>\n",
       "      <td>5.008356</td>\n",
       "      <td>0.938947</td>\n",
       "    </tr>\n",
       "  </tbody>\n",
       "</table>\n",
       "</div>"
      ],
      "text/plain": [
       "                  RMSE        R2\n",
       "Training Set  5.681197  0.924466\n",
       "Testing Set   5.008356  0.938947"
      ]
     },
     "metadata": {},
     "output_type": "display_data"
    }
   ],
   "source": [
    "trainingTestingA(XMvars, Y, 0, XMvarsN, \"SVRM\", SVRM)\n",
    "trainingTestingA(XMvars, Y, 0, XMvarsN, \"SVRM2\", SVRM2)"
   ]
  },
  {
   "cell_type": "markdown",
   "metadata": {},
   "source": [
    "#### Model #4 Neural Networks"
   ]
  },
  {
   "cell_type": "markdown",
   "metadata": {},
   "source": [
    "Los resultados son muy cercanos, y se puede ver que el segundo es el mejor modelo entre los dos, ya que tiene errores menores y resultados en R2 mayores en ambos training y testing. Sin embargo, en ambos se obtuvieron excelentes resultados."
   ]
  },
  {
   "cell_type": "code",
   "execution_count": 49,
   "metadata": {},
   "outputs": [],
   "source": [
    "from sklearn.neural_network import MLPRegressor\n",
    "MLP = MLPRegressor(hidden_layer_sizes=(64,64,64,64), max_iter = 300)\n",
    "MLP2 = MLPRegressor(hidden_layer_sizes=(128,128,128,128), max_iter = 300)"
   ]
  },
  {
   "cell_type": "code",
   "execution_count": 50,
   "metadata": {},
   "outputs": [
    {
     "name": "stdout",
     "output_type": "stream",
     "text": [
      "Model Performance for All Variables: Model MLP\n"
     ]
    },
    {
     "data": {
      "text/html": [
       "<div>\n",
       "<style scoped>\n",
       "    .dataframe tbody tr th:only-of-type {\n",
       "        vertical-align: middle;\n",
       "    }\n",
       "\n",
       "    .dataframe tbody tr th {\n",
       "        vertical-align: top;\n",
       "    }\n",
       "\n",
       "    .dataframe thead th {\n",
       "        text-align: right;\n",
       "    }\n",
       "</style>\n",
       "<table border=\"1\" class=\"dataframe\">\n",
       "  <thead>\n",
       "    <tr style=\"text-align: right;\">\n",
       "      <th></th>\n",
       "      <th>RMSE</th>\n",
       "      <th>R2</th>\n",
       "    </tr>\n",
       "  </thead>\n",
       "  <tbody>\n",
       "    <tr>\n",
       "      <th>Training Set</th>\n",
       "      <td>1.539283</td>\n",
       "      <td>0.994455</td>\n",
       "    </tr>\n",
       "    <tr>\n",
       "      <th>Testing Set</th>\n",
       "      <td>2.230012</td>\n",
       "      <td>0.987896</td>\n",
       "    </tr>\n",
       "  </tbody>\n",
       "</table>\n",
       "</div>"
      ],
      "text/plain": [
       "                  RMSE        R2\n",
       "Training Set  1.539283  0.994455\n",
       "Testing Set   2.230012  0.987896"
      ]
     },
     "metadata": {},
     "output_type": "display_data"
    },
    {
     "name": "stdout",
     "output_type": "stream",
     "text": [
      "Model Performance for All Variables: Model MLP2\n"
     ]
    },
    {
     "data": {
      "text/html": [
       "<div>\n",
       "<style scoped>\n",
       "    .dataframe tbody tr th:only-of-type {\n",
       "        vertical-align: middle;\n",
       "    }\n",
       "\n",
       "    .dataframe tbody tr th {\n",
       "        vertical-align: top;\n",
       "    }\n",
       "\n",
       "    .dataframe thead th {\n",
       "        text-align: right;\n",
       "    }\n",
       "</style>\n",
       "<table border=\"1\" class=\"dataframe\">\n",
       "  <thead>\n",
       "    <tr style=\"text-align: right;\">\n",
       "      <th></th>\n",
       "      <th>RMSE</th>\n",
       "      <th>R2</th>\n",
       "    </tr>\n",
       "  </thead>\n",
       "  <tbody>\n",
       "    <tr>\n",
       "      <th>Training Set</th>\n",
       "      <td>1.181793</td>\n",
       "      <td>0.996732</td>\n",
       "    </tr>\n",
       "    <tr>\n",
       "      <th>Testing Set</th>\n",
       "      <td>1.939645</td>\n",
       "      <td>0.990843</td>\n",
       "    </tr>\n",
       "  </tbody>\n",
       "</table>\n",
       "</div>"
      ],
      "text/plain": [
       "                  RMSE        R2\n",
       "Training Set  1.181793  0.996732\n",
       "Testing Set   1.939645  0.990843"
      ]
     },
     "metadata": {},
     "output_type": "display_data"
    }
   ],
   "source": [
    "trainingTestingA(XMvars, Y, 0, XMvarsN, \"MLP\", MLP)\n",
    "trainingTestingA(XMvars, Y, 0, XMvarsN, \"MLP2\", MLP2)"
   ]
  },
  {
   "cell_type": "markdown",
   "metadata": {},
   "source": [
    "### 5. ¿Podemos predecir la puntuación del ICT con variables menos evidentes?"
   ]
  },
  {
   "cell_type": "markdown",
   "metadata": {},
   "source": [
    "Todas las variables anteriores juntas pudieron describir de excelente manera la puntuación en ICT. Sin embargo no siempre se cuenta con todos estos datos y la influencia de los mayormente correlacionales es obvia (por ejemplo el uso de ICTs obviamente indicará un ICT alto). Se probó entonces con cuatro variables que están fuertemente correlacionadas, pero menos que las directamente relacionadas con ICT. Se incluyeron institutions, regulatory quality, rule of law y government effectiveness. Entre todas representando una buena organización y control en el país.  \n",
    "En general los resultados para testing con R2 fueron promedio y muy buenos para training. Random Forest pudo llegar a resultados muy buenos para training y excelentes para testing. Se crearon variaciones de los modelos, viendo como añadiendo parámeros mejoraba o no los resultados.\n",
    "   \n",
    "Los mejores resultados con los modelos anteriores fueron de Random Forest, Neural Networks y SVM:"
   ]
  },
  {
   "cell_type": "code",
   "execution_count": 343,
   "metadata": {},
   "outputs": [
    {
     "name": "stdout",
     "output_type": "stream",
     "text": [
      "Model Performance for Institutions, Regulatory quality, Rule of law, Government effectiveness: Model RFR\n"
     ]
    },
    {
     "data": {
      "text/html": [
       "<div>\n",
       "<style scoped>\n",
       "    .dataframe tbody tr th:only-of-type {\n",
       "        vertical-align: middle;\n",
       "    }\n",
       "\n",
       "    .dataframe tbody tr th {\n",
       "        vertical-align: top;\n",
       "    }\n",
       "\n",
       "    .dataframe thead th {\n",
       "        text-align: right;\n",
       "    }\n",
       "</style>\n",
       "<table border=\"1\" class=\"dataframe\">\n",
       "  <thead>\n",
       "    <tr style=\"text-align: right;\">\n",
       "      <th></th>\n",
       "      <th>RMSE</th>\n",
       "      <th>R2</th>\n",
       "    </tr>\n",
       "  </thead>\n",
       "  <tbody>\n",
       "    <tr>\n",
       "      <th>Training Set</th>\n",
       "      <td>3.738233</td>\n",
       "      <td>0.967296</td>\n",
       "    </tr>\n",
       "    <tr>\n",
       "      <th>Testing Set</th>\n",
       "      <td>10.936680</td>\n",
       "      <td>0.708870</td>\n",
       "    </tr>\n",
       "  </tbody>\n",
       "</table>\n",
       "</div>"
      ],
      "text/plain": [
       "                   RMSE        R2\n",
       "Training Set   3.738233  0.967296\n",
       "Testing Set   10.936680  0.708870"
      ]
     },
     "metadata": {},
     "output_type": "display_data"
    },
    {
     "name": "stdout",
     "output_type": "stream",
     "text": [
      "Model Performance for Institutions, Regulatory quality, Rule of law, Government effectiveness: Model MLP2\n"
     ]
    },
    {
     "data": {
      "text/html": [
       "<div>\n",
       "<style scoped>\n",
       "    .dataframe tbody tr th:only-of-type {\n",
       "        vertical-align: middle;\n",
       "    }\n",
       "\n",
       "    .dataframe tbody tr th {\n",
       "        vertical-align: top;\n",
       "    }\n",
       "\n",
       "    .dataframe thead th {\n",
       "        text-align: right;\n",
       "    }\n",
       "</style>\n",
       "<table border=\"1\" class=\"dataframe\">\n",
       "  <thead>\n",
       "    <tr style=\"text-align: right;\">\n",
       "      <th></th>\n",
       "      <th>RMSE</th>\n",
       "      <th>R2</th>\n",
       "    </tr>\n",
       "  </thead>\n",
       "  <tbody>\n",
       "    <tr>\n",
       "      <th>Training Set</th>\n",
       "      <td>10.462946</td>\n",
       "      <td>0.743805</td>\n",
       "    </tr>\n",
       "    <tr>\n",
       "      <th>Testing Set</th>\n",
       "      <td>11.694874</td>\n",
       "      <td>0.667105</td>\n",
       "    </tr>\n",
       "  </tbody>\n",
       "</table>\n",
       "</div>"
      ],
      "text/plain": [
       "                   RMSE        R2\n",
       "Training Set  10.462946  0.743805\n",
       "Testing Set   11.694874  0.667105"
      ]
     },
     "metadata": {},
     "output_type": "display_data"
    },
    {
     "name": "stdout",
     "output_type": "stream",
     "text": [
      "Model Performance for Institutions, Regulatory quality, Rule of law, Government effectiveness: Model SVRM\n"
     ]
    },
    {
     "data": {
      "text/html": [
       "<div>\n",
       "<style scoped>\n",
       "    .dataframe tbody tr th:only-of-type {\n",
       "        vertical-align: middle;\n",
       "    }\n",
       "\n",
       "    .dataframe tbody tr th {\n",
       "        vertical-align: top;\n",
       "    }\n",
       "\n",
       "    .dataframe thead th {\n",
       "        text-align: right;\n",
       "    }\n",
       "</style>\n",
       "<table border=\"1\" class=\"dataframe\">\n",
       "  <thead>\n",
       "    <tr style=\"text-align: right;\">\n",
       "      <th></th>\n",
       "      <th>RMSE</th>\n",
       "      <th>R2</th>\n",
       "    </tr>\n",
       "  </thead>\n",
       "  <tbody>\n",
       "    <tr>\n",
       "      <th>Training Set</th>\n",
       "      <td>11.027273</td>\n",
       "      <td>0.715423</td>\n",
       "    </tr>\n",
       "    <tr>\n",
       "      <th>Testing Set</th>\n",
       "      <td>11.797566</td>\n",
       "      <td>0.661233</td>\n",
       "    </tr>\n",
       "  </tbody>\n",
       "</table>\n",
       "</div>"
      ],
      "text/plain": [
       "                   RMSE        R2\n",
       "Training Set  11.027273  0.715423\n",
       "Testing Set   11.797566  0.661233"
      ]
     },
     "metadata": {},
     "output_type": "display_data"
    }
   ],
   "source": [
    "trainingTestingA(XITCV1, Y, 0, XITCV1N, \"RFR\", RFR)\n",
    "trainingTestingA(XITCV1, Y, 0, XITCV1N, \"MLP2\", MLP2)\n",
    "trainingTestingA(XITCV1, Y, 0, XITCV1N, \"SVRM\", SVRM)"
   ]
  },
  {
   "cell_type": "markdown",
   "metadata": {},
   "source": [
    ">_Se crearon modelos adicionales para intentar subir R2_"
   ]
  },
  {
   "cell_type": "markdown",
   "metadata": {},
   "source": [
    "#### Model #1 DecisionTree"
   ]
  },
  {
   "cell_type": "markdown",
   "metadata": {},
   "source": [
    "Los resultados fueron casi idénticos para estas dos siguientes variaciones, aunque se ve que una combinación de mayor profundidad con un split mínimo menor a 0.3, fue equiparable a únicamente establecer una profundidad de 3."
   ]
  },
  {
   "cell_type": "code",
   "execution_count": 20,
   "metadata": {},
   "outputs": [],
   "source": [
    "DTR3 = DecisionTreeRegressor(random_state=0, max_depth = 3)\n",
    "DTR4 = DecisionTreeRegressor(random_state=0, max_depth = 200, min_samples_split = 0.2)"
   ]
  },
  {
   "cell_type": "code",
   "execution_count": 344,
   "metadata": {},
   "outputs": [
    {
     "name": "stdout",
     "output_type": "stream",
     "text": [
      "Model Performance for Institutions, Regulatory quality, Rule of law, Government effectiveness: Model DTR3\n"
     ]
    },
    {
     "data": {
      "text/html": [
       "<div>\n",
       "<style scoped>\n",
       "    .dataframe tbody tr th:only-of-type {\n",
       "        vertical-align: middle;\n",
       "    }\n",
       "\n",
       "    .dataframe tbody tr th {\n",
       "        vertical-align: top;\n",
       "    }\n",
       "\n",
       "    .dataframe thead th {\n",
       "        text-align: right;\n",
       "    }\n",
       "</style>\n",
       "<table border=\"1\" class=\"dataframe\">\n",
       "  <thead>\n",
       "    <tr style=\"text-align: right;\">\n",
       "      <th></th>\n",
       "      <th>RMSE</th>\n",
       "      <th>R2</th>\n",
       "    </tr>\n",
       "  </thead>\n",
       "  <tbody>\n",
       "    <tr>\n",
       "      <th>Training Set</th>\n",
       "      <td>10.108406</td>\n",
       "      <td>0.760873</td>\n",
       "    </tr>\n",
       "    <tr>\n",
       "      <th>Testing Set</th>\n",
       "      <td>11.797870</td>\n",
       "      <td>0.661216</td>\n",
       "    </tr>\n",
       "  </tbody>\n",
       "</table>\n",
       "</div>"
      ],
      "text/plain": [
       "                   RMSE        R2\n",
       "Training Set  10.108406  0.760873\n",
       "Testing Set   11.797870  0.661216"
      ]
     },
     "metadata": {},
     "output_type": "display_data"
    },
    {
     "name": "stdout",
     "output_type": "stream",
     "text": [
      "Model Performance for Institutions, Regulatory quality, Rule of law, Government effectiveness: Model DTR4\n"
     ]
    },
    {
     "data": {
      "text/html": [
       "<div>\n",
       "<style scoped>\n",
       "    .dataframe tbody tr th:only-of-type {\n",
       "        vertical-align: middle;\n",
       "    }\n",
       "\n",
       "    .dataframe tbody tr th {\n",
       "        vertical-align: top;\n",
       "    }\n",
       "\n",
       "    .dataframe thead th {\n",
       "        text-align: right;\n",
       "    }\n",
       "</style>\n",
       "<table border=\"1\" class=\"dataframe\">\n",
       "  <thead>\n",
       "    <tr style=\"text-align: right;\">\n",
       "      <th></th>\n",
       "      <th>RMSE</th>\n",
       "      <th>R2</th>\n",
       "    </tr>\n",
       "  </thead>\n",
       "  <tbody>\n",
       "    <tr>\n",
       "      <th>Training Set</th>\n",
       "      <td>10.304972</td>\n",
       "      <td>0.751483</td>\n",
       "    </tr>\n",
       "    <tr>\n",
       "      <th>Testing Set</th>\n",
       "      <td>11.487970</td>\n",
       "      <td>0.678780</td>\n",
       "    </tr>\n",
       "  </tbody>\n",
       "</table>\n",
       "</div>"
      ],
      "text/plain": [
       "                   RMSE        R2\n",
       "Training Set  10.304972  0.751483\n",
       "Testing Set   11.487970  0.678780"
      ]
     },
     "metadata": {},
     "output_type": "display_data"
    }
   ],
   "source": [
    "trainingTestingA(XITCV1, Y, 0, XITCV1N, \"DTR3\", DTR3)\n",
    "trainingTestingA(XITCV1, Y, 0, XITCV1N, \"DTR4\", DTR4)"
   ]
  },
  {
   "cell_type": "markdown",
   "metadata": {},
   "source": [
    "#### Model #2 Random Forest"
   ]
  },
  {
   "cell_type": "markdown",
   "metadata": {},
   "source": [
    "Estas variaciones tuvieron resultados para testing casi iguales, pero el primer caso con mayor número de árboles tuvo menor error y mayor desempeño en training. Esto nos lleva a creer que el primero es ligeramente mejor, o podría haber ocurrido overfitting. "
   ]
  },
  {
   "cell_type": "code",
   "execution_count": 22,
   "metadata": {},
   "outputs": [],
   "source": [
    "RFR3 = RandomForestRegressor(n_estimators= 1000)\n",
    "RFR4 = RandomForestRegressor(n_estimators= 200, n_jobs=102, max_samples=225)"
   ]
  },
  {
   "cell_type": "code",
   "execution_count": 345,
   "metadata": {},
   "outputs": [
    {
     "name": "stdout",
     "output_type": "stream",
     "text": [
      "Model Performance for Institutions, Regulatory quality, Rule of law, Government effectiveness: Model RFR3\n"
     ]
    },
    {
     "data": {
      "text/html": [
       "<div>\n",
       "<style scoped>\n",
       "    .dataframe tbody tr th:only-of-type {\n",
       "        vertical-align: middle;\n",
       "    }\n",
       "\n",
       "    .dataframe tbody tr th {\n",
       "        vertical-align: top;\n",
       "    }\n",
       "\n",
       "    .dataframe thead th {\n",
       "        text-align: right;\n",
       "    }\n",
       "</style>\n",
       "<table border=\"1\" class=\"dataframe\">\n",
       "  <thead>\n",
       "    <tr style=\"text-align: right;\">\n",
       "      <th></th>\n",
       "      <th>RMSE</th>\n",
       "      <th>R2</th>\n",
       "    </tr>\n",
       "  </thead>\n",
       "  <tbody>\n",
       "    <tr>\n",
       "      <th>Training Set</th>\n",
       "      <td>3.748471</td>\n",
       "      <td>0.967117</td>\n",
       "    </tr>\n",
       "    <tr>\n",
       "      <th>Testing Set</th>\n",
       "      <td>10.961750</td>\n",
       "      <td>0.707534</td>\n",
       "    </tr>\n",
       "  </tbody>\n",
       "</table>\n",
       "</div>"
      ],
      "text/plain": [
       "                   RMSE        R2\n",
       "Training Set   3.748471  0.967117\n",
       "Testing Set   10.961750  0.707534"
      ]
     },
     "metadata": {},
     "output_type": "display_data"
    },
    {
     "name": "stdout",
     "output_type": "stream",
     "text": [
      "Model Performance for Institutions, Regulatory quality, Rule of law, Government effectiveness: Model RFR4\n"
     ]
    },
    {
     "data": {
      "text/html": [
       "<div>\n",
       "<style scoped>\n",
       "    .dataframe tbody tr th:only-of-type {\n",
       "        vertical-align: middle;\n",
       "    }\n",
       "\n",
       "    .dataframe tbody tr th {\n",
       "        vertical-align: top;\n",
       "    }\n",
       "\n",
       "    .dataframe thead th {\n",
       "        text-align: right;\n",
       "    }\n",
       "</style>\n",
       "<table border=\"1\" class=\"dataframe\">\n",
       "  <thead>\n",
       "    <tr style=\"text-align: right;\">\n",
       "      <th></th>\n",
       "      <th>RMSE</th>\n",
       "      <th>R2</th>\n",
       "    </tr>\n",
       "  </thead>\n",
       "  <tbody>\n",
       "    <tr>\n",
       "      <th>Training Set</th>\n",
       "      <td>6.372156</td>\n",
       "      <td>0.904975</td>\n",
       "    </tr>\n",
       "    <tr>\n",
       "      <th>Testing Set</th>\n",
       "      <td>10.821385</td>\n",
       "      <td>0.714976</td>\n",
       "    </tr>\n",
       "  </tbody>\n",
       "</table>\n",
       "</div>"
      ],
      "text/plain": [
       "                   RMSE        R2\n",
       "Training Set   6.372156  0.904975\n",
       "Testing Set   10.821385  0.714976"
      ]
     },
     "metadata": {},
     "output_type": "display_data"
    }
   ],
   "source": [
    "trainingTestingA(XITCV1, Y, 0, XITCV1N, \"RFR3\", RFR3)\n",
    "trainingTestingA(XITCV1, Y, 0, XITCV1N, \"RFR4\", RFR4)"
   ]
  },
  {
   "cell_type": "markdown",
   "metadata": {},
   "source": [
    "#### Model #3 Support Vector Machine (SVM)"
   ]
  },
  {
   "cell_type": "markdown",
   "metadata": {},
   "source": [
    "De las dos versiones, en la que dio mejores pero pequeños cambios, se ajustó la C para que quedara un valor menos, se y poly dio mejores resultados al ajustar el coeficiente. La tolerancia y el epsilon también ayudaron. De cualquier manera, aunque el segundo modelo haya tenido mejores resultados, el aumento es insignificante."
   ]
  },
  {
   "cell_type": "code",
   "execution_count": 24,
   "metadata": {},
   "outputs": [],
   "source": [
    "SVRM3 = SVR(C = 100.0 / 300, kernel = 'linear')"
   ]
  },
  {
   "cell_type": "code",
   "execution_count": 346,
   "metadata": {},
   "outputs": [
    {
     "name": "stdout",
     "output_type": "stream",
     "text": [
      "Model Performance for Institutions, Regulatory quality, Rule of law, Government effectiveness: Model SVRM3\n"
     ]
    },
    {
     "data": {
      "text/html": [
       "<div>\n",
       "<style scoped>\n",
       "    .dataframe tbody tr th:only-of-type {\n",
       "        vertical-align: middle;\n",
       "    }\n",
       "\n",
       "    .dataframe tbody tr th {\n",
       "        vertical-align: top;\n",
       "    }\n",
       "\n",
       "    .dataframe thead th {\n",
       "        text-align: right;\n",
       "    }\n",
       "</style>\n",
       "<table border=\"1\" class=\"dataframe\">\n",
       "  <thead>\n",
       "    <tr style=\"text-align: right;\">\n",
       "      <th></th>\n",
       "      <th>RMSE</th>\n",
       "      <th>R2</th>\n",
       "    </tr>\n",
       "  </thead>\n",
       "  <tbody>\n",
       "    <tr>\n",
       "      <th>Training Set</th>\n",
       "      <td>11.027273</td>\n",
       "      <td>0.715423</td>\n",
       "    </tr>\n",
       "    <tr>\n",
       "      <th>Testing Set</th>\n",
       "      <td>11.797566</td>\n",
       "      <td>0.661233</td>\n",
       "    </tr>\n",
       "  </tbody>\n",
       "</table>\n",
       "</div>"
      ],
      "text/plain": [
       "                   RMSE        R2\n",
       "Training Set  11.027273  0.715423\n",
       "Testing Set   11.797566  0.661233"
      ]
     },
     "metadata": {},
     "output_type": "display_data"
    }
   ],
   "source": [
    "trainingTestingA(XITCV1, Y, 0, XITCV1N, \"SVRM3\", SVRM3)"
   ]
  },
  {
   "cell_type": "code",
   "execution_count": 347,
   "metadata": {},
   "outputs": [
    {
     "name": "stdout",
     "output_type": "stream",
     "text": [
      "Model Performance for Institutions, Regulatory quality, Rule of law, Government effectiveness: Model SVRM4\n"
     ]
    },
    {
     "data": {
      "text/html": [
       "<div>\n",
       "<style scoped>\n",
       "    .dataframe tbody tr th:only-of-type {\n",
       "        vertical-align: middle;\n",
       "    }\n",
       "\n",
       "    .dataframe tbody tr th {\n",
       "        vertical-align: top;\n",
       "    }\n",
       "\n",
       "    .dataframe thead th {\n",
       "        text-align: right;\n",
       "    }\n",
       "</style>\n",
       "<table border=\"1\" class=\"dataframe\">\n",
       "  <thead>\n",
       "    <tr style=\"text-align: right;\">\n",
       "      <th></th>\n",
       "      <th>RMSE</th>\n",
       "      <th>R2</th>\n",
       "    </tr>\n",
       "  </thead>\n",
       "  <tbody>\n",
       "    <tr>\n",
       "      <th>Training Set</th>\n",
       "      <td>10.829481</td>\n",
       "      <td>0.725540</td>\n",
       "    </tr>\n",
       "    <tr>\n",
       "      <th>Testing Set</th>\n",
       "      <td>11.522930</td>\n",
       "      <td>0.676822</td>\n",
       "    </tr>\n",
       "  </tbody>\n",
       "</table>\n",
       "</div>"
      ],
      "text/plain": [
       "                   RMSE        R2\n",
       "Training Set  10.829481  0.725540\n",
       "Testing Set   11.522930  0.676822"
      ]
     },
     "metadata": {},
     "output_type": "display_data"
    }
   ],
   "source": [
    "SVRM4 = SVR(C = .009, kernel = 'poly', tol = 0.09, epsilon=5, coef0 = 18.02)\n",
    "trainingTestingA(XITCV1, Y, 0, XITCV1N, \"SVRM4\", SVRM4)"
   ]
  },
  {
   "cell_type": "markdown",
   "metadata": {},
   "source": [
    "#### Model #4 Neural Networks"
   ]
  },
  {
   "cell_type": "markdown",
   "metadata": {},
   "source": [
    "Aquí de nuevo se intentó usar GridSearchCV para la segunda versión. Hubo una mejora de .006 en testing, en donde por un lado se usaron 4 capas de 64 neuronas cada una (más 300 max iteraciones) y en el otro una capa de 10 neuronas (con 800 max iteraciones). El primer modelo tuvo mejor R2 en training. Nos lleva a creer que para mejorar estos resultados deberíamos hacer más pruebas con mayor número de neuronas (que no excedan las 128) y capas, junto con probar con iteraciones máximas más bajas. "
   ]
  },
  {
   "cell_type": "code",
   "execution_count": 348,
   "metadata": {},
   "outputs": [
    {
     "name": "stdout",
     "output_type": "stream",
     "text": [
      "Model Performance for Institutions, Regulatory quality, Rule of law, Government effectiveness: Model MLP3\n"
     ]
    },
    {
     "data": {
      "text/html": [
       "<div>\n",
       "<style scoped>\n",
       "    .dataframe tbody tr th:only-of-type {\n",
       "        vertical-align: middle;\n",
       "    }\n",
       "\n",
       "    .dataframe tbody tr th {\n",
       "        vertical-align: top;\n",
       "    }\n",
       "\n",
       "    .dataframe thead th {\n",
       "        text-align: right;\n",
       "    }\n",
       "</style>\n",
       "<table border=\"1\" class=\"dataframe\">\n",
       "  <thead>\n",
       "    <tr style=\"text-align: right;\">\n",
       "      <th></th>\n",
       "      <th>RMSE</th>\n",
       "      <th>R2</th>\n",
       "    </tr>\n",
       "  </thead>\n",
       "  <tbody>\n",
       "    <tr>\n",
       "      <th>Training Set</th>\n",
       "      <td>9.980666</td>\n",
       "      <td>0.766879</td>\n",
       "    </tr>\n",
       "    <tr>\n",
       "      <th>Testing Set</th>\n",
       "      <td>11.636845</td>\n",
       "      <td>0.670401</td>\n",
       "    </tr>\n",
       "  </tbody>\n",
       "</table>\n",
       "</div>"
      ],
      "text/plain": [
       "                   RMSE        R2\n",
       "Training Set   9.980666  0.766879\n",
       "Testing Set   11.636845  0.670401"
      ]
     },
     "metadata": {},
     "output_type": "display_data"
    }
   ],
   "source": [
    "MLP3 = MLPRegressor(random_state = 0, hidden_layer_sizes=(64,64,64,64), max_iter=300)\n",
    "trainingTestingA(XITCV1, Y, 0, XITCV1N, \"MLP3\", MLP3)"
   ]
  },
  {
   "cell_type": "code",
   "execution_count": null,
   "metadata": {},
   "outputs": [],
   "source": [
    "mlp = MLPRegressor()\n",
    "params = {\n",
    "    'max_iter' : [800, 1000, 1500, 2000],\n",
    "    'hidden_layer_sizes': [(50,50,50), (50,100,50), (100,),(128,128,128,128), (64,64,64,64)],\n",
    "    'activation': ['tanh', 'relu'],\n",
    "    'solver': ['sgd', 'adam', 'lbfgs'],\n",
    "    'alpha': [0.0001, 0.005],\n",
    "    'learning_rate': ['constant','adaptive'],\n",
    "}\n",
    "clf2 = GridSearchCV(mlp, params, n_jobs=-1, cv=3)\n",
    "clf2.fit(X_ITC_V1, Y)"
   ]
  },
  {
   "cell_type": "code",
   "execution_count": 49,
   "metadata": {},
   "outputs": [
    {
     "name": "stdout",
     "output_type": "stream",
     "text": [
      "Mejores parámetros:\n",
      " {'activation': 'relu', 'alpha': 0.005, 'hidden_layer_sizes': (100,), 'learning_rate': 'constant', 'max_iter': 800, 'solver': 'adam'}\n"
     ]
    }
   ],
   "source": [
    "print('Mejores parámetros:\\n', clf2.best_params_)"
   ]
  },
  {
   "cell_type": "code",
   "execution_count": 349,
   "metadata": {},
   "outputs": [
    {
     "name": "stdout",
     "output_type": "stream",
     "text": [
      "Model Performance for Institutions, Regulatory quality, Rule of law, Government effectiveness: Model MLP4\n"
     ]
    },
    {
     "data": {
      "text/html": [
       "<div>\n",
       "<style scoped>\n",
       "    .dataframe tbody tr th:only-of-type {\n",
       "        vertical-align: middle;\n",
       "    }\n",
       "\n",
       "    .dataframe tbody tr th {\n",
       "        vertical-align: top;\n",
       "    }\n",
       "\n",
       "    .dataframe thead th {\n",
       "        text-align: right;\n",
       "    }\n",
       "</style>\n",
       "<table border=\"1\" class=\"dataframe\">\n",
       "  <thead>\n",
       "    <tr style=\"text-align: right;\">\n",
       "      <th></th>\n",
       "      <th>RMSE</th>\n",
       "      <th>R2</th>\n",
       "    </tr>\n",
       "  </thead>\n",
       "  <tbody>\n",
       "    <tr>\n",
       "      <th>Training Set</th>\n",
       "      <td>10.873893</td>\n",
       "      <td>0.723285</td>\n",
       "    </tr>\n",
       "    <tr>\n",
       "      <th>Testing Set</th>\n",
       "      <td>11.629614</td>\n",
       "      <td>0.670810</td>\n",
       "    </tr>\n",
       "  </tbody>\n",
       "</table>\n",
       "</div>"
      ],
      "text/plain": [
       "                   RMSE        R2\n",
       "Training Set  10.873893  0.723285\n",
       "Testing Set   11.629614  0.670810"
      ]
     },
     "metadata": {},
     "output_type": "display_data"
    }
   ],
   "source": [
    "# Se obtuvieron como mejores parámetros: \n",
    "# {'activation': 'relu', 'alpha': 0.005, 'hidden_layer_sizes': (100,), 'learning_rate': 'constant', 'max_iter': 800, 'solver': 'adam'}\n",
    "MLP4BP = {'alpha': 0.005, 'max_iter': 800}\n",
    "MLP4 = MLPRegressor(**MLP4BP)\n",
    "trainingTestingA(XITCV1, Y, 0, XITCV1N, \"MLP4\", MLP4)"
   ]
  },
  {
   "cell_type": "markdown",
   "metadata": {},
   "source": [
    "### 7. ¿Se pueden obtener buenos resultados con la educación como variable *y*?  \n",
    "A partir de la matriz de correlación, podemos observar que no hay predictores tan fuertemente correlacionados como los hay con ICT, sin embargo entre los más altos se tiene a Human Capital and Research con .79, el subíndice de input de innovación con .67, uso de ICT con .65, acceso a ICT con .65, el índice de innovación global con .63 y knowledge workers con 0.62. Esta vez fuimos agregando aquellos con puntuación más alta a partir de las variables que no fueran índices.  \n",
    "Viendo como no se obtuvieron resultados mayores a 80 en testing para la pregunta anterior a pesar de tener correlaciones más fuertes que estas, era de esperarse que los predictores más correlacionados con educación no podrían sobrepasar un R2 de 80."
   ]
  },
  {
   "cell_type": "code",
   "execution_count": 184,
   "metadata": {},
   "outputs": [],
   "source": [
    "# Vemos que en general las variables del dataset están fuertemente relacionadas, por lo que probamos usando todas las variables\n",
    "# Cabe mencionar que podrían realizarse más pruebas con combinaciones entre estos 41 predictores y obtener resultados similares\n",
    "X_EDU_V1 = df[['Human capital and research']].copy()\n",
    "X_EDU_V2 = df[['ICT use']].copy()\n",
    "X_EDU_V3 = df[['ICT access']].copy()\n",
    "X_EDU_V4 = df[['Knowledge workers']].copy()\n",
    "\n",
    "X_EDU_VV1 = df[['Human capital and research','ICT use']].copy()\n",
    "X_EDU_VV2 = df[['Human capital and research','ICT access']].copy()\n",
    "X_EDU_VV3 = df[['Human capital and research','Knowledge workers']].copy()\n",
    "\n",
    "X_EDU_VVV1 = df[['Human capital and research','ICT use','ICT access']].copy()\n",
    "X_EDU_VVV3 = df[['Human capital and research','ICT use','Knowledge workers']].copy()\n",
    "X_EDU_VVV2 = df[['Human capital and research','ICT access','Knowledge workers']].copy()\n",
    "\n",
    "X_EDU_ALL = df[['Human capital and research','ICT access','Knowledge workers','ICT use']].copy()\n",
    "# Predeciremos el nivel educativo según estas variables\n",
    "Y2 = df['Education']\n",
    "XEdu = [X_EDU_V1,X_EDU_V2,X_EDU_V3,X_EDU_V4]\n",
    "XEdu2 = [X_EDU_VV1,X_EDU_VV2,X_EDU_VV3]\n",
    "XEdu3 = [X_EDU_VVV1,X_EDU_VVV2,X_EDU_VVV3]\n",
    "\n",
    "XEduN = ['Human capital and research','ICT use','ICT access','Knowledge workers']\n",
    "XEdu2N = ['HCR and ICT use','HCR and ICT access','HCR and Knowledge workers']\n",
    "XEdu3N = ['HCR and ICT use + access','HCR and ICT use + workers','HCR and ICT access + workers']"
   ]
  },
  {
   "cell_type": "markdown",
   "metadata": {},
   "source": [
    "#### Single Predictors"
   ]
  },
  {
   "cell_type": "markdown",
   "metadata": {},
   "source": [
    "##### Model #1 DecisionTree"
   ]
  },
  {
   "cell_type": "markdown",
   "metadata": {},
   "source": [
    "Human capital and research obtuvo los mejores resultados, haciendola una buena variable para describir la educación. El resto de los resultados no fueron muy buenos"
   ]
  },
  {
   "cell_type": "code",
   "execution_count": 70,
   "metadata": {},
   "outputs": [
    {
     "name": "stdout",
     "output_type": "stream",
     "text": [
      "Model Performance for Human capital and research: Model DTR5\n"
     ]
    },
    {
     "data": {
      "text/html": [
       "<div>\n",
       "<style scoped>\n",
       "    .dataframe tbody tr th:only-of-type {\n",
       "        vertical-align: middle;\n",
       "    }\n",
       "\n",
       "    .dataframe tbody tr th {\n",
       "        vertical-align: top;\n",
       "    }\n",
       "\n",
       "    .dataframe thead th {\n",
       "        text-align: right;\n",
       "    }\n",
       "</style>\n",
       "<table border=\"1\" class=\"dataframe\">\n",
       "  <thead>\n",
       "    <tr style=\"text-align: right;\">\n",
       "      <th></th>\n",
       "      <th>RMSE</th>\n",
       "      <th>R2</th>\n",
       "    </tr>\n",
       "  </thead>\n",
       "  <tbody>\n",
       "    <tr>\n",
       "      <th>Training Set</th>\n",
       "      <td>7.845753</td>\n",
       "      <td>0.717552</td>\n",
       "    </tr>\n",
       "    <tr>\n",
       "      <th>Testing Set</th>\n",
       "      <td>9.036202</td>\n",
       "      <td>0.626831</td>\n",
       "    </tr>\n",
       "  </tbody>\n",
       "</table>\n",
       "</div>"
      ],
      "text/plain": [
       "                  RMSE        R2\n",
       "Training Set  7.845753  0.717552\n",
       "Testing Set   9.036202  0.626831"
      ]
     },
     "metadata": {},
     "output_type": "display_data"
    },
    {
     "name": "stdout",
     "output_type": "stream",
     "text": [
      "Model Performance for ICT use: Model DTR5\n"
     ]
    },
    {
     "data": {
      "text/html": [
       "<div>\n",
       "<style scoped>\n",
       "    .dataframe tbody tr th:only-of-type {\n",
       "        vertical-align: middle;\n",
       "    }\n",
       "\n",
       "    .dataframe tbody tr th {\n",
       "        vertical-align: top;\n",
       "    }\n",
       "\n",
       "    .dataframe thead th {\n",
       "        text-align: right;\n",
       "    }\n",
       "</style>\n",
       "<table border=\"1\" class=\"dataframe\">\n",
       "  <thead>\n",
       "    <tr style=\"text-align: right;\">\n",
       "      <th></th>\n",
       "      <th>RMSE</th>\n",
       "      <th>R2</th>\n",
       "    </tr>\n",
       "  </thead>\n",
       "  <tbody>\n",
       "    <tr>\n",
       "      <th>Training Set</th>\n",
       "      <td>10.719738</td>\n",
       "      <td>0.472724</td>\n",
       "    </tr>\n",
       "    <tr>\n",
       "      <th>Testing Set</th>\n",
       "      <td>11.769289</td>\n",
       "      <td>0.366955</td>\n",
       "    </tr>\n",
       "  </tbody>\n",
       "</table>\n",
       "</div>"
      ],
      "text/plain": [
       "                   RMSE        R2\n",
       "Training Set  10.719738  0.472724\n",
       "Testing Set   11.769289  0.366955"
      ]
     },
     "metadata": {},
     "output_type": "display_data"
    },
    {
     "name": "stdout",
     "output_type": "stream",
     "text": [
      "Model Performance for ICT access: Model DTR5\n"
     ]
    },
    {
     "data": {
      "text/html": [
       "<div>\n",
       "<style scoped>\n",
       "    .dataframe tbody tr th:only-of-type {\n",
       "        vertical-align: middle;\n",
       "    }\n",
       "\n",
       "    .dataframe tbody tr th {\n",
       "        vertical-align: top;\n",
       "    }\n",
       "\n",
       "    .dataframe thead th {\n",
       "        text-align: right;\n",
       "    }\n",
       "</style>\n",
       "<table border=\"1\" class=\"dataframe\">\n",
       "  <thead>\n",
       "    <tr style=\"text-align: right;\">\n",
       "      <th></th>\n",
       "      <th>RMSE</th>\n",
       "      <th>R2</th>\n",
       "    </tr>\n",
       "  </thead>\n",
       "  <tbody>\n",
       "    <tr>\n",
       "      <th>Training Set</th>\n",
       "      <td>10.635889</td>\n",
       "      <td>0.480941</td>\n",
       "    </tr>\n",
       "    <tr>\n",
       "      <th>Testing Set</th>\n",
       "      <td>11.822687</td>\n",
       "      <td>0.361198</td>\n",
       "    </tr>\n",
       "  </tbody>\n",
       "</table>\n",
       "</div>"
      ],
      "text/plain": [
       "                   RMSE        R2\n",
       "Training Set  10.635889  0.480941\n",
       "Testing Set   11.822687  0.361198"
      ]
     },
     "metadata": {},
     "output_type": "display_data"
    },
    {
     "name": "stdout",
     "output_type": "stream",
     "text": [
      "Model Performance for Knowledge workers: Model DTR5\n"
     ]
    },
    {
     "data": {
      "text/html": [
       "<div>\n",
       "<style scoped>\n",
       "    .dataframe tbody tr th:only-of-type {\n",
       "        vertical-align: middle;\n",
       "    }\n",
       "\n",
       "    .dataframe tbody tr th {\n",
       "        vertical-align: top;\n",
       "    }\n",
       "\n",
       "    .dataframe thead th {\n",
       "        text-align: right;\n",
       "    }\n",
       "</style>\n",
       "<table border=\"1\" class=\"dataframe\">\n",
       "  <thead>\n",
       "    <tr style=\"text-align: right;\">\n",
       "      <th></th>\n",
       "      <th>RMSE</th>\n",
       "      <th>R2</th>\n",
       "    </tr>\n",
       "  </thead>\n",
       "  <tbody>\n",
       "    <tr>\n",
       "      <th>Training Set</th>\n",
       "      <td>10.971615</td>\n",
       "      <td>0.447655</td>\n",
       "    </tr>\n",
       "    <tr>\n",
       "      <th>Testing Set</th>\n",
       "      <td>11.761092</td>\n",
       "      <td>0.367837</td>\n",
       "    </tr>\n",
       "  </tbody>\n",
       "</table>\n",
       "</div>"
      ],
      "text/plain": [
       "                   RMSE        R2\n",
       "Training Set  10.971615  0.447655\n",
       "Testing Set   11.761092  0.367837"
      ]
     },
     "metadata": {},
     "output_type": "display_data"
    }
   ],
   "source": [
    "DTR5 = DecisionTreeRegressor(random_state=0, max_depth = 3)\n",
    "trainingTestingA(XEdu, Y2, 0, XEduN, \"DTR5\", DTR5)"
   ]
  },
  {
   "cell_type": "markdown",
   "metadata": {},
   "source": [
    "##### Model #2 Random Forest"
   ]
  },
  {
   "cell_type": "markdown",
   "metadata": {},
   "source": [
    "Se ven los mismos resultados que en Decision Tree, viendo el mismo orden en los resultados R2 para training y testing, aunque Random Forest obtuvo un mejor resultado en testing esta vez."
   ]
  },
  {
   "cell_type": "code",
   "execution_count": 94,
   "metadata": {},
   "outputs": [
    {
     "name": "stdout",
     "output_type": "stream",
     "text": [
      "Model Performance for Human capital and research: Model RFR5\n"
     ]
    },
    {
     "data": {
      "text/html": [
       "<div>\n",
       "<style scoped>\n",
       "    .dataframe tbody tr th:only-of-type {\n",
       "        vertical-align: middle;\n",
       "    }\n",
       "\n",
       "    .dataframe tbody tr th {\n",
       "        vertical-align: top;\n",
       "    }\n",
       "\n",
       "    .dataframe thead th {\n",
       "        text-align: right;\n",
       "    }\n",
       "</style>\n",
       "<table border=\"1\" class=\"dataframe\">\n",
       "  <thead>\n",
       "    <tr style=\"text-align: right;\">\n",
       "      <th></th>\n",
       "      <th>RMSE</th>\n",
       "      <th>R2</th>\n",
       "    </tr>\n",
       "  </thead>\n",
       "  <tbody>\n",
       "    <tr>\n",
       "      <th>Training Set</th>\n",
       "      <td>7.721497</td>\n",
       "      <td>0.726428</td>\n",
       "    </tr>\n",
       "    <tr>\n",
       "      <th>Testing Set</th>\n",
       "      <td>9.079608</td>\n",
       "      <td>0.623237</td>\n",
       "    </tr>\n",
       "  </tbody>\n",
       "</table>\n",
       "</div>"
      ],
      "text/plain": [
       "                  RMSE        R2\n",
       "Training Set  7.721497  0.726428\n",
       "Testing Set   9.079608  0.623237"
      ]
     },
     "metadata": {},
     "output_type": "display_data"
    },
    {
     "name": "stdout",
     "output_type": "stream",
     "text": [
      "Model Performance for ICT use: Model RFR5\n"
     ]
    },
    {
     "data": {
      "text/html": [
       "<div>\n",
       "<style scoped>\n",
       "    .dataframe tbody tr th:only-of-type {\n",
       "        vertical-align: middle;\n",
       "    }\n",
       "\n",
       "    .dataframe tbody tr th {\n",
       "        vertical-align: top;\n",
       "    }\n",
       "\n",
       "    .dataframe thead th {\n",
       "        text-align: right;\n",
       "    }\n",
       "</style>\n",
       "<table border=\"1\" class=\"dataframe\">\n",
       "  <thead>\n",
       "    <tr style=\"text-align: right;\">\n",
       "      <th></th>\n",
       "      <th>RMSE</th>\n",
       "      <th>R2</th>\n",
       "    </tr>\n",
       "  </thead>\n",
       "  <tbody>\n",
       "    <tr>\n",
       "      <th>Training Set</th>\n",
       "      <td>10.307252</td>\n",
       "      <td>0.512522</td>\n",
       "    </tr>\n",
       "    <tr>\n",
       "      <th>Testing Set</th>\n",
       "      <td>11.807405</td>\n",
       "      <td>0.362848</td>\n",
       "    </tr>\n",
       "  </tbody>\n",
       "</table>\n",
       "</div>"
      ],
      "text/plain": [
       "                   RMSE        R2\n",
       "Training Set  10.307252  0.512522\n",
       "Testing Set   11.807405  0.362848"
      ]
     },
     "metadata": {},
     "output_type": "display_data"
    },
    {
     "name": "stdout",
     "output_type": "stream",
     "text": [
      "Model Performance for ICT access: Model RFR5\n"
     ]
    },
    {
     "data": {
      "text/html": [
       "<div>\n",
       "<style scoped>\n",
       "    .dataframe tbody tr th:only-of-type {\n",
       "        vertical-align: middle;\n",
       "    }\n",
       "\n",
       "    .dataframe tbody tr th {\n",
       "        vertical-align: top;\n",
       "    }\n",
       "\n",
       "    .dataframe thead th {\n",
       "        text-align: right;\n",
       "    }\n",
       "</style>\n",
       "<table border=\"1\" class=\"dataframe\">\n",
       "  <thead>\n",
       "    <tr style=\"text-align: right;\">\n",
       "      <th></th>\n",
       "      <th>RMSE</th>\n",
       "      <th>R2</th>\n",
       "    </tr>\n",
       "  </thead>\n",
       "  <tbody>\n",
       "    <tr>\n",
       "      <th>Training Set</th>\n",
       "      <td>10.200950</td>\n",
       "      <td>0.522525</td>\n",
       "    </tr>\n",
       "    <tr>\n",
       "      <th>Testing Set</th>\n",
       "      <td>11.478176</td>\n",
       "      <td>0.397885</td>\n",
       "    </tr>\n",
       "  </tbody>\n",
       "</table>\n",
       "</div>"
      ],
      "text/plain": [
       "                   RMSE        R2\n",
       "Training Set  10.200950  0.522525\n",
       "Testing Set   11.478176  0.397885"
      ]
     },
     "metadata": {},
     "output_type": "display_data"
    },
    {
     "name": "stdout",
     "output_type": "stream",
     "text": [
      "Model Performance for Knowledge workers: Model RFR5\n"
     ]
    },
    {
     "data": {
      "text/html": [
       "<div>\n",
       "<style scoped>\n",
       "    .dataframe tbody tr th:only-of-type {\n",
       "        vertical-align: middle;\n",
       "    }\n",
       "\n",
       "    .dataframe tbody tr th {\n",
       "        vertical-align: top;\n",
       "    }\n",
       "\n",
       "    .dataframe thead th {\n",
       "        text-align: right;\n",
       "    }\n",
       "</style>\n",
       "<table border=\"1\" class=\"dataframe\">\n",
       "  <thead>\n",
       "    <tr style=\"text-align: right;\">\n",
       "      <th></th>\n",
       "      <th>RMSE</th>\n",
       "      <th>R2</th>\n",
       "    </tr>\n",
       "  </thead>\n",
       "  <tbody>\n",
       "    <tr>\n",
       "      <th>Training Set</th>\n",
       "      <td>10.610197</td>\n",
       "      <td>0.483445</td>\n",
       "    </tr>\n",
       "    <tr>\n",
       "      <th>Testing Set</th>\n",
       "      <td>11.584703</td>\n",
       "      <td>0.386657</td>\n",
       "    </tr>\n",
       "  </tbody>\n",
       "</table>\n",
       "</div>"
      ],
      "text/plain": [
       "                   RMSE        R2\n",
       "Training Set  10.610197  0.483445\n",
       "Testing Set   11.584703  0.386657"
      ]
     },
     "metadata": {},
     "output_type": "display_data"
    }
   ],
   "source": [
    "RFR5 = RandomForestRegressor(random_state = 0, n_estimators=100, min_samples_split=60)\n",
    "trainingTestingA(XEdu, Y2, 0, XEduN, \"RFR5\", RFR5)"
   ]
  },
  {
   "cell_type": "markdown",
   "metadata": {},
   "source": [
    "##### Model #3 Support Vector Machine (SVM)"
   ]
  },
  {
   "cell_type": "markdown",
   "metadata": {},
   "source": [
    "Los resultados siguieron consistentes, aunque en general SVM no dio muy buenos resultados a comparación de los dos previos."
   ]
  },
  {
   "cell_type": "code",
   "execution_count": 128,
   "metadata": {},
   "outputs": [
    {
     "name": "stdout",
     "output_type": "stream",
     "text": [
      "Model Performance for Human capital and research: Model SVRM5\n"
     ]
    },
    {
     "data": {
      "text/html": [
       "<div>\n",
       "<style scoped>\n",
       "    .dataframe tbody tr th:only-of-type {\n",
       "        vertical-align: middle;\n",
       "    }\n",
       "\n",
       "    .dataframe tbody tr th {\n",
       "        vertical-align: top;\n",
       "    }\n",
       "\n",
       "    .dataframe thead th {\n",
       "        text-align: right;\n",
       "    }\n",
       "</style>\n",
       "<table border=\"1\" class=\"dataframe\">\n",
       "  <thead>\n",
       "    <tr style=\"text-align: right;\">\n",
       "      <th></th>\n",
       "      <th>RMSE</th>\n",
       "      <th>R2</th>\n",
       "    </tr>\n",
       "  </thead>\n",
       "  <tbody>\n",
       "    <tr>\n",
       "      <th>Training Set</th>\n",
       "      <td>8.791577</td>\n",
       "      <td>0.645348</td>\n",
       "    </tr>\n",
       "    <tr>\n",
       "      <th>Testing Set</th>\n",
       "      <td>9.967351</td>\n",
       "      <td>0.545961</td>\n",
       "    </tr>\n",
       "  </tbody>\n",
       "</table>\n",
       "</div>"
      ],
      "text/plain": [
       "                  RMSE        R2\n",
       "Training Set  8.791577  0.645348\n",
       "Testing Set   9.967351  0.545961"
      ]
     },
     "metadata": {},
     "output_type": "display_data"
    },
    {
     "name": "stdout",
     "output_type": "stream",
     "text": [
      "Model Performance for ICT use: Model SVRM5\n"
     ]
    },
    {
     "data": {
      "text/html": [
       "<div>\n",
       "<style scoped>\n",
       "    .dataframe tbody tr th:only-of-type {\n",
       "        vertical-align: middle;\n",
       "    }\n",
       "\n",
       "    .dataframe tbody tr th {\n",
       "        vertical-align: top;\n",
       "    }\n",
       "\n",
       "    .dataframe thead th {\n",
       "        text-align: right;\n",
       "    }\n",
       "</style>\n",
       "<table border=\"1\" class=\"dataframe\">\n",
       "  <thead>\n",
       "    <tr style=\"text-align: right;\">\n",
       "      <th></th>\n",
       "      <th>RMSE</th>\n",
       "      <th>R2</th>\n",
       "    </tr>\n",
       "  </thead>\n",
       "  <tbody>\n",
       "    <tr>\n",
       "      <th>Training Set</th>\n",
       "      <td>11.110419</td>\n",
       "      <td>0.433591</td>\n",
       "    </tr>\n",
       "    <tr>\n",
       "      <th>Testing Set</th>\n",
       "      <td>11.758708</td>\n",
       "      <td>0.368093</td>\n",
       "    </tr>\n",
       "  </tbody>\n",
       "</table>\n",
       "</div>"
      ],
      "text/plain": [
       "                   RMSE        R2\n",
       "Training Set  11.110419  0.433591\n",
       "Testing Set   11.758708  0.368093"
      ]
     },
     "metadata": {},
     "output_type": "display_data"
    },
    {
     "name": "stdout",
     "output_type": "stream",
     "text": [
      "Model Performance for ICT access: Model SVRM5\n"
     ]
    },
    {
     "data": {
      "text/html": [
       "<div>\n",
       "<style scoped>\n",
       "    .dataframe tbody tr th:only-of-type {\n",
       "        vertical-align: middle;\n",
       "    }\n",
       "\n",
       "    .dataframe tbody tr th {\n",
       "        vertical-align: top;\n",
       "    }\n",
       "\n",
       "    .dataframe thead th {\n",
       "        text-align: right;\n",
       "    }\n",
       "</style>\n",
       "<table border=\"1\" class=\"dataframe\">\n",
       "  <thead>\n",
       "    <tr style=\"text-align: right;\">\n",
       "      <th></th>\n",
       "      <th>RMSE</th>\n",
       "      <th>R2</th>\n",
       "    </tr>\n",
       "  </thead>\n",
       "  <tbody>\n",
       "    <tr>\n",
       "      <th>Training Set</th>\n",
       "      <td>11.099200</td>\n",
       "      <td>0.434734</td>\n",
       "    </tr>\n",
       "    <tr>\n",
       "      <th>Testing Set</th>\n",
       "      <td>11.459045</td>\n",
       "      <td>0.399890</td>\n",
       "    </tr>\n",
       "  </tbody>\n",
       "</table>\n",
       "</div>"
      ],
      "text/plain": [
       "                   RMSE        R2\n",
       "Training Set  11.099200  0.434734\n",
       "Testing Set   11.459045  0.399890"
      ]
     },
     "metadata": {},
     "output_type": "display_data"
    },
    {
     "name": "stdout",
     "output_type": "stream",
     "text": [
      "Model Performance for Knowledge workers: Model SVRM5\n"
     ]
    },
    {
     "data": {
      "text/html": [
       "<div>\n",
       "<style scoped>\n",
       "    .dataframe tbody tr th:only-of-type {\n",
       "        vertical-align: middle;\n",
       "    }\n",
       "\n",
       "    .dataframe tbody tr th {\n",
       "        vertical-align: top;\n",
       "    }\n",
       "\n",
       "    .dataframe thead th {\n",
       "        text-align: right;\n",
       "    }\n",
       "</style>\n",
       "<table border=\"1\" class=\"dataframe\">\n",
       "  <thead>\n",
       "    <tr style=\"text-align: right;\">\n",
       "      <th></th>\n",
       "      <th>RMSE</th>\n",
       "      <th>R2</th>\n",
       "    </tr>\n",
       "  </thead>\n",
       "  <tbody>\n",
       "    <tr>\n",
       "      <th>Training Set</th>\n",
       "      <td>11.434631</td>\n",
       "      <td>0.400052</td>\n",
       "    </tr>\n",
       "    <tr>\n",
       "      <th>Testing Set</th>\n",
       "      <td>11.989818</td>\n",
       "      <td>0.343009</td>\n",
       "    </tr>\n",
       "  </tbody>\n",
       "</table>\n",
       "</div>"
      ],
      "text/plain": [
       "                   RMSE        R2\n",
       "Training Set  11.434631  0.400052\n",
       "Testing Set   11.989818  0.343009"
      ]
     },
     "metadata": {},
     "output_type": "display_data"
    }
   ],
   "source": [
    "SVRM5 = SVR(C = 44.0 / 300, kernel = 'linear')\n",
    "trainingTestingA(XEdu, Y2, 0, XEduN, \"SVRM5\", SVRM5)"
   ]
  },
  {
   "cell_type": "markdown",
   "metadata": {},
   "source": [
    "##### Model #4 Neural Networks"
   ]
  },
  {
   "cell_type": "markdown",
   "metadata": {},
   "source": [
    "Aquí se obtuvieron resultados comparables con los de los primeros dos modelos (DT y RF)."
   ]
  },
  {
   "cell_type": "code",
   "execution_count": 142,
   "metadata": {},
   "outputs": [
    {
     "name": "stdout",
     "output_type": "stream",
     "text": [
      "Model Performance for Human capital and research: Model MLP5\n"
     ]
    },
    {
     "data": {
      "text/html": [
       "<div>\n",
       "<style scoped>\n",
       "    .dataframe tbody tr th:only-of-type {\n",
       "        vertical-align: middle;\n",
       "    }\n",
       "\n",
       "    .dataframe tbody tr th {\n",
       "        vertical-align: top;\n",
       "    }\n",
       "\n",
       "    .dataframe thead th {\n",
       "        text-align: right;\n",
       "    }\n",
       "</style>\n",
       "<table border=\"1\" class=\"dataframe\">\n",
       "  <thead>\n",
       "    <tr style=\"text-align: right;\">\n",
       "      <th></th>\n",
       "      <th>RMSE</th>\n",
       "      <th>R2</th>\n",
       "    </tr>\n",
       "  </thead>\n",
       "  <tbody>\n",
       "    <tr>\n",
       "      <th>Training Set</th>\n",
       "      <td>8.247947</td>\n",
       "      <td>0.687852</td>\n",
       "    </tr>\n",
       "    <tr>\n",
       "      <th>Testing Set</th>\n",
       "      <td>9.056327</td>\n",
       "      <td>0.625167</td>\n",
       "    </tr>\n",
       "  </tbody>\n",
       "</table>\n",
       "</div>"
      ],
      "text/plain": [
       "                  RMSE        R2\n",
       "Training Set  8.247947  0.687852\n",
       "Testing Set   9.056327  0.625167"
      ]
     },
     "metadata": {},
     "output_type": "display_data"
    },
    {
     "name": "stdout",
     "output_type": "stream",
     "text": [
      "Model Performance for ICT use: Model MLP5\n"
     ]
    },
    {
     "data": {
      "text/html": [
       "<div>\n",
       "<style scoped>\n",
       "    .dataframe tbody tr th:only-of-type {\n",
       "        vertical-align: middle;\n",
       "    }\n",
       "\n",
       "    .dataframe tbody tr th {\n",
       "        vertical-align: top;\n",
       "    }\n",
       "\n",
       "    .dataframe thead th {\n",
       "        text-align: right;\n",
       "    }\n",
       "</style>\n",
       "<table border=\"1\" class=\"dataframe\">\n",
       "  <thead>\n",
       "    <tr style=\"text-align: right;\">\n",
       "      <th></th>\n",
       "      <th>RMSE</th>\n",
       "      <th>R2</th>\n",
       "    </tr>\n",
       "  </thead>\n",
       "  <tbody>\n",
       "    <tr>\n",
       "      <th>Training Set</th>\n",
       "      <td>11.044855</td>\n",
       "      <td>0.440256</td>\n",
       "    </tr>\n",
       "    <tr>\n",
       "      <th>Testing Set</th>\n",
       "      <td>11.855505</td>\n",
       "      <td>0.357647</td>\n",
       "    </tr>\n",
       "  </tbody>\n",
       "</table>\n",
       "</div>"
      ],
      "text/plain": [
       "                   RMSE        R2\n",
       "Training Set  11.044855  0.440256\n",
       "Testing Set   11.855505  0.357647"
      ]
     },
     "metadata": {},
     "output_type": "display_data"
    },
    {
     "name": "stdout",
     "output_type": "stream",
     "text": [
      "Model Performance for ICT access: Model MLP5\n"
     ]
    },
    {
     "data": {
      "text/html": [
       "<div>\n",
       "<style scoped>\n",
       "    .dataframe tbody tr th:only-of-type {\n",
       "        vertical-align: middle;\n",
       "    }\n",
       "\n",
       "    .dataframe tbody tr th {\n",
       "        vertical-align: top;\n",
       "    }\n",
       "\n",
       "    .dataframe thead th {\n",
       "        text-align: right;\n",
       "    }\n",
       "</style>\n",
       "<table border=\"1\" class=\"dataframe\">\n",
       "  <thead>\n",
       "    <tr style=\"text-align: right;\">\n",
       "      <th></th>\n",
       "      <th>RMSE</th>\n",
       "      <th>R2</th>\n",
       "    </tr>\n",
       "  </thead>\n",
       "  <tbody>\n",
       "    <tr>\n",
       "      <th>Training Set</th>\n",
       "      <td>11.104714</td>\n",
       "      <td>0.434172</td>\n",
       "    </tr>\n",
       "    <tr>\n",
       "      <th>Testing Set</th>\n",
       "      <td>11.477530</td>\n",
       "      <td>0.397953</td>\n",
       "    </tr>\n",
       "  </tbody>\n",
       "</table>\n",
       "</div>"
      ],
      "text/plain": [
       "                   RMSE        R2\n",
       "Training Set  11.104714  0.434172\n",
       "Testing Set   11.477530  0.397953"
      ]
     },
     "metadata": {},
     "output_type": "display_data"
    },
    {
     "name": "stdout",
     "output_type": "stream",
     "text": [
      "Model Performance for Knowledge workers: Model MLP5\n"
     ]
    },
    {
     "data": {
      "text/html": [
       "<div>\n",
       "<style scoped>\n",
       "    .dataframe tbody tr th:only-of-type {\n",
       "        vertical-align: middle;\n",
       "    }\n",
       "\n",
       "    .dataframe tbody tr th {\n",
       "        vertical-align: top;\n",
       "    }\n",
       "\n",
       "    .dataframe thead th {\n",
       "        text-align: right;\n",
       "    }\n",
       "</style>\n",
       "<table border=\"1\" class=\"dataframe\">\n",
       "  <thead>\n",
       "    <tr style=\"text-align: right;\">\n",
       "      <th></th>\n",
       "      <th>RMSE</th>\n",
       "      <th>R2</th>\n",
       "    </tr>\n",
       "  </thead>\n",
       "  <tbody>\n",
       "    <tr>\n",
       "      <th>Training Set</th>\n",
       "      <td>11.394342</td>\n",
       "      <td>0.404272</td>\n",
       "    </tr>\n",
       "    <tr>\n",
       "      <th>Testing Set</th>\n",
       "      <td>11.930081</td>\n",
       "      <td>0.349540</td>\n",
       "    </tr>\n",
       "  </tbody>\n",
       "</table>\n",
       "</div>"
      ],
      "text/plain": [
       "                   RMSE        R2\n",
       "Training Set  11.394342  0.404272\n",
       "Testing Set   11.930081  0.349540"
      ]
     },
     "metadata": {},
     "output_type": "display_data"
    }
   ],
   "source": [
    "MLP5 = MLPRegressor(random_state = 0, hidden_layer_sizes=(64,64), max_iter=800)\n",
    "trainingTestingA(XEdu, Y2, 0, XEduN, \"MLP5\", MLP5)"
   ]
  },
  {
   "cell_type": "markdown",
   "metadata": {},
   "source": [
    "#### Multiple (2) Predictors"
   ]
  },
  {
   "cell_type": "markdown",
   "metadata": {},
   "source": [
    "MLP y SVM no obtuvieron tan buenos resultados como DT y RF, en donde RF dio los mejores tanto en training como en testing. Con respecto a las variables, acceso, uso y trabajadores en ese orden obtuvieron mayor R2, aunque las diferencias entre las dos variables de ICT fueron mínimas, y en MLP y SVM los resultados fueron muy similares para las 3 combinaciones."
   ]
  },
  {
   "cell_type": "markdown",
   "metadata": {},
   "source": [
    "##### Model #1 DecisionTree"
   ]
  },
  {
   "cell_type": "code",
   "execution_count": 143,
   "metadata": {},
   "outputs": [
    {
     "name": "stdout",
     "output_type": "stream",
     "text": [
      "Model Performance for HCR and ICT use: Model DTR5\n"
     ]
    },
    {
     "data": {
      "text/html": [
       "<div>\n",
       "<style scoped>\n",
       "    .dataframe tbody tr th:only-of-type {\n",
       "        vertical-align: middle;\n",
       "    }\n",
       "\n",
       "    .dataframe tbody tr th {\n",
       "        vertical-align: top;\n",
       "    }\n",
       "\n",
       "    .dataframe thead th {\n",
       "        text-align: right;\n",
       "    }\n",
       "</style>\n",
       "<table border=\"1\" class=\"dataframe\">\n",
       "  <thead>\n",
       "    <tr style=\"text-align: right;\">\n",
       "      <th></th>\n",
       "      <th>RMSE</th>\n",
       "      <th>R2</th>\n",
       "    </tr>\n",
       "  </thead>\n",
       "  <tbody>\n",
       "    <tr>\n",
       "      <th>Training Set</th>\n",
       "      <td>7.703523</td>\n",
       "      <td>0.727700</td>\n",
       "    </tr>\n",
       "    <tr>\n",
       "      <th>Testing Set</th>\n",
       "      <td>9.411742</td>\n",
       "      <td>0.595169</td>\n",
       "    </tr>\n",
       "  </tbody>\n",
       "</table>\n",
       "</div>"
      ],
      "text/plain": [
       "                  RMSE        R2\n",
       "Training Set  7.703523  0.727700\n",
       "Testing Set   9.411742  0.595169"
      ]
     },
     "metadata": {},
     "output_type": "display_data"
    },
    {
     "name": "stdout",
     "output_type": "stream",
     "text": [
      "Model Performance for HCR and ICT access: Model DTR5\n"
     ]
    },
    {
     "data": {
      "text/html": [
       "<div>\n",
       "<style scoped>\n",
       "    .dataframe tbody tr th:only-of-type {\n",
       "        vertical-align: middle;\n",
       "    }\n",
       "\n",
       "    .dataframe tbody tr th {\n",
       "        vertical-align: top;\n",
       "    }\n",
       "\n",
       "    .dataframe thead th {\n",
       "        text-align: right;\n",
       "    }\n",
       "</style>\n",
       "<table border=\"1\" class=\"dataframe\">\n",
       "  <thead>\n",
       "    <tr style=\"text-align: right;\">\n",
       "      <th></th>\n",
       "      <th>RMSE</th>\n",
       "      <th>R2</th>\n",
       "    </tr>\n",
       "  </thead>\n",
       "  <tbody>\n",
       "    <tr>\n",
       "      <th>Training Set</th>\n",
       "      <td>7.606601</td>\n",
       "      <td>0.734509</td>\n",
       "    </tr>\n",
       "    <tr>\n",
       "      <th>Testing Set</th>\n",
       "      <td>9.139447</td>\n",
       "      <td>0.618255</td>\n",
       "    </tr>\n",
       "  </tbody>\n",
       "</table>\n",
       "</div>"
      ],
      "text/plain": [
       "                  RMSE        R2\n",
       "Training Set  7.606601  0.734509\n",
       "Testing Set   9.139447  0.618255"
      ]
     },
     "metadata": {},
     "output_type": "display_data"
    },
    {
     "name": "stdout",
     "output_type": "stream",
     "text": [
      "Model Performance for HCR and Knowledge workers: Model DTR5\n"
     ]
    },
    {
     "data": {
      "text/html": [
       "<div>\n",
       "<style scoped>\n",
       "    .dataframe tbody tr th:only-of-type {\n",
       "        vertical-align: middle;\n",
       "    }\n",
       "\n",
       "    .dataframe tbody tr th {\n",
       "        vertical-align: top;\n",
       "    }\n",
       "\n",
       "    .dataframe thead th {\n",
       "        text-align: right;\n",
       "    }\n",
       "</style>\n",
       "<table border=\"1\" class=\"dataframe\">\n",
       "  <thead>\n",
       "    <tr style=\"text-align: right;\">\n",
       "      <th></th>\n",
       "      <th>RMSE</th>\n",
       "      <th>R2</th>\n",
       "    </tr>\n",
       "  </thead>\n",
       "  <tbody>\n",
       "    <tr>\n",
       "      <th>Training Set</th>\n",
       "      <td>7.845753</td>\n",
       "      <td>0.717552</td>\n",
       "    </tr>\n",
       "    <tr>\n",
       "      <th>Testing Set</th>\n",
       "      <td>9.036202</td>\n",
       "      <td>0.626831</td>\n",
       "    </tr>\n",
       "  </tbody>\n",
       "</table>\n",
       "</div>"
      ],
      "text/plain": [
       "                  RMSE        R2\n",
       "Training Set  7.845753  0.717552\n",
       "Testing Set   9.036202  0.626831"
      ]
     },
     "metadata": {},
     "output_type": "display_data"
    }
   ],
   "source": [
    "trainingTestingA(XEdu2, Y2, 0, XEdu2N, \"DTR5\", DTR5)"
   ]
  },
  {
   "cell_type": "markdown",
   "metadata": {},
   "source": [
    "##### Model #2 Random Forest"
   ]
  },
  {
   "cell_type": "code",
   "execution_count": 144,
   "metadata": {},
   "outputs": [
    {
     "name": "stdout",
     "output_type": "stream",
     "text": [
      "Model Performance for HCR and ICT use: Model RFR5\n"
     ]
    },
    {
     "data": {
      "text/html": [
       "<div>\n",
       "<style scoped>\n",
       "    .dataframe tbody tr th:only-of-type {\n",
       "        vertical-align: middle;\n",
       "    }\n",
       "\n",
       "    .dataframe tbody tr th {\n",
       "        vertical-align: top;\n",
       "    }\n",
       "\n",
       "    .dataframe thead th {\n",
       "        text-align: right;\n",
       "    }\n",
       "</style>\n",
       "<table border=\"1\" class=\"dataframe\">\n",
       "  <thead>\n",
       "    <tr style=\"text-align: right;\">\n",
       "      <th></th>\n",
       "      <th>RMSE</th>\n",
       "      <th>R2</th>\n",
       "    </tr>\n",
       "  </thead>\n",
       "  <tbody>\n",
       "    <tr>\n",
       "      <th>Training Set</th>\n",
       "      <td>7.202115</td>\n",
       "      <td>0.761993</td>\n",
       "    </tr>\n",
       "    <tr>\n",
       "      <th>Testing Set</th>\n",
       "      <td>8.919781</td>\n",
       "      <td>0.636385</td>\n",
       "    </tr>\n",
       "  </tbody>\n",
       "</table>\n",
       "</div>"
      ],
      "text/plain": [
       "                  RMSE        R2\n",
       "Training Set  7.202115  0.761993\n",
       "Testing Set   8.919781  0.636385"
      ]
     },
     "metadata": {},
     "output_type": "display_data"
    },
    {
     "name": "stdout",
     "output_type": "stream",
     "text": [
      "Model Performance for HCR and ICT access: Model RFR5\n"
     ]
    },
    {
     "data": {
      "text/html": [
       "<div>\n",
       "<style scoped>\n",
       "    .dataframe tbody tr th:only-of-type {\n",
       "        vertical-align: middle;\n",
       "    }\n",
       "\n",
       "    .dataframe tbody tr th {\n",
       "        vertical-align: top;\n",
       "    }\n",
       "\n",
       "    .dataframe thead th {\n",
       "        text-align: right;\n",
       "    }\n",
       "</style>\n",
       "<table border=\"1\" class=\"dataframe\">\n",
       "  <thead>\n",
       "    <tr style=\"text-align: right;\">\n",
       "      <th></th>\n",
       "      <th>RMSE</th>\n",
       "      <th>R2</th>\n",
       "    </tr>\n",
       "  </thead>\n",
       "  <tbody>\n",
       "    <tr>\n",
       "      <th>Training Set</th>\n",
       "      <td>6.945746</td>\n",
       "      <td>0.778636</td>\n",
       "    </tr>\n",
       "    <tr>\n",
       "      <th>Testing Set</th>\n",
       "      <td>8.637527</td>\n",
       "      <td>0.659033</td>\n",
       "    </tr>\n",
       "  </tbody>\n",
       "</table>\n",
       "</div>"
      ],
      "text/plain": [
       "                  RMSE        R2\n",
       "Training Set  6.945746  0.778636\n",
       "Testing Set   8.637527  0.659033"
      ]
     },
     "metadata": {},
     "output_type": "display_data"
    },
    {
     "name": "stdout",
     "output_type": "stream",
     "text": [
      "Model Performance for HCR and Knowledge workers: Model RFR5\n"
     ]
    },
    {
     "data": {
      "text/html": [
       "<div>\n",
       "<style scoped>\n",
       "    .dataframe tbody tr th:only-of-type {\n",
       "        vertical-align: middle;\n",
       "    }\n",
       "\n",
       "    .dataframe tbody tr th {\n",
       "        vertical-align: top;\n",
       "    }\n",
       "\n",
       "    .dataframe thead th {\n",
       "        text-align: right;\n",
       "    }\n",
       "</style>\n",
       "<table border=\"1\" class=\"dataframe\">\n",
       "  <thead>\n",
       "    <tr style=\"text-align: right;\">\n",
       "      <th></th>\n",
       "      <th>RMSE</th>\n",
       "      <th>R2</th>\n",
       "    </tr>\n",
       "  </thead>\n",
       "  <tbody>\n",
       "    <tr>\n",
       "      <th>Training Set</th>\n",
       "      <td>7.515785</td>\n",
       "      <td>0.740810</td>\n",
       "    </tr>\n",
       "    <tr>\n",
       "      <th>Testing Set</th>\n",
       "      <td>8.928074</td>\n",
       "      <td>0.635708</td>\n",
       "    </tr>\n",
       "  </tbody>\n",
       "</table>\n",
       "</div>"
      ],
      "text/plain": [
       "                  RMSE        R2\n",
       "Training Set  7.515785  0.740810\n",
       "Testing Set   8.928074  0.635708"
      ]
     },
     "metadata": {},
     "output_type": "display_data"
    }
   ],
   "source": [
    "trainingTestingA(XEdu2, Y2, 0, XEdu2N, \"RFR5\", RFR5)"
   ]
  },
  {
   "cell_type": "markdown",
   "metadata": {},
   "source": [
    "##### Model #3 Support Vector Machine (SVM)"
   ]
  },
  {
   "cell_type": "code",
   "execution_count": 145,
   "metadata": {},
   "outputs": [
    {
     "name": "stdout",
     "output_type": "stream",
     "text": [
      "Model Performance for HCR and ICT use: Model SVRM5\n"
     ]
    },
    {
     "data": {
      "text/html": [
       "<div>\n",
       "<style scoped>\n",
       "    .dataframe tbody tr th:only-of-type {\n",
       "        vertical-align: middle;\n",
       "    }\n",
       "\n",
       "    .dataframe tbody tr th {\n",
       "        vertical-align: top;\n",
       "    }\n",
       "\n",
       "    .dataframe thead th {\n",
       "        text-align: right;\n",
       "    }\n",
       "</style>\n",
       "<table border=\"1\" class=\"dataframe\">\n",
       "  <thead>\n",
       "    <tr style=\"text-align: right;\">\n",
       "      <th></th>\n",
       "      <th>RMSE</th>\n",
       "      <th>R2</th>\n",
       "    </tr>\n",
       "  </thead>\n",
       "  <tbody>\n",
       "    <tr>\n",
       "      <th>Training Set</th>\n",
       "      <td>8.799458</td>\n",
       "      <td>0.644711</td>\n",
       "    </tr>\n",
       "    <tr>\n",
       "      <th>Testing Set</th>\n",
       "      <td>9.973649</td>\n",
       "      <td>0.545387</td>\n",
       "    </tr>\n",
       "  </tbody>\n",
       "</table>\n",
       "</div>"
      ],
      "text/plain": [
       "                  RMSE        R2\n",
       "Training Set  8.799458  0.644711\n",
       "Testing Set   9.973649  0.545387"
      ]
     },
     "metadata": {},
     "output_type": "display_data"
    },
    {
     "name": "stdout",
     "output_type": "stream",
     "text": [
      "Model Performance for HCR and ICT access: Model SVRM5\n"
     ]
    },
    {
     "data": {
      "text/html": [
       "<div>\n",
       "<style scoped>\n",
       "    .dataframe tbody tr th:only-of-type {\n",
       "        vertical-align: middle;\n",
       "    }\n",
       "\n",
       "    .dataframe tbody tr th {\n",
       "        vertical-align: top;\n",
       "    }\n",
       "\n",
       "    .dataframe thead th {\n",
       "        text-align: right;\n",
       "    }\n",
       "</style>\n",
       "<table border=\"1\" class=\"dataframe\">\n",
       "  <thead>\n",
       "    <tr style=\"text-align: right;\">\n",
       "      <th></th>\n",
       "      <th>RMSE</th>\n",
       "      <th>R2</th>\n",
       "    </tr>\n",
       "  </thead>\n",
       "  <tbody>\n",
       "    <tr>\n",
       "      <th>Training Set</th>\n",
       "      <td>8.797700</td>\n",
       "      <td>0.644853</td>\n",
       "    </tr>\n",
       "    <tr>\n",
       "      <th>Testing Set</th>\n",
       "      <td>9.959429</td>\n",
       "      <td>0.546682</td>\n",
       "    </tr>\n",
       "  </tbody>\n",
       "</table>\n",
       "</div>"
      ],
      "text/plain": [
       "                  RMSE        R2\n",
       "Training Set  8.797700  0.644853\n",
       "Testing Set   9.959429  0.546682"
      ]
     },
     "metadata": {},
     "output_type": "display_data"
    },
    {
     "name": "stdout",
     "output_type": "stream",
     "text": [
      "Model Performance for HCR and Knowledge workers: Model SVRM5\n"
     ]
    },
    {
     "data": {
      "text/html": [
       "<div>\n",
       "<style scoped>\n",
       "    .dataframe tbody tr th:only-of-type {\n",
       "        vertical-align: middle;\n",
       "    }\n",
       "\n",
       "    .dataframe tbody tr th {\n",
       "        vertical-align: top;\n",
       "    }\n",
       "\n",
       "    .dataframe thead th {\n",
       "        text-align: right;\n",
       "    }\n",
       "</style>\n",
       "<table border=\"1\" class=\"dataframe\">\n",
       "  <thead>\n",
       "    <tr style=\"text-align: right;\">\n",
       "      <th></th>\n",
       "      <th>RMSE</th>\n",
       "      <th>R2</th>\n",
       "    </tr>\n",
       "  </thead>\n",
       "  <tbody>\n",
       "    <tr>\n",
       "      <th>Training Set</th>\n",
       "      <td>8.796201</td>\n",
       "      <td>0.644974</td>\n",
       "    </tr>\n",
       "    <tr>\n",
       "      <th>Testing Set</th>\n",
       "      <td>9.971373</td>\n",
       "      <td>0.545594</td>\n",
       "    </tr>\n",
       "  </tbody>\n",
       "</table>\n",
       "</div>"
      ],
      "text/plain": [
       "                  RMSE        R2\n",
       "Training Set  8.796201  0.644974\n",
       "Testing Set   9.971373  0.545594"
      ]
     },
     "metadata": {},
     "output_type": "display_data"
    }
   ],
   "source": [
    "trainingTestingA(XEdu2, Y2, 0, XEdu2N, \"SVRM5\", SVRM5)"
   ]
  },
  {
   "cell_type": "markdown",
   "metadata": {},
   "source": [
    "##### Model #4 Neural Networks"
   ]
  },
  {
   "cell_type": "code",
   "execution_count": 146,
   "metadata": {},
   "outputs": [
    {
     "name": "stdout",
     "output_type": "stream",
     "text": [
      "Model Performance for HCR and ICT use: Model MLP5\n"
     ]
    },
    {
     "data": {
      "text/html": [
       "<div>\n",
       "<style scoped>\n",
       "    .dataframe tbody tr th:only-of-type {\n",
       "        vertical-align: middle;\n",
       "    }\n",
       "\n",
       "    .dataframe tbody tr th {\n",
       "        vertical-align: top;\n",
       "    }\n",
       "\n",
       "    .dataframe thead th {\n",
       "        text-align: right;\n",
       "    }\n",
       "</style>\n",
       "<table border=\"1\" class=\"dataframe\">\n",
       "  <thead>\n",
       "    <tr style=\"text-align: right;\">\n",
       "      <th></th>\n",
       "      <th>RMSE</th>\n",
       "      <th>R2</th>\n",
       "    </tr>\n",
       "  </thead>\n",
       "  <tbody>\n",
       "    <tr>\n",
       "      <th>Training Set</th>\n",
       "      <td>8.296474</td>\n",
       "      <td>0.684168</td>\n",
       "    </tr>\n",
       "    <tr>\n",
       "      <th>Testing Set</th>\n",
       "      <td>9.402159</td>\n",
       "      <td>0.595993</td>\n",
       "    </tr>\n",
       "  </tbody>\n",
       "</table>\n",
       "</div>"
      ],
      "text/plain": [
       "                  RMSE        R2\n",
       "Training Set  8.296474  0.684168\n",
       "Testing Set   9.402159  0.595993"
      ]
     },
     "metadata": {},
     "output_type": "display_data"
    },
    {
     "name": "stdout",
     "output_type": "stream",
     "text": [
      "Model Performance for HCR and ICT access: Model MLP5\n"
     ]
    },
    {
     "data": {
      "text/html": [
       "<div>\n",
       "<style scoped>\n",
       "    .dataframe tbody tr th:only-of-type {\n",
       "        vertical-align: middle;\n",
       "    }\n",
       "\n",
       "    .dataframe tbody tr th {\n",
       "        vertical-align: top;\n",
       "    }\n",
       "\n",
       "    .dataframe thead th {\n",
       "        text-align: right;\n",
       "    }\n",
       "</style>\n",
       "<table border=\"1\" class=\"dataframe\">\n",
       "  <thead>\n",
       "    <tr style=\"text-align: right;\">\n",
       "      <th></th>\n",
       "      <th>RMSE</th>\n",
       "      <th>R2</th>\n",
       "    </tr>\n",
       "  </thead>\n",
       "  <tbody>\n",
       "    <tr>\n",
       "      <th>Training Set</th>\n",
       "      <td>8.339782</td>\n",
       "      <td>0.680862</td>\n",
       "    </tr>\n",
       "    <tr>\n",
       "      <th>Testing Set</th>\n",
       "      <td>9.339915</td>\n",
       "      <td>0.601324</td>\n",
       "    </tr>\n",
       "  </tbody>\n",
       "</table>\n",
       "</div>"
      ],
      "text/plain": [
       "                  RMSE        R2\n",
       "Training Set  8.339782  0.680862\n",
       "Testing Set   9.339915  0.601324"
      ]
     },
     "metadata": {},
     "output_type": "display_data"
    },
    {
     "name": "stdout",
     "output_type": "stream",
     "text": [
      "Model Performance for HCR and Knowledge workers: Model MLP5\n"
     ]
    },
    {
     "data": {
      "text/html": [
       "<div>\n",
       "<style scoped>\n",
       "    .dataframe tbody tr th:only-of-type {\n",
       "        vertical-align: middle;\n",
       "    }\n",
       "\n",
       "    .dataframe tbody tr th {\n",
       "        vertical-align: top;\n",
       "    }\n",
       "\n",
       "    .dataframe thead th {\n",
       "        text-align: right;\n",
       "    }\n",
       "</style>\n",
       "<table border=\"1\" class=\"dataframe\">\n",
       "  <thead>\n",
       "    <tr style=\"text-align: right;\">\n",
       "      <th></th>\n",
       "      <th>RMSE</th>\n",
       "      <th>R2</th>\n",
       "    </tr>\n",
       "  </thead>\n",
       "  <tbody>\n",
       "    <tr>\n",
       "      <th>Training Set</th>\n",
       "      <td>8.318626</td>\n",
       "      <td>0.682479</td>\n",
       "    </tr>\n",
       "    <tr>\n",
       "      <th>Testing Set</th>\n",
       "      <td>9.421643</td>\n",
       "      <td>0.594317</td>\n",
       "    </tr>\n",
       "  </tbody>\n",
       "</table>\n",
       "</div>"
      ],
      "text/plain": [
       "                  RMSE        R2\n",
       "Training Set  8.318626  0.682479\n",
       "Testing Set   9.421643  0.594317"
      ]
     },
     "metadata": {},
     "output_type": "display_data"
    }
   ],
   "source": [
    "trainingTestingA(XEdu2, Y2, 0, XEdu2N, \"MLP5\", MLP5)"
   ]
  },
  {
   "cell_type": "markdown",
   "metadata": {},
   "source": [
    "#### Multiple (2+) Predictors"
   ]
  },
  {
   "cell_type": "markdown",
   "metadata": {},
   "source": [
    "Al contrario de como se esperaba, generalmente dieron mejores resultados combinando workers con ICT use, cuando se esperaban mejores resultados con ICT use y access. En DT y RF se cumplió esto, mientras que en SVM estuvieron muy equitativos y en MLP los dos de ICT describieron mejor la educación además de ICT use y workers teniendo el peor desempeño de sus 3 combinaciones. Los mejores resultados fueron de Random Forest, que logró R2 muy buenos y uno excelente en training, aunque sólo regulares con uno muy bueno en testing."
   ]
  },
  {
   "cell_type": "markdown",
   "metadata": {},
   "source": [
    "##### Model #1 DecisionTree"
   ]
  },
  {
   "cell_type": "code",
   "execution_count": 168,
   "metadata": {},
   "outputs": [
    {
     "name": "stdout",
     "output_type": "stream",
     "text": [
      "Model Performance for HCR and ICT use + access: Model DTR5\n"
     ]
    },
    {
     "data": {
      "text/html": [
       "<div>\n",
       "<style scoped>\n",
       "    .dataframe tbody tr th:only-of-type {\n",
       "        vertical-align: middle;\n",
       "    }\n",
       "\n",
       "    .dataframe tbody tr th {\n",
       "        vertical-align: top;\n",
       "    }\n",
       "\n",
       "    .dataframe thead th {\n",
       "        text-align: right;\n",
       "    }\n",
       "</style>\n",
       "<table border=\"1\" class=\"dataframe\">\n",
       "  <thead>\n",
       "    <tr style=\"text-align: right;\">\n",
       "      <th></th>\n",
       "      <th>RMSE</th>\n",
       "      <th>R2</th>\n",
       "    </tr>\n",
       "  </thead>\n",
       "  <tbody>\n",
       "    <tr>\n",
       "      <th>Training Set</th>\n",
       "      <td>7.606601</td>\n",
       "      <td>0.734509</td>\n",
       "    </tr>\n",
       "    <tr>\n",
       "      <th>Testing Set</th>\n",
       "      <td>9.139447</td>\n",
       "      <td>0.618255</td>\n",
       "    </tr>\n",
       "  </tbody>\n",
       "</table>\n",
       "</div>"
      ],
      "text/plain": [
       "                  RMSE        R2\n",
       "Training Set  7.606601  0.734509\n",
       "Testing Set   9.139447  0.618255"
      ]
     },
     "metadata": {},
     "output_type": "display_data"
    },
    {
     "name": "stdout",
     "output_type": "stream",
     "text": [
      "Model Performance for HCR and ICT use + workers: Model DTR5\n"
     ]
    },
    {
     "data": {
      "text/html": [
       "<div>\n",
       "<style scoped>\n",
       "    .dataframe tbody tr th:only-of-type {\n",
       "        vertical-align: middle;\n",
       "    }\n",
       "\n",
       "    .dataframe tbody tr th {\n",
       "        vertical-align: top;\n",
       "    }\n",
       "\n",
       "    .dataframe thead th {\n",
       "        text-align: right;\n",
       "    }\n",
       "</style>\n",
       "<table border=\"1\" class=\"dataframe\">\n",
       "  <thead>\n",
       "    <tr style=\"text-align: right;\">\n",
       "      <th></th>\n",
       "      <th>RMSE</th>\n",
       "      <th>R2</th>\n",
       "    </tr>\n",
       "  </thead>\n",
       "  <tbody>\n",
       "    <tr>\n",
       "      <th>Training Set</th>\n",
       "      <td>7.606601</td>\n",
       "      <td>0.734509</td>\n",
       "    </tr>\n",
       "    <tr>\n",
       "      <th>Testing Set</th>\n",
       "      <td>9.139447</td>\n",
       "      <td>0.618255</td>\n",
       "    </tr>\n",
       "  </tbody>\n",
       "</table>\n",
       "</div>"
      ],
      "text/plain": [
       "                  RMSE        R2\n",
       "Training Set  7.606601  0.734509\n",
       "Testing Set   9.139447  0.618255"
      ]
     },
     "metadata": {},
     "output_type": "display_data"
    },
    {
     "name": "stdout",
     "output_type": "stream",
     "text": [
      "Model Performance for HCR and ICT access + workers: Model DTR5\n"
     ]
    },
    {
     "data": {
      "text/html": [
       "<div>\n",
       "<style scoped>\n",
       "    .dataframe tbody tr th:only-of-type {\n",
       "        vertical-align: middle;\n",
       "    }\n",
       "\n",
       "    .dataframe tbody tr th {\n",
       "        vertical-align: top;\n",
       "    }\n",
       "\n",
       "    .dataframe thead th {\n",
       "        text-align: right;\n",
       "    }\n",
       "</style>\n",
       "<table border=\"1\" class=\"dataframe\">\n",
       "  <thead>\n",
       "    <tr style=\"text-align: right;\">\n",
       "      <th></th>\n",
       "      <th>RMSE</th>\n",
       "      <th>R2</th>\n",
       "    </tr>\n",
       "  </thead>\n",
       "  <tbody>\n",
       "    <tr>\n",
       "      <th>Training Set</th>\n",
       "      <td>7.703523</td>\n",
       "      <td>0.727700</td>\n",
       "    </tr>\n",
       "    <tr>\n",
       "      <th>Testing Set</th>\n",
       "      <td>9.411742</td>\n",
       "      <td>0.595169</td>\n",
       "    </tr>\n",
       "  </tbody>\n",
       "</table>\n",
       "</div>"
      ],
      "text/plain": [
       "                  RMSE        R2\n",
       "Training Set  7.703523  0.727700\n",
       "Testing Set   9.411742  0.595169"
      ]
     },
     "metadata": {},
     "output_type": "display_data"
    }
   ],
   "source": [
    "trainingTestingA(XEdu3, Y2, 0, XEdu3N, \"DTR5\", DTR5)"
   ]
  },
  {
   "cell_type": "markdown",
   "metadata": {},
   "source": [
    "##### Model #2 Random Forest"
   ]
  },
  {
   "cell_type": "code",
   "execution_count": 170,
   "metadata": {},
   "outputs": [
    {
     "name": "stdout",
     "output_type": "stream",
     "text": [
      "Model Performance for HCR and ICT use + access: Model RFR4\n"
     ]
    },
    {
     "data": {
      "text/html": [
       "<div>\n",
       "<style scoped>\n",
       "    .dataframe tbody tr th:only-of-type {\n",
       "        vertical-align: middle;\n",
       "    }\n",
       "\n",
       "    .dataframe tbody tr th {\n",
       "        vertical-align: top;\n",
       "    }\n",
       "\n",
       "    .dataframe thead th {\n",
       "        text-align: right;\n",
       "    }\n",
       "</style>\n",
       "<table border=\"1\" class=\"dataframe\">\n",
       "  <thead>\n",
       "    <tr style=\"text-align: right;\">\n",
       "      <th></th>\n",
       "      <th>RMSE</th>\n",
       "      <th>R2</th>\n",
       "    </tr>\n",
       "  </thead>\n",
       "  <tbody>\n",
       "    <tr>\n",
       "      <th>Training Set</th>\n",
       "      <td>4.684058</td>\n",
       "      <td>0.899327</td>\n",
       "    </tr>\n",
       "    <tr>\n",
       "      <th>Testing Set</th>\n",
       "      <td>8.292004</td>\n",
       "      <td>0.685766</td>\n",
       "    </tr>\n",
       "  </tbody>\n",
       "</table>\n",
       "</div>"
      ],
      "text/plain": [
       "                  RMSE        R2\n",
       "Training Set  4.684058  0.899327\n",
       "Testing Set   8.292004  0.685766"
      ]
     },
     "metadata": {},
     "output_type": "display_data"
    },
    {
     "name": "stdout",
     "output_type": "stream",
     "text": [
      "Model Performance for HCR and ICT use + workers: Model RFR4\n"
     ]
    },
    {
     "data": {
      "text/html": [
       "<div>\n",
       "<style scoped>\n",
       "    .dataframe tbody tr th:only-of-type {\n",
       "        vertical-align: middle;\n",
       "    }\n",
       "\n",
       "    .dataframe tbody tr th {\n",
       "        vertical-align: top;\n",
       "    }\n",
       "\n",
       "    .dataframe thead th {\n",
       "        text-align: right;\n",
       "    }\n",
       "</style>\n",
       "<table border=\"1\" class=\"dataframe\">\n",
       "  <thead>\n",
       "    <tr style=\"text-align: right;\">\n",
       "      <th></th>\n",
       "      <th>RMSE</th>\n",
       "      <th>R2</th>\n",
       "    </tr>\n",
       "  </thead>\n",
       "  <tbody>\n",
       "    <tr>\n",
       "      <th>Training Set</th>\n",
       "      <td>4.470594</td>\n",
       "      <td>0.908294</td>\n",
       "    </tr>\n",
       "    <tr>\n",
       "      <th>Testing Set</th>\n",
       "      <td>8.065408</td>\n",
       "      <td>0.702706</td>\n",
       "    </tr>\n",
       "  </tbody>\n",
       "</table>\n",
       "</div>"
      ],
      "text/plain": [
       "                  RMSE        R2\n",
       "Training Set  4.470594  0.908294\n",
       "Testing Set   8.065408  0.702706"
      ]
     },
     "metadata": {},
     "output_type": "display_data"
    },
    {
     "name": "stdout",
     "output_type": "stream",
     "text": [
      "Model Performance for HCR and ICT access + workers: Model RFR4\n"
     ]
    },
    {
     "data": {
      "text/html": [
       "<div>\n",
       "<style scoped>\n",
       "    .dataframe tbody tr th:only-of-type {\n",
       "        vertical-align: middle;\n",
       "    }\n",
       "\n",
       "    .dataframe tbody tr th {\n",
       "        vertical-align: top;\n",
       "    }\n",
       "\n",
       "    .dataframe thead th {\n",
       "        text-align: right;\n",
       "    }\n",
       "</style>\n",
       "<table border=\"1\" class=\"dataframe\">\n",
       "  <thead>\n",
       "    <tr style=\"text-align: right;\">\n",
       "      <th></th>\n",
       "      <th>RMSE</th>\n",
       "      <th>R2</th>\n",
       "    </tr>\n",
       "  </thead>\n",
       "  <tbody>\n",
       "    <tr>\n",
       "      <th>Training Set</th>\n",
       "      <td>4.858263</td>\n",
       "      <td>0.891699</td>\n",
       "    </tr>\n",
       "    <tr>\n",
       "      <th>Testing Set</th>\n",
       "      <td>8.505545</td>\n",
       "      <td>0.669373</td>\n",
       "    </tr>\n",
       "  </tbody>\n",
       "</table>\n",
       "</div>"
      ],
      "text/plain": [
       "                  RMSE        R2\n",
       "Training Set  4.858263  0.891699\n",
       "Testing Set   8.505545  0.669373"
      ]
     },
     "metadata": {},
     "output_type": "display_data"
    }
   ],
   "source": [
    "trainingTestingA(XEdu3, Y2, 0, XEdu3N, \"RFR4\", RFR4)"
   ]
  },
  {
   "cell_type": "markdown",
   "metadata": {},
   "source": [
    "##### Model #3 Support Vector Machine (SVM)"
   ]
  },
  {
   "cell_type": "code",
   "execution_count": 171,
   "metadata": {},
   "outputs": [
    {
     "name": "stdout",
     "output_type": "stream",
     "text": [
      "Model Performance for HCR and ICT use + access: Model SVRM5\n"
     ]
    },
    {
     "data": {
      "text/html": [
       "<div>\n",
       "<style scoped>\n",
       "    .dataframe tbody tr th:only-of-type {\n",
       "        vertical-align: middle;\n",
       "    }\n",
       "\n",
       "    .dataframe tbody tr th {\n",
       "        vertical-align: top;\n",
       "    }\n",
       "\n",
       "    .dataframe thead th {\n",
       "        text-align: right;\n",
       "    }\n",
       "</style>\n",
       "<table border=\"1\" class=\"dataframe\">\n",
       "  <thead>\n",
       "    <tr style=\"text-align: right;\">\n",
       "      <th></th>\n",
       "      <th>RMSE</th>\n",
       "      <th>R2</th>\n",
       "    </tr>\n",
       "  </thead>\n",
       "  <tbody>\n",
       "    <tr>\n",
       "      <th>Training Set</th>\n",
       "      <td>8.807912</td>\n",
       "      <td>0.644028</td>\n",
       "    </tr>\n",
       "    <tr>\n",
       "      <th>Testing Set</th>\n",
       "      <td>9.999461</td>\n",
       "      <td>0.543031</td>\n",
       "    </tr>\n",
       "  </tbody>\n",
       "</table>\n",
       "</div>"
      ],
      "text/plain": [
       "                  RMSE        R2\n",
       "Training Set  8.807912  0.644028\n",
       "Testing Set   9.999461  0.543031"
      ]
     },
     "metadata": {},
     "output_type": "display_data"
    },
    {
     "name": "stdout",
     "output_type": "stream",
     "text": [
      "Model Performance for HCR and ICT use + workers: Model SVRM5\n"
     ]
    },
    {
     "data": {
      "text/html": [
       "<div>\n",
       "<style scoped>\n",
       "    .dataframe tbody tr th:only-of-type {\n",
       "        vertical-align: middle;\n",
       "    }\n",
       "\n",
       "    .dataframe tbody tr th {\n",
       "        vertical-align: top;\n",
       "    }\n",
       "\n",
       "    .dataframe thead th {\n",
       "        text-align: right;\n",
       "    }\n",
       "</style>\n",
       "<table border=\"1\" class=\"dataframe\">\n",
       "  <thead>\n",
       "    <tr style=\"text-align: right;\">\n",
       "      <th></th>\n",
       "      <th>RMSE</th>\n",
       "      <th>R2</th>\n",
       "    </tr>\n",
       "  </thead>\n",
       "  <tbody>\n",
       "    <tr>\n",
       "      <th>Training Set</th>\n",
       "      <td>8.791338</td>\n",
       "      <td>0.645367</td>\n",
       "    </tr>\n",
       "    <tr>\n",
       "      <th>Testing Set</th>\n",
       "      <td>9.949660</td>\n",
       "      <td>0.547571</td>\n",
       "    </tr>\n",
       "  </tbody>\n",
       "</table>\n",
       "</div>"
      ],
      "text/plain": [
       "                  RMSE        R2\n",
       "Training Set  8.791338  0.645367\n",
       "Testing Set   9.949660  0.547571"
      ]
     },
     "metadata": {},
     "output_type": "display_data"
    },
    {
     "name": "stdout",
     "output_type": "stream",
     "text": [
      "Model Performance for HCR and ICT access + workers: Model SVRM5\n"
     ]
    },
    {
     "data": {
      "text/html": [
       "<div>\n",
       "<style scoped>\n",
       "    .dataframe tbody tr th:only-of-type {\n",
       "        vertical-align: middle;\n",
       "    }\n",
       "\n",
       "    .dataframe tbody tr th {\n",
       "        vertical-align: top;\n",
       "    }\n",
       "\n",
       "    .dataframe thead th {\n",
       "        text-align: right;\n",
       "    }\n",
       "</style>\n",
       "<table border=\"1\" class=\"dataframe\">\n",
       "  <thead>\n",
       "    <tr style=\"text-align: right;\">\n",
       "      <th></th>\n",
       "      <th>RMSE</th>\n",
       "      <th>R2</th>\n",
       "    </tr>\n",
       "  </thead>\n",
       "  <tbody>\n",
       "    <tr>\n",
       "      <th>Training Set</th>\n",
       "      <td>8.794158</td>\n",
       "      <td>0.645139</td>\n",
       "    </tr>\n",
       "    <tr>\n",
       "      <th>Testing Set</th>\n",
       "      <td>9.966790</td>\n",
       "      <td>0.546012</td>\n",
       "    </tr>\n",
       "  </tbody>\n",
       "</table>\n",
       "</div>"
      ],
      "text/plain": [
       "                  RMSE        R2\n",
       "Training Set  8.794158  0.645139\n",
       "Testing Set   9.966790  0.546012"
      ]
     },
     "metadata": {},
     "output_type": "display_data"
    }
   ],
   "source": [
    "trainingTestingA(XEdu3, Y2, 0, XEdu3N, \"SVRM5\", SVRM5)"
   ]
  },
  {
   "cell_type": "markdown",
   "metadata": {},
   "source": [
    "##### Model #4 Neural Networks"
   ]
  },
  {
   "cell_type": "code",
   "execution_count": 183,
   "metadata": {},
   "outputs": [
    {
     "name": "stdout",
     "output_type": "stream",
     "text": [
      "Model Performance for HCR and ICT use + access: Model MLP2\n"
     ]
    },
    {
     "data": {
      "text/html": [
       "<div>\n",
       "<style scoped>\n",
       "    .dataframe tbody tr th:only-of-type {\n",
       "        vertical-align: middle;\n",
       "    }\n",
       "\n",
       "    .dataframe tbody tr th {\n",
       "        vertical-align: top;\n",
       "    }\n",
       "\n",
       "    .dataframe thead th {\n",
       "        text-align: right;\n",
       "    }\n",
       "</style>\n",
       "<table border=\"1\" class=\"dataframe\">\n",
       "  <thead>\n",
       "    <tr style=\"text-align: right;\">\n",
       "      <th></th>\n",
       "      <th>RMSE</th>\n",
       "      <th>R2</th>\n",
       "    </tr>\n",
       "  </thead>\n",
       "  <tbody>\n",
       "    <tr>\n",
       "      <th>Training Set</th>\n",
       "      <td>7.664689</td>\n",
       "      <td>0.730438</td>\n",
       "    </tr>\n",
       "    <tr>\n",
       "      <th>Testing Set</th>\n",
       "      <td>8.857556</td>\n",
       "      <td>0.641440</td>\n",
       "    </tr>\n",
       "  </tbody>\n",
       "</table>\n",
       "</div>"
      ],
      "text/plain": [
       "                  RMSE        R2\n",
       "Training Set  7.664689  0.730438\n",
       "Testing Set   8.857556  0.641440"
      ]
     },
     "metadata": {},
     "output_type": "display_data"
    },
    {
     "name": "stdout",
     "output_type": "stream",
     "text": [
      "Model Performance for HCR and ICT use + workers: Model MLP2\n"
     ]
    },
    {
     "data": {
      "text/html": [
       "<div>\n",
       "<style scoped>\n",
       "    .dataframe tbody tr th:only-of-type {\n",
       "        vertical-align: middle;\n",
       "    }\n",
       "\n",
       "    .dataframe tbody tr th {\n",
       "        vertical-align: top;\n",
       "    }\n",
       "\n",
       "    .dataframe thead th {\n",
       "        text-align: right;\n",
       "    }\n",
       "</style>\n",
       "<table border=\"1\" class=\"dataframe\">\n",
       "  <thead>\n",
       "    <tr style=\"text-align: right;\">\n",
       "      <th></th>\n",
       "      <th>RMSE</th>\n",
       "      <th>R2</th>\n",
       "    </tr>\n",
       "  </thead>\n",
       "  <tbody>\n",
       "    <tr>\n",
       "      <th>Training Set</th>\n",
       "      <td>7.767284</td>\n",
       "      <td>0.723173</td>\n",
       "    </tr>\n",
       "    <tr>\n",
       "      <th>Testing Set</th>\n",
       "      <td>9.120050</td>\n",
       "      <td>0.619873</td>\n",
       "    </tr>\n",
       "  </tbody>\n",
       "</table>\n",
       "</div>"
      ],
      "text/plain": [
       "                  RMSE        R2\n",
       "Training Set  7.767284  0.723173\n",
       "Testing Set   9.120050  0.619873"
      ]
     },
     "metadata": {},
     "output_type": "display_data"
    },
    {
     "name": "stdout",
     "output_type": "stream",
     "text": [
      "Model Performance for HCR and ICT access + workers: Model MLP2\n"
     ]
    },
    {
     "data": {
      "text/html": [
       "<div>\n",
       "<style scoped>\n",
       "    .dataframe tbody tr th:only-of-type {\n",
       "        vertical-align: middle;\n",
       "    }\n",
       "\n",
       "    .dataframe tbody tr th {\n",
       "        vertical-align: top;\n",
       "    }\n",
       "\n",
       "    .dataframe thead th {\n",
       "        text-align: right;\n",
       "    }\n",
       "</style>\n",
       "<table border=\"1\" class=\"dataframe\">\n",
       "  <thead>\n",
       "    <tr style=\"text-align: right;\">\n",
       "      <th></th>\n",
       "      <th>RMSE</th>\n",
       "      <th>R2</th>\n",
       "    </tr>\n",
       "  </thead>\n",
       "  <tbody>\n",
       "    <tr>\n",
       "      <th>Training Set</th>\n",
       "      <td>8.089255</td>\n",
       "      <td>0.699748</td>\n",
       "    </tr>\n",
       "    <tr>\n",
       "      <th>Testing Set</th>\n",
       "      <td>9.671026</td>\n",
       "      <td>0.572556</td>\n",
       "    </tr>\n",
       "  </tbody>\n",
       "</table>\n",
       "</div>"
      ],
      "text/plain": [
       "                  RMSE        R2\n",
       "Training Set  8.089255  0.699748\n",
       "Testing Set   9.671026  0.572556"
      ]
     },
     "metadata": {},
     "output_type": "display_data"
    }
   ],
   "source": [
    "trainingTestingA(XEdu3, Y2, 0, XEdu3N, \"MLP2\", MLP2)"
   ]
  },
  {
   "cell_type": "markdown",
   "metadata": {},
   "source": [
    "##### All models, all predictors"
   ]
  },
  {
   "cell_type": "code",
   "execution_count": null,
   "metadata": {},
   "outputs": [],
   "source": []
  },
  {
   "cell_type": "markdown",
   "metadata": {},
   "source": [
    "Se puede ver que el mejor modelo encontrado para las 4 variables fue el de Random Forest (mayor R2 menor error), seguido por el de DT, MLP, y SVM. La mayoría de los R2 en training fueron muy buenos, uno siendo excelente y el otro regular. En cuanto a testing, se conserva el orden mencionado al principio pero con MLP desempeñando mejor que en DT.\n",
    "\n",
    "Ya que el mejor resultado fue tr=.7067 test=.96 para los modelos con 4 variables en x, no se alcanzó a llegar a una combinación mayor a los resultados de \"Model Performance for HCR and ICT use + workers: Model RFR4\", que se hizo con tres variables siendo HCR, ITC use, Knowledge workers."
   ]
  },
  {
   "cell_type": "code",
   "execution_count": 202,
   "metadata": {},
   "outputs": [
    {
     "name": "stdout",
     "output_type": "stream",
     "text": [
      "Model Performance for ALL: Model DTR4\n"
     ]
    },
    {
     "data": {
      "text/html": [
       "<div>\n",
       "<style scoped>\n",
       "    .dataframe tbody tr th:only-of-type {\n",
       "        vertical-align: middle;\n",
       "    }\n",
       "\n",
       "    .dataframe tbody tr th {\n",
       "        vertical-align: top;\n",
       "    }\n",
       "\n",
       "    .dataframe thead th {\n",
       "        text-align: right;\n",
       "    }\n",
       "</style>\n",
       "<table border=\"1\" class=\"dataframe\">\n",
       "  <thead>\n",
       "    <tr style=\"text-align: right;\">\n",
       "      <th></th>\n",
       "      <th>RMSE</th>\n",
       "      <th>R2</th>\n",
       "    </tr>\n",
       "  </thead>\n",
       "  <tbody>\n",
       "    <tr>\n",
       "      <th>Training Set</th>\n",
       "      <td>7.28886</td>\n",
       "      <td>0.756225</td>\n",
       "    </tr>\n",
       "    <tr>\n",
       "      <th>Testing Set</th>\n",
       "      <td>9.13973</td>\n",
       "      <td>0.618231</td>\n",
       "    </tr>\n",
       "  </tbody>\n",
       "</table>\n",
       "</div>"
      ],
      "text/plain": [
       "                 RMSE        R2\n",
       "Training Set  7.28886  0.756225\n",
       "Testing Set   9.13973  0.618231"
      ]
     },
     "metadata": {},
     "output_type": "display_data"
    },
    {
     "name": "stdout",
     "output_type": "stream",
     "text": [
      "Model Performance for ALL: Model RFR3\n"
     ]
    },
    {
     "data": {
      "text/html": [
       "<div>\n",
       "<style scoped>\n",
       "    .dataframe tbody tr th:only-of-type {\n",
       "        vertical-align: middle;\n",
       "    }\n",
       "\n",
       "    .dataframe tbody tr th {\n",
       "        vertical-align: top;\n",
       "    }\n",
       "\n",
       "    .dataframe thead th {\n",
       "        text-align: right;\n",
       "    }\n",
       "</style>\n",
       "<table border=\"1\" class=\"dataframe\">\n",
       "  <thead>\n",
       "    <tr style=\"text-align: right;\">\n",
       "      <th></th>\n",
       "      <th>RMSE</th>\n",
       "      <th>R2</th>\n",
       "    </tr>\n",
       "  </thead>\n",
       "  <tbody>\n",
       "    <tr>\n",
       "      <th>Training Set</th>\n",
       "      <td>2.559655</td>\n",
       "      <td>0.969937</td>\n",
       "    </tr>\n",
       "    <tr>\n",
       "      <th>Testing Set</th>\n",
       "      <td>8.010547</td>\n",
       "      <td>0.706736</td>\n",
       "    </tr>\n",
       "  </tbody>\n",
       "</table>\n",
       "</div>"
      ],
      "text/plain": [
       "                  RMSE        R2\n",
       "Training Set  2.559655  0.969937\n",
       "Testing Set   8.010547  0.706736"
      ]
     },
     "metadata": {},
     "output_type": "display_data"
    },
    {
     "name": "stdout",
     "output_type": "stream",
     "text": [
      "Model Performance for ALL: Model SVRM5\n"
     ]
    },
    {
     "data": {
      "text/html": [
       "<div>\n",
       "<style scoped>\n",
       "    .dataframe tbody tr th:only-of-type {\n",
       "        vertical-align: middle;\n",
       "    }\n",
       "\n",
       "    .dataframe tbody tr th {\n",
       "        vertical-align: top;\n",
       "    }\n",
       "\n",
       "    .dataframe thead th {\n",
       "        text-align: right;\n",
       "    }\n",
       "</style>\n",
       "<table border=\"1\" class=\"dataframe\">\n",
       "  <thead>\n",
       "    <tr style=\"text-align: right;\">\n",
       "      <th></th>\n",
       "      <th>RMSE</th>\n",
       "      <th>R2</th>\n",
       "    </tr>\n",
       "  </thead>\n",
       "  <tbody>\n",
       "    <tr>\n",
       "      <th>Training Set</th>\n",
       "      <td>8.801569</td>\n",
       "      <td>0.644541</td>\n",
       "    </tr>\n",
       "    <tr>\n",
       "      <th>Testing Set</th>\n",
       "      <td>9.989687</td>\n",
       "      <td>0.543924</td>\n",
       "    </tr>\n",
       "  </tbody>\n",
       "</table>\n",
       "</div>"
      ],
      "text/plain": [
       "                  RMSE        R2\n",
       "Training Set  8.801569  0.644541\n",
       "Testing Set   9.989687  0.543924"
      ]
     },
     "metadata": {},
     "output_type": "display_data"
    },
    {
     "name": "stdout",
     "output_type": "stream",
     "text": [
      "Model Performance for ALL: Model MLP5\n"
     ]
    },
    {
     "data": {
      "text/html": [
       "<div>\n",
       "<style scoped>\n",
       "    .dataframe tbody tr th:only-of-type {\n",
       "        vertical-align: middle;\n",
       "    }\n",
       "\n",
       "    .dataframe tbody tr th {\n",
       "        vertical-align: top;\n",
       "    }\n",
       "\n",
       "    .dataframe thead th {\n",
       "        text-align: right;\n",
       "    }\n",
       "</style>\n",
       "<table border=\"1\" class=\"dataframe\">\n",
       "  <thead>\n",
       "    <tr style=\"text-align: right;\">\n",
       "      <th></th>\n",
       "      <th>RMSE</th>\n",
       "      <th>R2</th>\n",
       "    </tr>\n",
       "  </thead>\n",
       "  <tbody>\n",
       "    <tr>\n",
       "      <th>Training Set</th>\n",
       "      <td>7.757243</td>\n",
       "      <td>0.723889</td>\n",
       "    </tr>\n",
       "    <tr>\n",
       "      <th>Testing Set</th>\n",
       "      <td>8.813682</td>\n",
       "      <td>0.644983</td>\n",
       "    </tr>\n",
       "  </tbody>\n",
       "</table>\n",
       "</div>"
      ],
      "text/plain": [
       "                  RMSE        R2\n",
       "Training Set  7.757243  0.723889\n",
       "Testing Set   8.813682  0.644983"
      ]
     },
     "metadata": {},
     "output_type": "display_data"
    }
   ],
   "source": [
    "trainingTestingA([X_EDU_ALL], Y2, 0, [\"ALL\"], \"DTR4\", DTR4)\n",
    "trainingTestingA([X_EDU_ALL], Y2, 0, [\"ALL\"], \"RFR3\", RFR3)\n",
    "trainingTestingA([X_EDU_ALL], Y2, 0, [\"ALL\"], \"SVRM5\", SVRM5)\n",
    "trainingTestingA([X_EDU_ALL], Y2, 0, [\"ALL\"], \"MLP5\", MLP5)"
   ]
  },
  {
   "cell_type": "markdown",
   "metadata": {},
   "source": [
    "## Preguntas"
   ]
  },
  {
   "cell_type": "markdown",
   "metadata": {},
   "source": [
    "### Generales"
   ]
  },
  {
   "cell_type": "markdown",
   "metadata": {},
   "source": [
    "1. **¿Cuál es el problema que se quiere resolver?**  \n",
    "La tecnología se vuelve cada vez más relevante en nuestro mundo, por lo que es importante que los países estén dispuestos a mejorar partes de sus áreas para conseguir lograr una buena puntuación en innovación, de manera que las oportunidades de trabajo, estilo de vida y bienestar mejoren para sus ciudadanos. El problema consiste en identificar en qué se debería mayormente invertir.\n",
    "\n",
    "2. **¿Qué datos son necesarios y están disponibles para resolver el problema? ¿Existe un data set que se pueda utilizar?¿Es factible generar y construir un data set?**  \n",
    "Hay muchos datos en internet que tienen relación con la innovación y tecnología, aunque encontrar un dataset apropiado puede ser difícil debido a la falta de columnas o datos muy resumidos. Por eso construimos un dataset a partir de los csv que ofrece Global Innovation Index, rescatando el mayor número de columnas con datos concordantes entre años.\n",
    "\n",
    "3. **¿Qué tipos de análisis espera realizar con los datos?**  \n",
    "Se espera realizar un análisis de regresión.\n",
    "\n",
    "4. **¿Qué resultados se espera tener? ¿Cuál es el rendimiento mínimo que considera útil para su modelo?**   \n",
    "Se espera tener buenos resultados que den más del 80% e identificar principales predictores."
   ]
  },
  {
   "cell_type": "markdown",
   "metadata": {},
   "source": [
    "### Específicas"
   ]
  },
  {
   "cell_type": "markdown",
   "metadata": {},
   "source": [
    "8. **¿Cuáles son los valores promedios de las columnas?**  \n",
    "Se puede apreciar que la mayoría de las puntuaciones son menos o están en el promedio/mitad (50). Valores como business environment (70.77), ICT access (61.9), regulatory environment (65.68), sí se encuentran por arriba en las puntuaciones. Lo mismo se puede decir de los servicios online del gobierno e instituciones (64.97), facilidad de comenzar empresa (86), ambiente regulatorio (65.68). Eso puede indicar que la mayoría de los países tienen una puntuación decente en estas áreas."
   ]
  },
  {
   "cell_type": "code",
   "execution_count": 339,
   "metadata": {},
   "outputs": [
    {
     "data": {
      "text/html": [
       "<div>\n",
       "<style scoped>\n",
       "    .dataframe tbody tr th:only-of-type {\n",
       "        vertical-align: middle;\n",
       "    }\n",
       "\n",
       "    .dataframe tbody tr th {\n",
       "        vertical-align: top;\n",
       "    }\n",
       "\n",
       "    .dataframe thead th {\n",
       "        text-align: right;\n",
       "    }\n",
       "</style>\n",
       "<table border=\"1\" class=\"dataframe\">\n",
       "  <thead>\n",
       "    <tr style=\"text-align: right;\">\n",
       "      <th></th>\n",
       "      <th>Creative outputs</th>\n",
       "      <th>Knowledge impact</th>\n",
       "      <th>Innovation Input Sub-index</th>\n",
       "      <th>Rule of law</th>\n",
       "      <th>Research and development (R&amp;D)</th>\n",
       "      <th>Knowledge diffusion</th>\n",
       "      <th>Environmental performance</th>\n",
       "      <th>Education</th>\n",
       "      <th>Global Innovation Index</th>\n",
       "      <th>Human capital and research</th>\n",
       "      <th>Knowledge creation</th>\n",
       "      <th>Government's online service</th>\n",
       "      <th>Market sophistication</th>\n",
       "      <th>Knowledge absorption</th>\n",
       "      <th>Online creativity</th>\n",
       "      <th>Ease of protecting minority investors</th>\n",
       "      <th>Country</th>\n",
       "      <th>Infrastructure</th>\n",
       "      <th>Ease of starting a business</th>\n",
       "      <th>Business sophistication</th>\n",
       "      <th>Credit</th>\n",
       "      <th>Creative goods and services</th>\n",
       "      <th>Tertiary education</th>\n",
       "      <th>Ease of resolving insolvency</th>\n",
       "      <th>Information and communication technologies (ICTs)</th>\n",
       "      <th>Ease of getting credit</th>\n",
       "      <th>Innovation linkages</th>\n",
       "      <th>General infrastructure</th>\n",
       "      <th>Political environment</th>\n",
       "      <th>Investment</th>\n",
       "      <th>Logistics performance</th>\n",
       "      <th>Ecological sustainability</th>\n",
       "      <th>Institutions</th>\n",
       "      <th>ICT use</th>\n",
       "      <th>Regulatory environment</th>\n",
       "      <th>Regulatory quality</th>\n",
       "      <th>ICT access</th>\n",
       "      <th>Innovation Output Sub-index</th>\n",
       "      <th>Intangible assets</th>\n",
       "      <th>Knowledge and technology outputs</th>\n",
       "      <th>Business environment</th>\n",
       "      <th>Government effectiveness</th>\n",
       "      <th>Knowledge workers</th>\n",
       "    </tr>\n",
       "  </thead>\n",
       "  <tbody>\n",
       "    <tr>\n",
       "      <th>count</th>\n",
       "      <td>712.000000</td>\n",
       "      <td>712.000000</td>\n",
       "      <td>712.000000</td>\n",
       "      <td>712.000000</td>\n",
       "      <td>712.000000</td>\n",
       "      <td>712.000000</td>\n",
       "      <td>712.000000</td>\n",
       "      <td>712.000000</td>\n",
       "      <td>712.000000</td>\n",
       "      <td>712.000000</td>\n",
       "      <td>712.000000</td>\n",
       "      <td>712.000000</td>\n",
       "      <td>712.000000</td>\n",
       "      <td>712.000000</td>\n",
       "      <td>712.000000</td>\n",
       "      <td>712.000000</td>\n",
       "      <td>712.000000</td>\n",
       "      <td>712.000000</td>\n",
       "      <td>712.000000</td>\n",
       "      <td>712.000000</td>\n",
       "      <td>712.000000</td>\n",
       "      <td>712.000000</td>\n",
       "      <td>712.000000</td>\n",
       "      <td>712.000000</td>\n",
       "      <td>712.000000</td>\n",
       "      <td>712.000000</td>\n",
       "      <td>712.000000</td>\n",
       "      <td>712.000000</td>\n",
       "      <td>712.000000</td>\n",
       "      <td>712.000000</td>\n",
       "      <td>712.000000</td>\n",
       "      <td>712.000000</td>\n",
       "      <td>712.000000</td>\n",
       "      <td>712.000000</td>\n",
       "      <td>712.000000</td>\n",
       "      <td>712.000000</td>\n",
       "      <td>712.000000</td>\n",
       "      <td>712.000000</td>\n",
       "      <td>712.000000</td>\n",
       "      <td>712.000000</td>\n",
       "      <td>712.000000</td>\n",
       "      <td>712.000000</td>\n",
       "      <td>712.000000</td>\n",
       "    </tr>\n",
       "    <tr>\n",
       "      <th>mean</th>\n",
       "      <td>29.664466</td>\n",
       "      <td>31.903511</td>\n",
       "      <td>44.863062</td>\n",
       "      <td>50.556742</td>\n",
       "      <td>21.001124</td>\n",
       "      <td>25.933287</td>\n",
       "      <td>60.325843</td>\n",
       "      <td>47.158146</td>\n",
       "      <td>36.404775</td>\n",
       "      <td>33.659691</td>\n",
       "      <td>20.854635</td>\n",
       "      <td>64.128371</td>\n",
       "      <td>47.842837</td>\n",
       "      <td>32.347191</td>\n",
       "      <td>20.800000</td>\n",
       "      <td>58.477388</td>\n",
       "      <td>98.087079</td>\n",
       "      <td>44.522472</td>\n",
       "      <td>86.405197</td>\n",
       "      <td>33.312921</td>\n",
       "      <td>40.062360</td>\n",
       "      <td>20.170646</td>\n",
       "      <td>32.651685</td>\n",
       "      <td>54.695787</td>\n",
       "      <td>60.224438</td>\n",
       "      <td>60.140449</td>\n",
       "      <td>29.517978</td>\n",
       "      <td>34.774719</td>\n",
       "      <td>58.450983</td>\n",
       "      <td>40.494242</td>\n",
       "      <td>45.065449</td>\n",
       "      <td>38.568539</td>\n",
       "      <td>64.972051</td>\n",
       "      <td>50.138483</td>\n",
       "      <td>65.687360</td>\n",
       "      <td>51.012500</td>\n",
       "      <td>61.911376</td>\n",
       "      <td>27.945927</td>\n",
       "      <td>38.841573</td>\n",
       "      <td>26.230197</td>\n",
       "      <td>70.776124</td>\n",
       "      <td>52.773876</td>\n",
       "      <td>38.071067</td>\n",
       "    </tr>\n",
       "    <tr>\n",
       "      <th>std</th>\n",
       "      <td>13.444796</td>\n",
       "      <td>13.911993</td>\n",
       "      <td>11.935563</td>\n",
       "      <td>24.922070</td>\n",
       "      <td>24.556287</td>\n",
       "      <td>15.897965</td>\n",
       "      <td>17.348415</td>\n",
       "      <td>14.790721</td>\n",
       "      <td>12.136400</td>\n",
       "      <td>15.383024</td>\n",
       "      <td>19.979070</td>\n",
       "      <td>22.499079</td>\n",
       "      <td>10.885412</td>\n",
       "      <td>12.331163</td>\n",
       "      <td>19.860232</td>\n",
       "      <td>14.479678</td>\n",
       "      <td>58.638570</td>\n",
       "      <td>12.506148</td>\n",
       "      <td>8.670487</td>\n",
       "      <td>12.913305</td>\n",
       "      <td>16.316346</td>\n",
       "      <td>14.147798</td>\n",
       "      <td>16.026705</td>\n",
       "      <td>19.293426</td>\n",
       "      <td>20.617811</td>\n",
       "      <td>20.470416</td>\n",
       "      <td>14.302163</td>\n",
       "      <td>13.007197</td>\n",
       "      <td>19.136559</td>\n",
       "      <td>14.449708</td>\n",
       "      <td>25.956088</td>\n",
       "      <td>13.557852</td>\n",
       "      <td>14.758755</td>\n",
       "      <td>24.367185</td>\n",
       "      <td>17.498397</td>\n",
       "      <td>22.726181</td>\n",
       "      <td>20.106239</td>\n",
       "      <td>13.024325</td>\n",
       "      <td>14.789931</td>\n",
       "      <td>13.996090</td>\n",
       "      <td>11.920850</td>\n",
       "      <td>21.878109</td>\n",
       "      <td>18.520183</td>\n",
       "    </tr>\n",
       "    <tr>\n",
       "      <th>min</th>\n",
       "      <td>0.600000</td>\n",
       "      <td>0.800000</td>\n",
       "      <td>19.900000</td>\n",
       "      <td>0.000000</td>\n",
       "      <td>0.000000</td>\n",
       "      <td>0.300000</td>\n",
       "      <td>0.000000</td>\n",
       "      <td>0.000000</td>\n",
       "      <td>13.600000</td>\n",
       "      <td>1.400000</td>\n",
       "      <td>0.400000</td>\n",
       "      <td>0.000000</td>\n",
       "      <td>19.600000</td>\n",
       "      <td>11.400000</td>\n",
       "      <td>0.000000</td>\n",
       "      <td>10.000000</td>\n",
       "      <td>0.000000</td>\n",
       "      <td>14.000000</td>\n",
       "      <td>40.400000</td>\n",
       "      <td>8.700000</td>\n",
       "      <td>0.200000</td>\n",
       "      <td>0.000000</td>\n",
       "      <td>0.000000</td>\n",
       "      <td>0.000000</td>\n",
       "      <td>9.400000</td>\n",
       "      <td>0.000000</td>\n",
       "      <td>1.200000</td>\n",
       "      <td>0.200000</td>\n",
       "      <td>0.000000</td>\n",
       "      <td>4.000000</td>\n",
       "      <td>0.000000</td>\n",
       "      <td>12.700000</td>\n",
       "      <td>16.000000</td>\n",
       "      <td>1.400000</td>\n",
       "      <td>0.000000</td>\n",
       "      <td>0.000000</td>\n",
       "      <td>16.700000</td>\n",
       "      <td>5.600000</td>\n",
       "      <td>0.000000</td>\n",
       "      <td>2.000000</td>\n",
       "      <td>24.400000</td>\n",
       "      <td>0.000000</td>\n",
       "      <td>0.000000</td>\n",
       "    </tr>\n",
       "    <tr>\n",
       "      <th>25%</th>\n",
       "      <td>19.200000</td>\n",
       "      <td>23.000000</td>\n",
       "      <td>35.600000</td>\n",
       "      <td>30.975000</td>\n",
       "      <td>2.000000</td>\n",
       "      <td>14.775000</td>\n",
       "      <td>46.475000</td>\n",
       "      <td>36.700000</td>\n",
       "      <td>27.000000</td>\n",
       "      <td>21.100000</td>\n",
       "      <td>5.700000</td>\n",
       "      <td>49.375000</td>\n",
       "      <td>40.900000</td>\n",
       "      <td>22.600000</td>\n",
       "      <td>5.000000</td>\n",
       "      <td>48.300000</td>\n",
       "      <td>45.000000</td>\n",
       "      <td>35.575000</td>\n",
       "      <td>82.275000</td>\n",
       "      <td>23.875000</td>\n",
       "      <td>29.300000</td>\n",
       "      <td>7.800000</td>\n",
       "      <td>21.575000</td>\n",
       "      <td>40.350000</td>\n",
       "      <td>44.025000</td>\n",
       "      <td>45.000000</td>\n",
       "      <td>19.000000</td>\n",
       "      <td>25.450000</td>\n",
       "      <td>43.800000</td>\n",
       "      <td>30.975000</td>\n",
       "      <td>24.675000</td>\n",
       "      <td>28.050000</td>\n",
       "      <td>53.375000</td>\n",
       "      <td>30.275000</td>\n",
       "      <td>54.300000</td>\n",
       "      <td>33.700000</td>\n",
       "      <td>45.575000</td>\n",
       "      <td>17.775000</td>\n",
       "      <td>28.675000</td>\n",
       "      <td>15.775000</td>\n",
       "      <td>61.600000</td>\n",
       "      <td>36.150000</td>\n",
       "      <td>23.775000</td>\n",
       "    </tr>\n",
       "    <tr>\n",
       "      <th>50%</th>\n",
       "      <td>28.100000</td>\n",
       "      <td>33.000000</td>\n",
       "      <td>42.850000</td>\n",
       "      <td>44.750000</td>\n",
       "      <td>9.050000</td>\n",
       "      <td>21.300000</td>\n",
       "      <td>62.300000</td>\n",
       "      <td>48.400000</td>\n",
       "      <td>34.000000</td>\n",
       "      <td>31.800000</td>\n",
       "      <td>12.900000</td>\n",
       "      <td>66.700000</td>\n",
       "      <td>46.650000</td>\n",
       "      <td>31.100000</td>\n",
       "      <td>14.050000</td>\n",
       "      <td>60.000000</td>\n",
       "      <td>97.000000</td>\n",
       "      <td>45.000000</td>\n",
       "      <td>88.200000</td>\n",
       "      <td>30.200000</td>\n",
       "      <td>38.400000</td>\n",
       "      <td>19.050000</td>\n",
       "      <td>34.100000</td>\n",
       "      <td>52.900000</td>\n",
       "      <td>63.150000</td>\n",
       "      <td>60.000000</td>\n",
       "      <td>25.350000</td>\n",
       "      <td>33.100000</td>\n",
       "      <td>55.700000</td>\n",
       "      <td>38.400000</td>\n",
       "      <td>39.800000</td>\n",
       "      <td>38.000000</td>\n",
       "      <td>63.650000</td>\n",
       "      <td>53.300000</td>\n",
       "      <td>66.350000</td>\n",
       "      <td>47.900000</td>\n",
       "      <td>66.450000</td>\n",
       "      <td>25.400000</td>\n",
       "      <td>38.900000</td>\n",
       "      <td>22.750000</td>\n",
       "      <td>71.350000</td>\n",
       "      <td>49.400000</td>\n",
       "      <td>36.400000</td>\n",
       "    </tr>\n",
       "    <tr>\n",
       "      <th>75%</th>\n",
       "      <td>39.200000</td>\n",
       "      <td>41.425000</td>\n",
       "      <td>53.250000</td>\n",
       "      <td>70.125000</td>\n",
       "      <td>35.675000</td>\n",
       "      <td>33.050000</td>\n",
       "      <td>74.300000</td>\n",
       "      <td>57.700000</td>\n",
       "      <td>45.325000</td>\n",
       "      <td>44.750000</td>\n",
       "      <td>30.900000</td>\n",
       "      <td>81.900000</td>\n",
       "      <td>53.950000</td>\n",
       "      <td>39.325000</td>\n",
       "      <td>31.225000</td>\n",
       "      <td>68.300000</td>\n",
       "      <td>147.000000</td>\n",
       "      <td>54.200000</td>\n",
       "      <td>93.000000</td>\n",
       "      <td>40.325000</td>\n",
       "      <td>48.950000</td>\n",
       "      <td>30.600000</td>\n",
       "      <td>43.550000</td>\n",
       "      <td>70.325000</td>\n",
       "      <td>77.200000</td>\n",
       "      <td>75.000000</td>\n",
       "      <td>38.500000</td>\n",
       "      <td>43.275000</td>\n",
       "      <td>74.900000</td>\n",
       "      <td>46.750000</td>\n",
       "      <td>63.000000</td>\n",
       "      <td>49.500000</td>\n",
       "      <td>76.600000</td>\n",
       "      <td>70.750000</td>\n",
       "      <td>78.100000</td>\n",
       "      <td>69.900000</td>\n",
       "      <td>78.925000</td>\n",
       "      <td>37.200000</td>\n",
       "      <td>49.100000</td>\n",
       "      <td>33.900000</td>\n",
       "      <td>80.300000</td>\n",
       "      <td>70.525000</td>\n",
       "      <td>50.875000</td>\n",
       "    </tr>\n",
       "    <tr>\n",
       "      <th>max</th>\n",
       "      <td>69.500000</td>\n",
       "      <td>67.000000</td>\n",
       "      <td>74.200000</td>\n",
       "      <td>100.000000</td>\n",
       "      <td>89.800000</td>\n",
       "      <td>86.800000</td>\n",
       "      <td>90.700000</td>\n",
       "      <td>92.200000</td>\n",
       "      <td>68.400000</td>\n",
       "      <td>73.300000</td>\n",
       "      <td>89.900000</td>\n",
       "      <td>100.000000</td>\n",
       "      <td>87.000000</td>\n",
       "      <td>78.000000</td>\n",
       "      <td>95.300000</td>\n",
       "      <td>92.000000</td>\n",
       "      <td>207.000000</td>\n",
       "      <td>69.900000</td>\n",
       "      <td>100.000000</td>\n",
       "      <td>68.800000</td>\n",
       "      <td>94.600000</td>\n",
       "      <td>64.400000</td>\n",
       "      <td>100.000000</td>\n",
       "      <td>93.900000</td>\n",
       "      <td>94.800000</td>\n",
       "      <td>100.000000</td>\n",
       "      <td>100.000000</td>\n",
       "      <td>75.400000</td>\n",
       "      <td>100.000000</td>\n",
       "      <td>93.600000</td>\n",
       "      <td>100.000000</td>\n",
       "      <td>81.600000</td>\n",
       "      <td>95.100000</td>\n",
       "      <td>90.400000</td>\n",
       "      <td>99.100000</td>\n",
       "      <td>100.000000</td>\n",
       "      <td>95.400000</td>\n",
       "      <td>67.100000</td>\n",
       "      <td>77.600000</td>\n",
       "      <td>74.900000</td>\n",
       "      <td>93.100000</td>\n",
       "      <td>100.000000</td>\n",
       "      <td>85.800000</td>\n",
       "    </tr>\n",
       "  </tbody>\n",
       "</table>\n",
       "</div>"
      ],
      "text/plain": [
       "0      Creative outputs  Knowledge impact  Innovation Input Sub-index  \\\n",
       "count        712.000000        712.000000                  712.000000   \n",
       "mean          29.664466         31.903511                   44.863062   \n",
       "std           13.444796         13.911993                   11.935563   \n",
       "min            0.600000          0.800000                   19.900000   \n",
       "25%           19.200000         23.000000                   35.600000   \n",
       "50%           28.100000         33.000000                   42.850000   \n",
       "75%           39.200000         41.425000                   53.250000   \n",
       "max           69.500000         67.000000                   74.200000   \n",
       "\n",
       "0      Rule of law  Research and development (R&D)  Knowledge diffusion  \\\n",
       "count   712.000000                      712.000000           712.000000   \n",
       "mean     50.556742                       21.001124            25.933287   \n",
       "std      24.922070                       24.556287            15.897965   \n",
       "min       0.000000                        0.000000             0.300000   \n",
       "25%      30.975000                        2.000000            14.775000   \n",
       "50%      44.750000                        9.050000            21.300000   \n",
       "75%      70.125000                       35.675000            33.050000   \n",
       "max     100.000000                       89.800000            86.800000   \n",
       "\n",
       "0      Environmental performance   Education  Global Innovation Index  \\\n",
       "count                 712.000000  712.000000               712.000000   \n",
       "mean                   60.325843   47.158146                36.404775   \n",
       "std                    17.348415   14.790721                12.136400   \n",
       "min                     0.000000    0.000000                13.600000   \n",
       "25%                    46.475000   36.700000                27.000000   \n",
       "50%                    62.300000   48.400000                34.000000   \n",
       "75%                    74.300000   57.700000                45.325000   \n",
       "max                    90.700000   92.200000                68.400000   \n",
       "\n",
       "0      Human capital and research  Knowledge creation  \\\n",
       "count                  712.000000          712.000000   \n",
       "mean                    33.659691           20.854635   \n",
       "std                     15.383024           19.979070   \n",
       "min                      1.400000            0.400000   \n",
       "25%                     21.100000            5.700000   \n",
       "50%                     31.800000           12.900000   \n",
       "75%                     44.750000           30.900000   \n",
       "max                     73.300000           89.900000   \n",
       "\n",
       "0      Government's online service  Market sophistication  \\\n",
       "count                   712.000000             712.000000   \n",
       "mean                     64.128371              47.842837   \n",
       "std                      22.499079              10.885412   \n",
       "min                       0.000000              19.600000   \n",
       "25%                      49.375000              40.900000   \n",
       "50%                      66.700000              46.650000   \n",
       "75%                      81.900000              53.950000   \n",
       "max                     100.000000              87.000000   \n",
       "\n",
       "0      Knowledge absorption  Online creativity  \\\n",
       "count            712.000000         712.000000   \n",
       "mean              32.347191          20.800000   \n",
       "std               12.331163          19.860232   \n",
       "min               11.400000           0.000000   \n",
       "25%               22.600000           5.000000   \n",
       "50%               31.100000          14.050000   \n",
       "75%               39.325000          31.225000   \n",
       "max               78.000000          95.300000   \n",
       "\n",
       "0      Ease of protecting minority investors     Country  Infrastructure  \\\n",
       "count                             712.000000  712.000000      712.000000   \n",
       "mean                               58.477388   98.087079       44.522472   \n",
       "std                                14.479678   58.638570       12.506148   \n",
       "min                                10.000000    0.000000       14.000000   \n",
       "25%                                48.300000   45.000000       35.575000   \n",
       "50%                                60.000000   97.000000       45.000000   \n",
       "75%                                68.300000  147.000000       54.200000   \n",
       "max                                92.000000  207.000000       69.900000   \n",
       "\n",
       "0      Ease of starting a business  Business sophistication      Credit  \\\n",
       "count                   712.000000               712.000000  712.000000   \n",
       "mean                     86.405197                33.312921   40.062360   \n",
       "std                       8.670487                12.913305   16.316346   \n",
       "min                      40.400000                 8.700000    0.200000   \n",
       "25%                      82.275000                23.875000   29.300000   \n",
       "50%                      88.200000                30.200000   38.400000   \n",
       "75%                      93.000000                40.325000   48.950000   \n",
       "max                     100.000000                68.800000   94.600000   \n",
       "\n",
       "0      Creative goods and services  Tertiary education  \\\n",
       "count                   712.000000          712.000000   \n",
       "mean                     20.170646           32.651685   \n",
       "std                      14.147798           16.026705   \n",
       "min                       0.000000            0.000000   \n",
       "25%                       7.800000           21.575000   \n",
       "50%                      19.050000           34.100000   \n",
       "75%                      30.600000           43.550000   \n",
       "max                      64.400000          100.000000   \n",
       "\n",
       "0      Ease of resolving insolvency  \\\n",
       "count                    712.000000   \n",
       "mean                      54.695787   \n",
       "std                       19.293426   \n",
       "min                        0.000000   \n",
       "25%                       40.350000   \n",
       "50%                       52.900000   \n",
       "75%                       70.325000   \n",
       "max                       93.900000   \n",
       "\n",
       "0      Information and communication technologies (ICTs)  \\\n",
       "count                                         712.000000   \n",
       "mean                                           60.224438   \n",
       "std                                            20.617811   \n",
       "min                                             9.400000   \n",
       "25%                                            44.025000   \n",
       "50%                                            63.150000   \n",
       "75%                                            77.200000   \n",
       "max                                            94.800000   \n",
       "\n",
       "0      Ease of getting credit  Innovation linkages  General infrastructure  \\\n",
       "count              712.000000           712.000000              712.000000   \n",
       "mean                60.140449            29.517978               34.774719   \n",
       "std                 20.470416            14.302163               13.007197   \n",
       "min                  0.000000             1.200000                0.200000   \n",
       "25%                 45.000000            19.000000               25.450000   \n",
       "50%                 60.000000            25.350000               33.100000   \n",
       "75%                 75.000000            38.500000               43.275000   \n",
       "max                100.000000           100.000000               75.400000   \n",
       "\n",
       "0      Political environment  Investment  Logistics performance  \\\n",
       "count             712.000000  712.000000             712.000000   \n",
       "mean               58.450983   40.494242              45.065449   \n",
       "std                19.136559   14.449708              25.956088   \n",
       "min                 0.000000    4.000000               0.000000   \n",
       "25%                43.800000   30.975000              24.675000   \n",
       "50%                55.700000   38.400000              39.800000   \n",
       "75%                74.900000   46.750000              63.000000   \n",
       "max               100.000000   93.600000             100.000000   \n",
       "\n",
       "0      Ecological sustainability  Institutions     ICT use  \\\n",
       "count                 712.000000    712.000000  712.000000   \n",
       "mean                   38.568539     64.972051   50.138483   \n",
       "std                    13.557852     14.758755   24.367185   \n",
       "min                    12.700000     16.000000    1.400000   \n",
       "25%                    28.050000     53.375000   30.275000   \n",
       "50%                    38.000000     63.650000   53.300000   \n",
       "75%                    49.500000     76.600000   70.750000   \n",
       "max                    81.600000     95.100000   90.400000   \n",
       "\n",
       "0      Regulatory environment  Regulatory quality  ICT access  \\\n",
       "count              712.000000          712.000000  712.000000   \n",
       "mean                65.687360           51.012500   61.911376   \n",
       "std                 17.498397           22.726181   20.106239   \n",
       "min                  0.000000            0.000000   16.700000   \n",
       "25%                 54.300000           33.700000   45.575000   \n",
       "50%                 66.350000           47.900000   66.450000   \n",
       "75%                 78.100000           69.900000   78.925000   \n",
       "max                 99.100000          100.000000   95.400000   \n",
       "\n",
       "0      Innovation Output Sub-index  Intangible assets  \\\n",
       "count                   712.000000         712.000000   \n",
       "mean                     27.945927          38.841573   \n",
       "std                      13.024325          14.789931   \n",
       "min                       5.600000           0.000000   \n",
       "25%                      17.775000          28.675000   \n",
       "50%                      25.400000          38.900000   \n",
       "75%                      37.200000          49.100000   \n",
       "max                      67.100000          77.600000   \n",
       "\n",
       "0      Knowledge and technology outputs  Business environment  \\\n",
       "count                        712.000000            712.000000   \n",
       "mean                          26.230197             70.776124   \n",
       "std                           13.996090             11.920850   \n",
       "min                            2.000000             24.400000   \n",
       "25%                           15.775000             61.600000   \n",
       "50%                           22.750000             71.350000   \n",
       "75%                           33.900000             80.300000   \n",
       "max                           74.900000             93.100000   \n",
       "\n",
       "0      Government effectiveness  Knowledge workers  \n",
       "count                712.000000         712.000000  \n",
       "mean                  52.773876          38.071067  \n",
       "std                   21.878109          18.520183  \n",
       "min                    0.000000           0.000000  \n",
       "25%                   36.150000          23.775000  \n",
       "50%                   49.400000          36.400000  \n",
       "75%                   70.525000          50.875000  \n",
       "max                  100.000000          85.800000  "
      ]
     },
     "execution_count": 339,
     "metadata": {},
     "output_type": "execute_result"
    }
   ],
   "source": [
    "# Mostrar todas las columnas\n",
    "pd.set_option('display.max_columns', None)\n",
    "df.describe()"
   ]
  },
  {
   "cell_type": "markdown",
   "metadata": {},
   "source": [
    "8. **¿Cuáles son los países es los que tiene puntuación más alta en ITC?**"
   ]
  },
  {
   "cell_type": "markdown",
   "metadata": {},
   "source": [
    "La república de Corea y Qatar son los dos países con mayor puntuación. De donde van decreciendo las puntuaciones gradualmente hasta llegar a Tonga, donde por ejemplo 3 lugares más abajo hay una diferencia de .5 mientras que con Corea hay una de 1.8. Analizando Corea, se ve que sus campos más significativos son la efectividad de gobierno, business y political environment, acceso y uso de ICTs, Ease of resolving insolvency y de empezar una empresa, Research and development (R&D), y la más destacada, servicios online del gobierno con una puntuación de 100.\n",
    "\n",
    "Como se ve, variables como Institutions (cercana a 80), Regulatory quality(71.5), Rule of law (78.2), Government effectiveness (81.2), que se usaron como predictores secundarios, son todos valores aceptablemente altos."
   ]
  },
  {
   "cell_type": "code",
   "execution_count": 332,
   "metadata": {},
   "outputs": [
    {
     "data": {
      "text/html": [
       "<div>\n",
       "<style scoped>\n",
       "    .dataframe tbody tr th:only-of-type {\n",
       "        vertical-align: middle;\n",
       "    }\n",
       "\n",
       "    .dataframe tbody tr th {\n",
       "        vertical-align: top;\n",
       "    }\n",
       "\n",
       "    .dataframe thead th {\n",
       "        text-align: right;\n",
       "    }\n",
       "</style>\n",
       "<table border=\"1\" class=\"dataframe\">\n",
       "  <thead>\n",
       "    <tr style=\"text-align: right;\">\n",
       "      <th></th>\n",
       "      <th>Country</th>\n",
       "      <th>Information and communication technologies (ICTs)</th>\n",
       "    </tr>\n",
       "  </thead>\n",
       "  <tbody>\n",
       "    <tr>\n",
       "      <th>151</th>\n",
       "      <td>Republic of Korea</td>\n",
       "      <td>94.8</td>\n",
       "    </tr>\n",
       "    <tr>\n",
       "      <th>150</th>\n",
       "      <td>Qatar</td>\n",
       "      <td>94.0</td>\n",
       "    </tr>\n",
       "    <tr>\n",
       "      <th>196</th>\n",
       "      <td>United Kingdom</td>\n",
       "      <td>93.4</td>\n",
       "    </tr>\n",
       "    <tr>\n",
       "      <th>195</th>\n",
       "      <td>United Arab Emirates (the)</td>\n",
       "      <td>93.0</td>\n",
       "    </tr>\n",
       "    <tr>\n",
       "      <th>94</th>\n",
       "      <td>Kenya</td>\n",
       "      <td>92.9</td>\n",
       "    </tr>\n",
       "    <tr>\n",
       "      <th>93</th>\n",
       "      <td>Kazakhstan</td>\n",
       "      <td>91.6</td>\n",
       "    </tr>\n",
       "    <tr>\n",
       "      <th>186</th>\n",
       "      <td>Tonga</td>\n",
       "      <td>90.6</td>\n",
       "    </tr>\n",
       "    <tr>\n",
       "      <th>130</th>\n",
       "      <td>Netherlands (the)</td>\n",
       "      <td>90.5</td>\n",
       "    </tr>\n",
       "    <tr>\n",
       "      <th>123</th>\n",
       "      <td>Montserrat</td>\n",
       "      <td>90.1</td>\n",
       "    </tr>\n",
       "    <tr>\n",
       "      <th>200</th>\n",
       "      <td>United States of America</td>\n",
       "      <td>90.1</td>\n",
       "    </tr>\n",
       "  </tbody>\n",
       "</table>\n",
       "</div>"
      ],
      "text/plain": [
       "0                       Country  \\\n",
       "151           Republic of Korea   \n",
       "150                       Qatar   \n",
       "196              United Kingdom   \n",
       "195  United Arab Emirates (the)   \n",
       "94                        Kenya   \n",
       "93                   Kazakhstan   \n",
       "186                       Tonga   \n",
       "130           Netherlands (the)   \n",
       "123                  Montserrat   \n",
       "200    United States of America   \n",
       "\n",
       "0    Information and communication technologies (ICTs)  \n",
       "151                                               94.8  \n",
       "150                                               94.0  \n",
       "196                                               93.4  \n",
       "195                                               93.0  \n",
       "94                                                92.9  \n",
       "93                                                91.6  \n",
       "186                                               90.6  \n",
       "130                                               90.5  \n",
       "123                                               90.1  \n",
       "200                                               90.1  "
      ]
     },
     "execution_count": 332,
     "metadata": {},
     "output_type": "execute_result"
    }
   ],
   "source": [
    "# Obtenemos los países cuya puntuación esté entre las mayores\n",
    "hITC = df.groupby('Country').first().reset_index().sort_values('Information and communication technologies (ICTs)', ascending=False)[['Country', 'Information and communication technologies (ICTs)']]\n",
    "hITC.loc[hITC['Information and communication technologies (ICTs)'].astype(float) >df['Information and communication technologies (ICTs)'].mean()][['Country', 'Information and communication technologies (ICTs)']].replace({\"Country\": Countries}).head(10)"
   ]
  },
  {
   "cell_type": "code",
   "execution_count": 321,
   "metadata": {},
   "outputs": [
    {
     "data": {
      "text/plain": [
       "'Republic of Korea'"
      ]
     },
     "execution_count": 321,
     "metadata": {},
     "output_type": "execute_result"
    }
   ],
   "source": [
    "cmax = df.loc[df['Information and communication technologies (ICTs)'].idxmax()]['Country']\n",
    "Countries[int(cmax)]"
   ]
  },
  {
   "cell_type": "code",
   "execution_count": 340,
   "metadata": {},
   "outputs": [
    {
     "data": {
      "text/html": [
       "<div>\n",
       "<style scoped>\n",
       "    .dataframe tbody tr th:only-of-type {\n",
       "        vertical-align: middle;\n",
       "    }\n",
       "\n",
       "    .dataframe tbody tr th {\n",
       "        vertical-align: top;\n",
       "    }\n",
       "\n",
       "    .dataframe thead th {\n",
       "        text-align: right;\n",
       "    }\n",
       "</style>\n",
       "<table border=\"1\" class=\"dataframe\">\n",
       "  <thead>\n",
       "    <tr style=\"text-align: right;\">\n",
       "      <th></th>\n",
       "      <th>Country</th>\n",
       "      <th>Creative outputs</th>\n",
       "      <th>Knowledge impact</th>\n",
       "      <th>Innovation Input Sub-index</th>\n",
       "      <th>Rule of law</th>\n",
       "      <th>Research and development (R&amp;D)</th>\n",
       "      <th>Knowledge diffusion</th>\n",
       "      <th>Environmental performance</th>\n",
       "      <th>Education</th>\n",
       "      <th>Global Innovation Index</th>\n",
       "      <th>Human capital and research</th>\n",
       "      <th>Knowledge creation</th>\n",
       "      <th>Government's online service</th>\n",
       "      <th>Market sophistication</th>\n",
       "      <th>Knowledge absorption</th>\n",
       "      <th>Online creativity</th>\n",
       "      <th>Ease of protecting minority investors</th>\n",
       "      <th>Infrastructure</th>\n",
       "      <th>Ease of starting a business</th>\n",
       "      <th>Business sophistication</th>\n",
       "      <th>Credit</th>\n",
       "      <th>Creative goods and services</th>\n",
       "      <th>Tertiary education</th>\n",
       "      <th>Ease of resolving insolvency</th>\n",
       "      <th>Information and communication technologies (ICTs)</th>\n",
       "      <th>Ease of getting credit</th>\n",
       "      <th>Innovation linkages</th>\n",
       "      <th>General infrastructure</th>\n",
       "      <th>Political environment</th>\n",
       "      <th>Investment</th>\n",
       "      <th>Logistics performance</th>\n",
       "      <th>Ecological sustainability</th>\n",
       "      <th>Institutions</th>\n",
       "      <th>ICT use</th>\n",
       "      <th>Regulatory environment</th>\n",
       "      <th>Regulatory quality</th>\n",
       "      <th>ICT access</th>\n",
       "      <th>Innovation Output Sub-index</th>\n",
       "      <th>Intangible assets</th>\n",
       "      <th>Knowledge and technology outputs</th>\n",
       "      <th>Business environment</th>\n",
       "      <th>Government effectiveness</th>\n",
       "      <th>Knowledge workers</th>\n",
       "    </tr>\n",
       "  </thead>\n",
       "  <tbody>\n",
       "    <tr>\n",
       "      <th>151</th>\n",
       "      <td>151.0</td>\n",
       "      <td>52.1</td>\n",
       "      <td>40.0</td>\n",
       "      <td>65.2</td>\n",
       "      <td>78.2</td>\n",
       "      <td>89.8</td>\n",
       "      <td>57.2</td>\n",
       "      <td>66.5</td>\n",
       "      <td>61.5</td>\n",
       "      <td>59.3</td>\n",
       "      <td>67.4</td>\n",
       "      <td>66.1</td>\n",
       "      <td>100.0</td>\n",
       "      <td>60.0</td>\n",
       "      <td>54.0</td>\n",
       "      <td>28.1</td>\n",
       "      <td>74.0</td>\n",
       "      <td>59.2</td>\n",
       "      <td>93.4</td>\n",
       "      <td>60.1</td>\n",
       "      <td>64.2</td>\n",
       "      <td>32.4</td>\n",
       "      <td>51.0</td>\n",
       "      <td>82.9</td>\n",
       "      <td>94.8</td>\n",
       "      <td>65.0</td>\n",
       "      <td>48.3</td>\n",
       "      <td>49.4</td>\n",
       "      <td>82.1</td>\n",
       "      <td>31.5</td>\n",
       "      <td>72.7</td>\n",
       "      <td>33.4</td>\n",
       "      <td>79.5</td>\n",
       "      <td>89.1</td>\n",
       "      <td>68.2</td>\n",
       "      <td>71.5</td>\n",
       "      <td>90.0</td>\n",
       "      <td>53.3</td>\n",
       "      <td>74.1</td>\n",
       "      <td>54.5</td>\n",
       "      <td>88.1</td>\n",
       "      <td>81.2</td>\n",
       "      <td>78.1</td>\n",
       "    </tr>\n",
       "  </tbody>\n",
       "</table>\n",
       "</div>"
      ],
      "text/plain": [
       "0    Country  Creative outputs  Knowledge impact  Innovation Input Sub-index  \\\n",
       "151    151.0              52.1              40.0                        65.2   \n",
       "\n",
       "0    Rule of law  Research and development (R&D)  Knowledge diffusion  \\\n",
       "151         78.2                            89.8                 57.2   \n",
       "\n",
       "0    Environmental performance  Education  Global Innovation Index  \\\n",
       "151                       66.5       61.5                     59.3   \n",
       "\n",
       "0    Human capital and research  Knowledge creation  \\\n",
       "151                        67.4                66.1   \n",
       "\n",
       "0    Government's online service  Market sophistication  Knowledge absorption  \\\n",
       "151                        100.0                   60.0                  54.0   \n",
       "\n",
       "0    Online creativity  Ease of protecting minority investors  Infrastructure  \\\n",
       "151               28.1                                   74.0            59.2   \n",
       "\n",
       "0    Ease of starting a business  Business sophistication  Credit  \\\n",
       "151                         93.4                     60.1    64.2   \n",
       "\n",
       "0    Creative goods and services  Tertiary education  \\\n",
       "151                         32.4                51.0   \n",
       "\n",
       "0    Ease of resolving insolvency  \\\n",
       "151                          82.9   \n",
       "\n",
       "0    Information and communication technologies (ICTs)  \\\n",
       "151                                               94.8   \n",
       "\n",
       "0    Ease of getting credit  Innovation linkages  General infrastructure  \\\n",
       "151                    65.0                 48.3                    49.4   \n",
       "\n",
       "0    Political environment  Investment  Logistics performance  \\\n",
       "151                   82.1        31.5                   72.7   \n",
       "\n",
       "0    Ecological sustainability  Institutions  ICT use  Regulatory environment  \\\n",
       "151                       33.4          79.5     89.1                    68.2   \n",
       "\n",
       "0    Regulatory quality  ICT access  Innovation Output Sub-index  \\\n",
       "151                71.5        90.0                         53.3   \n",
       "\n",
       "0    Intangible assets  Knowledge and technology outputs  \\\n",
       "151               74.1                              54.5   \n",
       "\n",
       "0    Business environment  Government effectiveness  Knowledge workers  \n",
       "151                  88.1                      81.2               78.1  "
      ]
     },
     "execution_count": 340,
     "metadata": {},
     "output_type": "execute_result"
    }
   ],
   "source": [
    "# Obtenemos todos los registros\n",
    "groupdf = df.groupby('Country').first().reset_index()\n",
    "groupdf = groupdf.loc[groupdf['Country'] == cmax]\n",
    "\n",
    "groupdf.head()"
   ]
  },
  {
   "cell_type": "markdown",
   "metadata": {},
   "source": [
    "9. **¿Cuáles son los países que tienen puntuación más baja en ITC?**  \n",
    "Bajo el mismo análisis, se tiene a Namibia como el país con menor ICT, con una diferencia de alrededor de 3 puntos menos que el penúltimo país con peor ICT (Guatemala). Al analizar a Namibia, se ve que todos sus valores son muy bajos, con excepción de 86.2 para facilidad de empezar una empresa, ambiente empresarial (58.9) y ambiente regulado con 55.4. Ya que se tiene un enfoque a las empresas junto con un puntaje de 30.6 para sofistificación de negocios, se podría especular que aunque este es medianamente bueno, no está enfocado a algún aspecto tecnológico. Muy pocos tienen acceso a ITCs (20.4) y una mínima parte realmente los usa (1.4). Por consecuente, ninguno de los índices para ICTs es alto o promedio.  \n",
    "Igualmente se puede especular que las ICTs van fuertemente de la mano con todos los índices, en donde si aumenta ICT, aumentarán los demás indicadores de innovación."
   ]
  },
  {
   "cell_type": "code",
   "execution_count": 333,
   "metadata": {},
   "outputs": [
    {
     "data": {
      "text/html": [
       "<div>\n",
       "<style scoped>\n",
       "    .dataframe tbody tr th:only-of-type {\n",
       "        vertical-align: middle;\n",
       "    }\n",
       "\n",
       "    .dataframe tbody tr th {\n",
       "        vertical-align: top;\n",
       "    }\n",
       "\n",
       "    .dataframe thead th {\n",
       "        text-align: right;\n",
       "    }\n",
       "</style>\n",
       "<table border=\"1\" class=\"dataframe\">\n",
       "  <thead>\n",
       "    <tr style=\"text-align: right;\">\n",
       "      <th></th>\n",
       "      <th>Country</th>\n",
       "      <th>Information and communication technologies (ICTs)</th>\n",
       "    </tr>\n",
       "  </thead>\n",
       "  <tbody>\n",
       "    <tr>\n",
       "      <th>127</th>\n",
       "      <td>Namibia</td>\n",
       "      <td>9.4</td>\n",
       "    </tr>\n",
       "    <tr>\n",
       "      <th>72</th>\n",
       "      <td>Guatemala</td>\n",
       "      <td>12.3</td>\n",
       "    </tr>\n",
       "    <tr>\n",
       "      <th>179</th>\n",
       "      <td>Switzerland</td>\n",
       "      <td>12.5</td>\n",
       "    </tr>\n",
       "    <tr>\n",
       "      <th>28</th>\n",
       "      <td>Burkina Faso</td>\n",
       "      <td>14.0</td>\n",
       "    </tr>\n",
       "    <tr>\n",
       "      <th>204</th>\n",
       "      <td>Viet Nam</td>\n",
       "      <td>14.7</td>\n",
       "    </tr>\n",
       "    <tr>\n",
       "      <th>19</th>\n",
       "      <td>Benin</td>\n",
       "      <td>15.6</td>\n",
       "    </tr>\n",
       "    <tr>\n",
       "      <th>105</th>\n",
       "      <td>Liechtenstein</td>\n",
       "      <td>16.0</td>\n",
       "    </tr>\n",
       "    <tr>\n",
       "      <th>31</th>\n",
       "      <td>Cambodia</td>\n",
       "      <td>16.8</td>\n",
       "    </tr>\n",
       "    <tr>\n",
       "      <th>108</th>\n",
       "      <td>Macao</td>\n",
       "      <td>17.4</td>\n",
       "    </tr>\n",
       "    <tr>\n",
       "      <th>8</th>\n",
       "      <td>Algeria</td>\n",
       "      <td>18.4</td>\n",
       "    </tr>\n",
       "  </tbody>\n",
       "</table>\n",
       "</div>"
      ],
      "text/plain": [
       "0          Country  Information and communication technologies (ICTs)\n",
       "127        Namibia                                                9.4\n",
       "72       Guatemala                                               12.3\n",
       "179    Switzerland                                               12.5\n",
       "28    Burkina Faso                                               14.0\n",
       "204       Viet Nam                                               14.7\n",
       "19           Benin                                               15.6\n",
       "105  Liechtenstein                                               16.0\n",
       "31        Cambodia                                               16.8\n",
       "108          Macao                                               17.4\n",
       "8          Algeria                                               18.4"
      ]
     },
     "execution_count": 333,
     "metadata": {},
     "output_type": "execute_result"
    }
   ],
   "source": [
    "# Obtenemos los países cuya puntuación esté entre las menores\n",
    "# Obtenemos los países cuya puntuación esté entre las mayores\n",
    "hITC2 = hITC.sort_values('Information and communication technologies (ICTs)', ascending=True)\n",
    "hITC2.loc[hITC2['Information and communication technologies (ICTs)'].astype(float) < df['Information and communication technologies (ICTs)'].mean()][['Country', 'Information and communication technologies (ICTs)']].replace({\"Country\": Countries}).head(10)"
   ]
  },
  {
   "cell_type": "code",
   "execution_count": 148,
   "metadata": {},
   "outputs": [
    {
     "data": {
      "text/plain": [
       "'Namibia'"
      ]
     },
     "execution_count": 148,
     "metadata": {},
     "output_type": "execute_result"
    }
   ],
   "source": [
    "# Obtenemos el town cuyo índice sea el mínimo\n",
    "cmin = df.loc[df['Information and communication technologies (ICTs)'].idxmin()]['Country']\n",
    "Countries[int(cmin)]"
   ]
  },
  {
   "cell_type": "code",
   "execution_count": 351,
   "metadata": {},
   "outputs": [
    {
     "data": {
      "text/html": [
       "<div>\n",
       "<style scoped>\n",
       "    .dataframe tbody tr th:only-of-type {\n",
       "        vertical-align: middle;\n",
       "    }\n",
       "\n",
       "    .dataframe tbody tr th {\n",
       "        vertical-align: top;\n",
       "    }\n",
       "\n",
       "    .dataframe thead th {\n",
       "        text-align: right;\n",
       "    }\n",
       "</style>\n",
       "<table border=\"1\" class=\"dataframe\">\n",
       "  <thead>\n",
       "    <tr style=\"text-align: right;\">\n",
       "      <th></th>\n",
       "      <th>Country</th>\n",
       "      <th>Creative outputs</th>\n",
       "      <th>Knowledge impact</th>\n",
       "      <th>Innovation Input Sub-index</th>\n",
       "      <th>Rule of law</th>\n",
       "      <th>Research and development (R&amp;D)</th>\n",
       "      <th>Knowledge diffusion</th>\n",
       "      <th>Environmental performance</th>\n",
       "      <th>Education</th>\n",
       "      <th>Global Innovation Index</th>\n",
       "      <th>Human capital and research</th>\n",
       "      <th>Knowledge creation</th>\n",
       "      <th>Government's online service</th>\n",
       "      <th>Market sophistication</th>\n",
       "      <th>Knowledge absorption</th>\n",
       "      <th>Online creativity</th>\n",
       "      <th>Ease of protecting minority investors</th>\n",
       "      <th>Infrastructure</th>\n",
       "      <th>Ease of starting a business</th>\n",
       "      <th>Business sophistication</th>\n",
       "      <th>Credit</th>\n",
       "      <th>Creative goods and services</th>\n",
       "      <th>Tertiary education</th>\n",
       "      <th>Ease of resolving insolvency</th>\n",
       "      <th>Information and communication technologies (ICTs)</th>\n",
       "      <th>Ease of getting credit</th>\n",
       "      <th>Innovation linkages</th>\n",
       "      <th>General infrastructure</th>\n",
       "      <th>Political environment</th>\n",
       "      <th>Investment</th>\n",
       "      <th>Logistics performance</th>\n",
       "      <th>Ecological sustainability</th>\n",
       "      <th>Institutions</th>\n",
       "      <th>ICT use</th>\n",
       "      <th>Regulatory environment</th>\n",
       "      <th>Regulatory quality</th>\n",
       "      <th>ICT access</th>\n",
       "      <th>Innovation Output Sub-index</th>\n",
       "      <th>Intangible assets</th>\n",
       "      <th>Knowledge and technology outputs</th>\n",
       "      <th>Business environment</th>\n",
       "      <th>Government effectiveness</th>\n",
       "      <th>Knowledge workers</th>\n",
       "    </tr>\n",
       "  </thead>\n",
       "  <tbody>\n",
       "    <tr>\n",
       "      <th>127</th>\n",
       "      <td>127.0</td>\n",
       "      <td>2.7</td>\n",
       "      <td>26.9</td>\n",
       "      <td>31.2</td>\n",
       "      <td>21.7</td>\n",
       "      <td>0.0</td>\n",
       "      <td>29.0</td>\n",
       "      <td>37.5</td>\n",
       "      <td>52.9</td>\n",
       "      <td>21.2</td>\n",
       "      <td>20.6</td>\n",
       "      <td>3.2</td>\n",
       "      <td>7.3</td>\n",
       "      <td>28.0</td>\n",
       "      <td>52.1</td>\n",
       "      <td>0.3</td>\n",
       "      <td>40.0</td>\n",
       "      <td>27.5</td>\n",
       "      <td>86.2</td>\n",
       "      <td>30.6</td>\n",
       "      <td>16.1</td>\n",
       "      <td>10.2</td>\n",
       "      <td>9.0</td>\n",
       "      <td>40.4</td>\n",
       "      <td>9.4</td>\n",
       "      <td>30.0</td>\n",
       "      <td>1.9</td>\n",
       "      <td>49.9</td>\n",
       "      <td>33.3</td>\n",
       "      <td>40.0</td>\n",
       "      <td>23.1</td>\n",
       "      <td>23.1</td>\n",
       "      <td>49.2</td>\n",
       "      <td>1.4</td>\n",
       "      <td>55.4</td>\n",
       "      <td>23.6</td>\n",
       "      <td>20.4</td>\n",
       "      <td>11.2</td>\n",
       "      <td>0.0</td>\n",
       "      <td>19.7</td>\n",
       "      <td>58.9</td>\n",
       "      <td>26.6</td>\n",
       "      <td>37.9</td>\n",
       "    </tr>\n",
       "  </tbody>\n",
       "</table>\n",
       "</div>"
      ],
      "text/plain": [
       "0    Country  Creative outputs  Knowledge impact  Innovation Input Sub-index  \\\n",
       "127    127.0               2.7              26.9                        31.2   \n",
       "\n",
       "0    Rule of law  Research and development (R&D)  Knowledge diffusion  \\\n",
       "127         21.7                             0.0                 29.0   \n",
       "\n",
       "0    Environmental performance  Education  Global Innovation Index  \\\n",
       "127                       37.5       52.9                     21.2   \n",
       "\n",
       "0    Human capital and research  Knowledge creation  \\\n",
       "127                        20.6                 3.2   \n",
       "\n",
       "0    Government's online service  Market sophistication  Knowledge absorption  \\\n",
       "127                          7.3                   28.0                  52.1   \n",
       "\n",
       "0    Online creativity  Ease of protecting minority investors  Infrastructure  \\\n",
       "127                0.3                                   40.0            27.5   \n",
       "\n",
       "0    Ease of starting a business  Business sophistication  Credit  \\\n",
       "127                         86.2                     30.6    16.1   \n",
       "\n",
       "0    Creative goods and services  Tertiary education  \\\n",
       "127                         10.2                 9.0   \n",
       "\n",
       "0    Ease of resolving insolvency  \\\n",
       "127                          40.4   \n",
       "\n",
       "0    Information and communication technologies (ICTs)  \\\n",
       "127                                                9.4   \n",
       "\n",
       "0    Ease of getting credit  Innovation linkages  General infrastructure  \\\n",
       "127                    30.0                  1.9                    49.9   \n",
       "\n",
       "0    Political environment  Investment  Logistics performance  \\\n",
       "127                   33.3        40.0                   23.1   \n",
       "\n",
       "0    Ecological sustainability  Institutions  ICT use  Regulatory environment  \\\n",
       "127                       23.1          49.2      1.4                    55.4   \n",
       "\n",
       "0    Regulatory quality  ICT access  Innovation Output Sub-index  \\\n",
       "127                23.6        20.4                         11.2   \n",
       "\n",
       "0    Intangible assets  Knowledge and technology outputs  \\\n",
       "127                0.0                              19.7   \n",
       "\n",
       "0    Business environment  Government effectiveness  Knowledge workers  \n",
       "127                  58.9                      26.6               37.9  "
      ]
     },
     "execution_count": 351,
     "metadata": {},
     "output_type": "execute_result"
    }
   ],
   "source": [
    "# Obtenemos todos los registros\n",
    "groupdf2= df.groupby('Country').first().reset_index()\n",
    "groupdf2 = groupdf2.loc[groupdf2['Country'] == cmin]\n",
    "\n",
    "groupdf2.head()"
   ]
  },
  {
   "cell_type": "markdown",
   "metadata": {},
   "source": [
    "10. **¿Qué se puede concluir?** \n",
    " \n",
    "En general el desempeño de los modelos dependió de la situación en el que se les usara. SVM tuvo un excelente desempeño al probar todas las variables como X. Pero después obtuvo resultados regulares o insatisfactorios. RF fue el modelo que mejor desempeñó a lo largo de cada situación, siendo consistente y obteniendo resultados muy buenos. DT tuvo un desempeño consistente, siendo entre regular y muy bueno. Por último, MLP tuvo resultados buenos en las preguntas de ICT, pero un desempeño mayormente insatisfactorio en educación.\n",
    "\n",
    "Como se pudo ver, hay una fuerte correlación entre las variables de este dataset, y ciertamente todas conforman el índice de innovación. Cada una refleja de cierta manera lo que se define entonces como innovación. Nosotros escogimos las tecnologías de información y comunicación dado que son más prevalentes en nuestro día a día, y fuera de saber que existe una correlación en obviedades, este proyecto pone en luz la importancia de la inversión y participación del gobierno para sacar a sus ciudadanos adelante. La buena planificación gubernamental y seguimiento de leyes fueron buenos predictores de las tecnologías, aunque por supuesto las decisiones de los países deben estar unidas bajo este propósito, puesto que se necesitan de más factores para una estimación más acertada.  \n",
    "\n",
    "Por otro lado, dos de las variables con más correlación con la educación era el acceso y el uso de las ITC. Esto indica que estos fenómenos se comportan de una manera similar, por lo que nos lleva a pensar que una inversión en la tecnología, es también una inversión en la educación y el futuro."
   ]
  },
  {
   "cell_type": "markdown",
   "metadata": {},
   "source": [
    "11. **Mejoras**  \n",
    "\n",
    "Creemos que tener disponibles todas las columnas del dataset original nos hubiera dado más variedad de predictores que pudieramos haber elegido, pero nos encontramos con diferencias entre los datos encontrados y se dificultaba la adaptación del csv y manejo de columnas o valores faltantes. Creemos que se pueden hacer aún más pruebas para mejorar los resultados, sin embargo creemos que hay un límite entre combinación de variables, ya que se suelen complementar para dar el valor que buscamos. Por último, un dataset con mayor cantidad de datos daría información más confiable."
   ]
  },
  {
   "cell_type": "markdown",
   "metadata": {},
   "source": [
    "## References"
   ]
  },
  {
   "cell_type": "markdown",
   "metadata": {},
   "source": [
    "Dataset obtenido de:<hr>\n",
    "Global Innovation Index. (2022). Analysis. Recuperado de: https://www.globalinnovationindex.org/analysis-indicator\n",
    "<hr>\n"
   ]
  },
  {
   "cell_type": "markdown",
   "metadata": {},
   "source": [
    "\n",
    "1. Lubascher, B. (2019). How to adjust the hyperparameters of MLP classifier to get more perfect performance. Recuperado de: https://datascience.stackexchange.com/a/36087\n"
   ]
  },
  {
   "cell_type": "markdown",
   "metadata": {},
   "source": [
    "\n",
    "2. Marques, A. (2020). How to show all columns / rows of a Pandas Dataframe? Recuperado de: https://towardsdatascience.com/how-to-show-all-columns-rows-of-a-pandas-dataframe-c49d4507fcf\n"
   ]
  },
  {
   "cell_type": "markdown",
   "metadata": {},
   "source": [
    "3. Pandas. (2022). DataFrame. Recuperado de: https://pandas.pydata.org/docs/reference/frame.html"
   ]
  },
  {
   "cell_type": "markdown",
   "metadata": {},
   "source": [
    "4. piRSquared. (2016). Can pandas read a transposed CSV? Recuperado de: https://stackoverflow.com/a/39381666/13282304"
   ]
  }
 ],
 "metadata": {
  "interpreter": {
   "hash": "498cc7baa86d349c4936134328814e532a1d77a0c0949c12214c3e7da3053f05"
  },
  "kernelspec": {
   "display_name": "Python 3.7.11 ('DeepEnvirom')",
   "language": "python",
   "name": "python3"
  },
  "language_info": {
   "codemirror_mode": {
    "name": "ipython",
    "version": 3
   },
   "file_extension": ".py",
   "mimetype": "text/x-python",
   "name": "python",
   "nbconvert_exporter": "python",
   "pygments_lexer": "ipython3",
   "version": "3.8.12"
  },
  "orig_nbformat": 4
 },
 "nbformat": 4,
 "nbformat_minor": 2
}
